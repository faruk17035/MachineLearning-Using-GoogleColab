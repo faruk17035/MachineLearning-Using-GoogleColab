{
  "nbformat": 4,
  "nbformat_minor": 0,
  "metadata": {
    "colab": {
      "name": "Acc 70_14_CNN S_tr_PosiNega.ipynb",
      "provenance": [],
      "authorship_tag": "ABX9TyMTK1l4hU1Tw68JRl+NWM/I",
      "include_colab_link": true
    },
    "kernelspec": {
      "name": "python3",
      "display_name": "Python 3"
    },
    "language_info": {
      "name": "python"
    },
    "accelerator": "GPU"
  },
  "cells": [
    {
      "cell_type": "markdown",
      "metadata": {
        "id": "view-in-github",
        "colab_type": "text"
      },
      "source": [
        "<a href=\"https://colab.research.google.com/github/faruk17035/MachineLearning-Using-GoogleColab/blob/main/Acc_70_14_CNN_S_tr_PosiNega.ipynb\" target=\"_parent\"><img src=\"https://colab.research.google.com/assets/colab-badge.svg\" alt=\"Open In Colab\"/></a>"
      ]
    },
    {
      "cell_type": "code",
      "metadata": {
        "id": "SrZdnYrv_5vi"
      },
      "source": [
        "\n",
        "import numpy as np\n",
        "import matplotlib.pyplot as plt\n",
        "import pandas as pd"
      ],
      "execution_count": 1,
      "outputs": []
    },
    {
      "cell_type": "code",
      "metadata": {
        "colab": {
          "base_uri": "https://localhost:8080/"
        },
        "id": "AiSlOqfqAN-8",
        "outputId": "ee6d3fe5-d057-443f-fdc3-28c1aa8a27c3"
      },
      "source": [
        "from google.colab import drive \n",
        "drive.mount('/content/gdrive')"
      ],
      "execution_count": 2,
      "outputs": [
        {
          "output_type": "stream",
          "text": [
            "Mounted at /content/gdrive\n"
          ],
          "name": "stdout"
        }
      ]
    },
    {
      "cell_type": "code",
      "metadata": {
        "colab": {
          "base_uri": "https://localhost:8080/"
        },
        "id": "kzuSu_-sAQry",
        "outputId": "5a6cfa7a-50c0-4cd4-846f-4eebf5cadbe8"
      },
      "source": [
        "import pandas as pd\n",
        "from pandas import read_excel\n",
        "file_name = '/content/gdrive/MyDrive/S_tr_PosiNega.csv' \n",
        "df = pd.read_csv(file_name, index_col=0)\n",
        "print(df.head()) # print the first 5 rows"
      ],
      "execution_count": 3,
      "outputs": [
        {
          "output_type": "stream",
          "text": [
            "        AC     AD     AE     AF     AG  ...     YT     YV   YW   YY  Target\n",
            "AA                                      ...                                \n",
            "0.009  0.0  0.011  0.006  0.003  0.003  ...  0.003  0.006  0.0  0.0       1\n",
            "0.000  0.0  0.004  0.004  0.000  0.000  ...  0.000  0.008  0.0  0.0       1\n",
            "0.000  0.0  0.000  0.000  0.000  0.000  ...  0.000  0.000  0.0  0.0       1\n",
            "0.000  0.0  0.000  0.015  0.000  0.015  ...  0.000  0.000  0.0  0.0       1\n",
            "0.000  0.0  0.000  0.000  0.000  0.007  ...  0.000  0.000  0.0  0.0       1\n",
            "\n",
            "[5 rows x 400 columns]\n"
          ],
          "name": "stdout"
        }
      ]
    },
    {
      "cell_type": "code",
      "metadata": {
        "id": "5zmoF0LZAtNc"
      },
      "source": [
        "#Split data into independent (X) and dependent(Y) columns\n",
        "\n",
        "y = df['Target'].values\n",
        "X = df.drop('Target', axis=1).values"
      ],
      "execution_count": 42,
      "outputs": []
    },
    {
      "cell_type": "code",
      "metadata": {
        "id": "YCylE031AylV"
      },
      "source": [
        "from sklearn.model_selection import train_test_split\n",
        "X_train, X_test, y_train, y_test = train_test_split(X, y, test_size = 0.10, random_state = 20)"
      ],
      "execution_count": 52,
      "outputs": []
    },
    {
      "cell_type": "code",
      "metadata": {
        "colab": {
          "base_uri": "https://localhost:8080/"
        },
        "id": "zHg90cnSA090",
        "outputId": "572fc18a-1c63-4161-ff13-153292c11c9c"
      },
      "source": [
        "print(X_train.shape)\n",
        "print(X_test.shape)"
      ],
      "execution_count": 53,
      "outputs": [
        {
          "output_type": "stream",
          "text": [
            "(1893, 399)\n",
            "(211, 399)\n"
          ],
          "name": "stdout"
        }
      ]
    },
    {
      "cell_type": "code",
      "metadata": {
        "id": "rXvcdBEGA3Kl"
      },
      "source": [
        "from sklearn import datasets, metrics\n",
        "from sklearn.model_selection import train_test_split\n",
        "from sklearn.preprocessing import StandardScaler\n",
        "scaler = StandardScaler()\n",
        "X_train = scaler.fit_transform(X_train)\n",
        "X_test = scaler.transform(X_test)"
      ],
      "execution_count": 54,
      "outputs": []
    },
    {
      "cell_type": "code",
      "metadata": {
        "id": "wUmSGT2nA6H1"
      },
      "source": [
        "X_train = X_train.reshape(1893, 399,1)\n",
        "X_test = X_test.reshape(211, 399, 1)"
      ],
      "execution_count": 60,
      "outputs": []
    },
    {
      "cell_type": "code",
      "metadata": {
        "id": "gU2d6W0lA96t"
      },
      "source": [
        "import numpy as np\n",
        "import pandas as pd\n",
        "import tensorflow as tf\n",
        "from tensorflow import keras\n",
        "from tensorflow.keras import Sequential\n",
        "from tensorflow.keras.layers import Flatten, Dense, Dropout, BatchNormalization\n",
        "from tensorflow.keras.layers import Conv1D, MaxPool1D\n",
        "\n",
        "from tensorflow.keras.optimizers import Adam\n",
        "\n",
        "import  seaborn as sns\n",
        "import matplotlib.pyplot as plt\n",
        "from sklearn import datasets, metrics\n",
        "from sklearn.model_selection import train_test_split\n",
        "from sklearn.preprocessing import StandardScaler"
      ],
      "execution_count": 61,
      "outputs": []
    },
    {
      "cell_type": "code",
      "metadata": {
        "id": "oap0AzpvBArn"
      },
      "source": [
        "epochs = 13\n",
        "model = Sequential()\n",
        "model.add(Conv1D(filters=48, kernel_size=4, activation='relu', input_shape = (399,1)))\n",
        "model.add(BatchNormalization())\n",
        "#model.add(Dropout(0.1))\n",
        "\n",
        "model.add(Conv1D(filters=64, kernel_size=4, activation='relu'))\n",
        "model.add(BatchNormalization())\n",
        "#model.add(Dropout(0.5))\n",
        "\n",
        "model.add(Flatten())\n",
        "model.add(Dense(64, activation='relu'))\n",
        "model.add(Dropout(0.5))\n",
        "\n",
        "model.add(Dense(1, activation='sigmoid'))"
      ],
      "execution_count": 66,
      "outputs": []
    },
    {
      "cell_type": "code",
      "metadata": {
        "colab": {
          "base_uri": "https://localhost:8080/"
        },
        "id": "qc2PB-ZvBIfi",
        "outputId": "3dbe6808-961d-480e-9a4e-2a7a20675711"
      },
      "source": [
        "model.summary()"
      ],
      "execution_count": 67,
      "outputs": [
        {
          "output_type": "stream",
          "text": [
            "Model: \"sequential_10\"\n",
            "_________________________________________________________________\n",
            "Layer (type)                 Output Shape              Param #   \n",
            "=================================================================\n",
            "conv1d_20 (Conv1D)           (None, 396, 48)           240       \n",
            "_________________________________________________________________\n",
            "batch_normalization_20 (Batc (None, 396, 48)           192       \n",
            "_________________________________________________________________\n",
            "conv1d_21 (Conv1D)           (None, 393, 64)           12352     \n",
            "_________________________________________________________________\n",
            "batch_normalization_21 (Batc (None, 393, 64)           256       \n",
            "_________________________________________________________________\n",
            "flatten_10 (Flatten)         (None, 25152)             0         \n",
            "_________________________________________________________________\n",
            "dense_20 (Dense)             (None, 64)                1609792   \n",
            "_________________________________________________________________\n",
            "dropout_9 (Dropout)          (None, 64)                0         \n",
            "_________________________________________________________________\n",
            "dense_21 (Dense)             (None, 1)                 65        \n",
            "=================================================================\n",
            "Total params: 1,622,897\n",
            "Trainable params: 1,622,673\n",
            "Non-trainable params: 224\n",
            "_________________________________________________________________\n"
          ],
          "name": "stdout"
        }
      ]
    },
    {
      "cell_type": "code",
      "metadata": {
        "colab": {
          "base_uri": "https://localhost:8080/"
        },
        "id": "8Ua9OHN0DweK",
        "outputId": "4a8602a0-85a0-4959-b414-7e9ed6c3d338"
      },
      "source": [
        "model.compile(optimizer=Adam(lr=0.00001), loss = 'binary_crossentropy', metrics=['accuracy'])\n",
        "\n",
        "history = model.fit(X_train, y_train, epochs=epochs, batch_size=8,validation_data=(X_test, y_test), verbose=1)"
      ],
      "execution_count": 68,
      "outputs": [
        {
          "output_type": "stream",
          "text": [
            "Epoch 1/13\n",
            "237/237 [==============================] - 3s 8ms/step - loss: 1.0192 - accuracy: 0.4636 - val_loss: 0.6766 - val_accuracy: 0.5545\n",
            "Epoch 2/13\n",
            "237/237 [==============================] - 2s 7ms/step - loss: 0.7495 - accuracy: 0.6170 - val_loss: 0.6503 - val_accuracy: 0.6493\n",
            "Epoch 3/13\n",
            "237/237 [==============================] - 2s 7ms/step - loss: 0.5798 - accuracy: 0.7037 - val_loss: 0.6419 - val_accuracy: 0.6730\n",
            "Epoch 4/13\n",
            "237/237 [==============================] - 2s 7ms/step - loss: 0.5106 - accuracy: 0.7499 - val_loss: 0.6420 - val_accuracy: 0.6682\n",
            "Epoch 5/13\n",
            "237/237 [==============================] - 2s 7ms/step - loss: 0.4592 - accuracy: 0.7859 - val_loss: 0.6414 - val_accuracy: 0.6730\n",
            "Epoch 6/13\n",
            "237/237 [==============================] - 2s 7ms/step - loss: 0.3837 - accuracy: 0.8365 - val_loss: 0.6609 - val_accuracy: 0.6445\n",
            "Epoch 7/13\n",
            "237/237 [==============================] - 2s 7ms/step - loss: 0.3559 - accuracy: 0.8520 - val_loss: 0.6548 - val_accuracy: 0.6730\n",
            "Epoch 8/13\n",
            "237/237 [==============================] - 2s 7ms/step - loss: 0.3265 - accuracy: 0.8677 - val_loss: 0.6612 - val_accuracy: 0.6635\n",
            "Epoch 9/13\n",
            "237/237 [==============================] - 2s 7ms/step - loss: 0.3008 - accuracy: 0.8773 - val_loss: 0.6601 - val_accuracy: 0.6777\n",
            "Epoch 10/13\n",
            "237/237 [==============================] - 2s 7ms/step - loss: 0.2762 - accuracy: 0.9032 - val_loss: 0.6590 - val_accuracy: 0.6635\n",
            "Epoch 11/13\n",
            "237/237 [==============================] - 2s 7ms/step - loss: 0.2403 - accuracy: 0.9223 - val_loss: 0.6632 - val_accuracy: 0.6825\n",
            "Epoch 12/13\n",
            "237/237 [==============================] - 2s 7ms/step - loss: 0.2198 - accuracy: 0.9199 - val_loss: 0.6616 - val_accuracy: 0.6967\n",
            "Epoch 13/13\n",
            "237/237 [==============================] - 2s 7ms/step - loss: 0.2107 - accuracy: 0.9370 - val_loss: 0.6694 - val_accuracy: 0.7014\n"
          ],
          "name": "stdout"
        }
      ]
    },
    {
      "cell_type": "code",
      "metadata": {
        "colab": {
          "base_uri": "https://localhost:8080/"
        },
        "id": "-o4Ie8QrBqvH",
        "outputId": "67122415-2de3-4164-a7a6-af604deecc02"
      },
      "source": [
        "from sklearn.metrics import confusion_matrix, accuracy_score\n",
        "y_pred = model.predict(X_test) \n",
        "y_pred = (y_pred > 0.5) \n",
        "\n",
        "cmann = confusion_matrix(y_test,y_pred) \n",
        "print(cmann)\n",
        "\n",
        "\n",
        "accuracy = (cmann[0][0]+cmann[1][1])/(cmann[0][1] + cmann[1][0] +cmann[0][0] +cmann[1][1]) \n",
        "print(accuracy*100)"
      ],
      "execution_count": 69,
      "outputs": [
        {
          "output_type": "stream",
          "text": [
            "[[75 24]\n",
            " [39 73]]\n",
            "70.14218009478674\n"
          ],
          "name": "stdout"
        }
      ]
    },
    {
      "cell_type": "code",
      "metadata": {
        "colab": {
          "base_uri": "https://localhost:8080/"
        },
        "id": "sD0qyU1WCf8R",
        "outputId": "bedbd75c-ce2a-4cfb-8528-804445f7ada3"
      },
      "source": [
        "p = model.predict_proba(X_test)[:,0]\n",
        "from sklearn.metrics import roc_auc_score\n",
        "print(\"AUC = \",roc_auc_score(y_test,p))"
      ],
      "execution_count": 70,
      "outputs": [
        {
          "output_type": "stream",
          "text": [
            "AUC =  0.7498196248196247\n"
          ],
          "name": "stdout"
        },
        {
          "output_type": "stream",
          "text": [
            "/usr/local/lib/python3.7/dist-packages/tensorflow/python/keras/engine/sequential.py:425: UserWarning: `model.predict_proba()` is deprecated and will be removed after 2021-01-01. Please use `model.predict()` instead.\n",
            "  warnings.warn('`model.predict_proba()` is deprecated and '\n"
          ],
          "name": "stderr"
        }
      ]
    },
    {
      "cell_type": "code",
      "metadata": {
        "colab": {
          "base_uri": "https://localhost:8080/"
        },
        "id": "DY44zh0yI4VJ",
        "outputId": "e8bf2305-63d4-43a4-b339-8079825edfca"
      },
      "source": [
        "#Predict on test set\n",
        "predictions_NN_prob = model.predict(X_test)\n",
        "predictions_NN_prob = predictions_NN_prob[:,0]\n",
        "\n",
        "predictions_NN_01 = np.where(predictions_NN_prob > 0.5, 1, 0) #Turn probability to 0-1 binary output\n",
        "\n",
        "from sklearn.metrics import roc_auc_score\n",
        "print(\"AUC = \",roc_auc_score(y_test,predictions_NN_01))"
      ],
      "execution_count": 71,
      "outputs": [
        {
          "output_type": "stream",
          "text": [
            "AUC =  0.7046807359307359\n"
          ],
          "name": "stdout"
        }
      ]
    },
    {
      "cell_type": "code",
      "metadata": {
        "colab": {
          "base_uri": "https://localhost:8080/"
        },
        "id": "31rPbBIqI75V",
        "outputId": "596a11dd-8478-419e-9900-5bc00c446ec6"
      },
      "source": [
        "\n",
        "## AUPR score\n",
        "from sklearn.metrics import average_precision_score\n",
        "aupr=average_precision_score(y_test,model.predict(X_test)[:,0])\n",
        "#model.predict()  ## unara warning dise je...predict_proba()\n",
        "#UserWarning: `model.predict_proba()` is deprecated and will be removed after 2021-01-01. Please use `model.predict()` instead\n",
        "aupr"
      ],
      "execution_count": 72,
      "outputs": [
        {
          "output_type": "execute_result",
          "data": {
            "text/plain": [
              "0.7456631032868339"
            ]
          },
          "metadata": {
            "tags": []
          },
          "execution_count": 72
        }
      ]
    },
    {
      "cell_type": "code",
      "metadata": {
        "colab": {
          "base_uri": "https://localhost:8080/"
        },
        "id": "Mcc_hdSDJAXi",
        "outputId": "dd9b8a09-1878-4f9d-c5af-23aec7f17965"
      },
      "source": [
        "from sklearn.metrics import average_precision_score\n",
        "print(\"AUPR = \",average_precision_score(y_test,predictions_NN_01))"
      ],
      "execution_count": 73,
      "outputs": [
        {
          "output_type": "stream",
          "text": [
            "AUPR =  0.6753532690253998\n"
          ],
          "name": "stdout"
        }
      ]
    },
    {
      "cell_type": "code",
      "metadata": {
        "colab": {
          "base_uri": "https://localhost:8080/"
        },
        "id": "ABJJRfAtJGAl",
        "outputId": "3f2b9131-4135-4bdb-e048-921433ad56ed"
      },
      "source": [
        "from sklearn.metrics import matthews_corrcoef,confusion_matrix\n",
        "matthews_corrcoef(y_test,y_pred)"
      ],
      "execution_count": 74,
      "outputs": [
        {
          "output_type": "execute_result",
          "data": {
            "text/plain": [
              "0.40991638803307323"
            ]
          },
          "metadata": {
            "tags": []
          },
          "execution_count": 74
        }
      ]
    },
    {
      "cell_type": "code",
      "metadata": {
        "colab": {
          "base_uri": "https://localhost:8080/"
        },
        "id": "hjYXP_sMJIzf",
        "outputId": "56aa79fe-b24e-4bee-9538-3ba90770d8d1"
      },
      "source": [
        "TP = cmann[0][0]\n",
        "TN = cmann[1][1]\n",
        "FP = cmann[0][1]\n",
        "FN = cmann[1][0]\n",
        "print('True Positives:', TP)\n",
        "print('True Negatives:', TN)\n",
        "print('False Positives:', FP)\n",
        "print('False Negatives:', FN)"
      ],
      "execution_count": 75,
      "outputs": [
        {
          "output_type": "stream",
          "text": [
            "True Positives: 75\n",
            "True Negatives: 73\n",
            "False Positives: 24\n",
            "False Negatives: 39\n"
          ],
          "name": "stdout"
        }
      ]
    },
    {
      "cell_type": "code",
      "metadata": {
        "colab": {
          "base_uri": "https://localhost:8080/"
        },
        "id": "1QnfLOEeJLFF",
        "outputId": "e531f48f-d3cc-44dd-8ab3-5d812ac8a522"
      },
      "source": [
        "sensitivity=(TP/(TP+FN))\n",
        "sensitivity"
      ],
      "execution_count": 76,
      "outputs": [
        {
          "output_type": "execute_result",
          "data": {
            "text/plain": [
              "0.6578947368421053"
            ]
          },
          "metadata": {
            "tags": []
          },
          "execution_count": 76
        }
      ]
    },
    {
      "cell_type": "code",
      "metadata": {
        "colab": {
          "base_uri": "https://localhost:8080/"
        },
        "id": "afKts3PVJOLC",
        "outputId": "2984389c-e33d-4812-969d-14e3d8268773"
      },
      "source": [
        "specificity = (TN/(TN+FP))\n",
        "specificity"
      ],
      "execution_count": 77,
      "outputs": [
        {
          "output_type": "execute_result",
          "data": {
            "text/plain": [
              "0.7525773195876289"
            ]
          },
          "metadata": {
            "tags": []
          },
          "execution_count": 77
        }
      ]
    },
    {
      "cell_type": "code",
      "metadata": {
        "colab": {
          "base_uri": "https://localhost:8080/"
        },
        "id": "Ww36QWulJQye",
        "outputId": "25be05d1-3708-4da0-ea28-91dc20d1a18d"
      },
      "source": [
        "precision = (TP/(TP+FP))\n",
        "recall = (TP/(TP+FN))\n",
        "print(precision)\n",
        "print(recall)"
      ],
      "execution_count": 78,
      "outputs": [
        {
          "output_type": "stream",
          "text": [
            "0.7575757575757576\n",
            "0.6578947368421053\n"
          ],
          "name": "stdout"
        }
      ]
    },
    {
      "cell_type": "code",
      "metadata": {
        "colab": {
          "base_uri": "https://localhost:8080/"
        },
        "id": "Logm1jHqJTBc",
        "outputId": "a5300ed4-df96-41da-f595-a30cf5558e90"
      },
      "source": [
        "f1 = (2*(precision*recall))/(precision+recall)\n",
        "f1"
      ],
      "execution_count": 79,
      "outputs": [
        {
          "output_type": "execute_result",
          "data": {
            "text/plain": [
              "0.704225352112676"
            ]
          },
          "metadata": {
            "tags": []
          },
          "execution_count": 79
        }
      ]
    },
    {
      "cell_type": "code",
      "metadata": {
        "id": "SItQRMF5JVzs"
      },
      "source": [
        ""
      ],
      "execution_count": null,
      "outputs": []
    }
  ]
}