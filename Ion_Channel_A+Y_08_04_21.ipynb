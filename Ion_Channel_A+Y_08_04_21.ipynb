{
  "nbformat": 4,
  "nbformat_minor": 0,
  "metadata": {
    "colab": {
      "name": "Ion Channel A+Y 08-04-21.ipynb",
      "provenance": [],
      "authorship_tag": "ABX9TyPzOXe+jdjj0GXCM6Pjy+hh",
      "include_colab_link": true
    },
    "kernelspec": {
      "name": "python3",
      "display_name": "Python 3"
    },
    "language_info": {
      "name": "python"
    },
    "accelerator": "GPU"
  },
  "cells": [
    {
      "cell_type": "markdown",
      "metadata": {
        "id": "view-in-github",
        "colab_type": "text"
      },
      "source": [
        "<a href=\"https://colab.research.google.com/github/faruk17035/MachineLearning-Using-GoogleColab/blob/main/Ion_Channel_A%2BY_08_04_21.ipynb\" target=\"_parent\"><img src=\"https://colab.research.google.com/assets/colab-badge.svg\" alt=\"Open In Colab\"/></a>"
      ]
    },
    {
      "cell_type": "code",
      "metadata": {
        "id": "gBJUqQcxs_Y7"
      },
      "source": [
        "import numpy as np\n",
        "import pandas as pd\n",
        "import tensorflow as tf\n",
        "from tensorflow import keras\n",
        "from tensorflow.keras import Sequential\n",
        "from tensorflow.keras.layers import Flatten, Dense, Dropout, BatchNormalization\n",
        "from tensorflow.keras.layers import Conv1D, MaxPool1D\n",
        "\n",
        "from tensorflow.keras.optimizers import Adam\n",
        "\n",
        "import  seaborn as sns\n",
        "import matplotlib.pyplot as plt\n",
        "from sklearn import datasets, metrics\n",
        "from sklearn.model_selection import train_test_split\n",
        "from sklearn.preprocessing import StandardScaler"
      ],
      "execution_count": 1,
      "outputs": []
    },
    {
      "cell_type": "code",
      "metadata": {
        "colab": {
          "base_uri": "https://localhost:8080/"
        },
        "id": "txjziSU1uM62",
        "outputId": "390bbac0-0c35-4ae2-a4f7-f922ae86ea01"
      },
      "source": [
        "from google.colab import drive \n",
        "drive.mount('/content/gdrive')"
      ],
      "execution_count": 2,
      "outputs": [
        {
          "output_type": "stream",
          "text": [
            "Mounted at /content/gdrive\n"
          ],
          "name": "stdout"
        }
      ]
    },
    {
      "cell_type": "code",
      "metadata": {
        "colab": {
          "base_uri": "https://localhost:8080/"
        },
        "id": "9hsU_49BuQza",
        "outputId": "6b4e23b5-137f-4f6e-f3a1-a880a9d6626d"
      },
      "source": [
        "import pandas as pd\n",
        "from pandas import read_excel\n",
        "file_name = '/content/gdrive/MyDrive/Ion Channel A+Y.xlsx' \n",
        "df = pd.read_excel(file_name, index_col=0)\n",
        "print(df.head()) # print the first 5 rows"
      ],
      "execution_count": 3,
      "outputs": [
        {
          "output_type": "stream",
          "text": [
            "            PubchemFP2  PubchemFP3  PubchemFP4  ...    YW    YY  Target\n",
            "PubchemFP1                                      ...                    \n",
            "1                    0           0           0  ...  0.00  0.00       1\n",
            "1                    1           1           1  ...  0.00  0.00       1\n",
            "1                    1           1           1  ...  0.17  0.17       1\n",
            "1                    1           1           0  ...  0.21  0.00       1\n",
            "1                    1           1           0  ...  0.21  0.00       1\n",
            "\n",
            "[5 rows x 1281 columns]\n"
          ],
          "name": "stdout"
        }
      ]
    },
    {
      "cell_type": "code",
      "metadata": {
        "id": "ph7iAw2zuhcQ"
      },
      "source": [
        "#Split data into independent (X) and dependent(Y) columns\n",
        "\n",
        "y = df['Target'].values\n",
        "X = df.drop('Target', axis=1).values"
      ],
      "execution_count": 4,
      "outputs": []
    },
    {
      "cell_type": "code",
      "metadata": {
        "id": "Yz4bCKslukvg"
      },
      "source": [
        "from sklearn.model_selection import train_test_split\n",
        "X_train, X_test, y_train, y_test = train_test_split(X, y, test_size = 0.20, random_state = 0)"
      ],
      "execution_count": 5,
      "outputs": []
    },
    {
      "cell_type": "code",
      "metadata": {
        "colab": {
          "base_uri": "https://localhost:8080/"
        },
        "id": "Lm4NSUtXumt7",
        "outputId": "db38051b-f51f-453f-b7c7-9dbb6928b76b"
      },
      "source": [
        "print(X_train.shape)\n",
        "print(X_test.shape)"
      ],
      "execution_count": 6,
      "outputs": [
        {
          "output_type": "stream",
          "text": [
            "(3292, 1280)\n",
            "(824, 1280)\n"
          ],
          "name": "stdout"
        }
      ]
    },
    {
      "cell_type": "code",
      "metadata": {
        "id": "1lGhj65nuobj"
      },
      "source": [
        "### Feature scaling\n",
        "from sklearn.preprocessing import StandardScaler\n",
        "scaler = StandardScaler()\n",
        "X_train = scaler.fit_transform(X_train)\n",
        "X_test = scaler.transform(X_test)"
      ],
      "execution_count": 7,
      "outputs": []
    },
    {
      "cell_type": "code",
      "metadata": {
        "id": "YvTScm6hurMk"
      },
      "source": [
        "X_train = X_train.reshape(3292, 1280,1)\n",
        "X_test = X_test.reshape(824, 1280, 1)"
      ],
      "execution_count": 8,
      "outputs": []
    },
    {
      "cell_type": "code",
      "metadata": {
        "id": "K0N4zj0tut2Q"
      },
      "source": [
        "epochs = 20\n",
        "model = Sequential()\n",
        "model.add(Conv1D(filters=32, kernel_size=4, activation='relu', input_shape = (1280,1)))\n",
        "model.add(BatchNormalization())\n",
        "model.add(Dropout(0.2))\n",
        "\n",
        "model.add(Conv1D(filters=64, kernel_size=4, activation='relu'))\n",
        "model.add(BatchNormalization())\n",
        "model.add(Dropout(0.5))\n",
        "\n",
        "model.add(Flatten())\n",
        "model.add(Dense(64, activation='relu'))\n",
        "model.add(Dropout(0.5))\n",
        "\n",
        "model.add(Dense(1, activation='sigmoid'))"
      ],
      "execution_count": 17,
      "outputs": []
    },
    {
      "cell_type": "code",
      "metadata": {
        "id": "5OahmQ0Qu0Gr"
      },
      "source": [
        "model.compile(optimizer=Adam(lr=0.001), loss = 'binary_crossentropy', metrics=['accuracy'])"
      ],
      "execution_count": 18,
      "outputs": []
    },
    {
      "cell_type": "code",
      "metadata": {
        "colab": {
          "base_uri": "https://localhost:8080/"
        },
        "id": "x-qUdQJOvEHw",
        "outputId": "1bcc16e4-1772-4a8c-8639-de15c5e88d97"
      },
      "source": [
        "history = model.fit(X_train, y_train, epochs=epochs, validation_data=(X_test, y_test), verbose=1)"
      ],
      "execution_count": 19,
      "outputs": [
        {
          "output_type": "stream",
          "text": [
            "Epoch 1/20\n",
            "103/103 [==============================] - 2s 12ms/step - loss: 1.7754 - accuracy: 0.6488 - val_loss: 0.6828 - val_accuracy: 0.6396\n",
            "Epoch 2/20\n",
            "103/103 [==============================] - 1s 10ms/step - loss: 0.5491 - accuracy: 0.7173 - val_loss: 0.6804 - val_accuracy: 0.6699\n",
            "Epoch 3/20\n",
            "103/103 [==============================] - 1s 10ms/step - loss: 0.5108 - accuracy: 0.7369 - val_loss: 0.6255 - val_accuracy: 0.7148\n",
            "Epoch 4/20\n",
            "103/103 [==============================] - 1s 10ms/step - loss: 0.5046 - accuracy: 0.7164 - val_loss: 0.5463 - val_accuracy: 0.7633\n",
            "Epoch 5/20\n",
            "103/103 [==============================] - 1s 10ms/step - loss: 0.5041 - accuracy: 0.7211 - val_loss: 0.5001 - val_accuracy: 0.7840\n",
            "Epoch 6/20\n",
            "103/103 [==============================] - 1s 10ms/step - loss: 0.4806 - accuracy: 0.7229 - val_loss: 0.4219 - val_accuracy: 0.7937\n",
            "Epoch 7/20\n",
            "103/103 [==============================] - 1s 10ms/step - loss: 0.4480 - accuracy: 0.7416 - val_loss: 0.4391 - val_accuracy: 0.8010\n",
            "Epoch 8/20\n",
            "103/103 [==============================] - 1s 10ms/step - loss: 0.4573 - accuracy: 0.7504 - val_loss: 0.4202 - val_accuracy: 0.7998\n",
            "Epoch 9/20\n",
            "103/103 [==============================] - 1s 10ms/step - loss: 0.4483 - accuracy: 0.7373 - val_loss: 0.3924 - val_accuracy: 0.8046\n",
            "Epoch 10/20\n",
            "103/103 [==============================] - 1s 10ms/step - loss: 0.4309 - accuracy: 0.7492 - val_loss: 0.4078 - val_accuracy: 0.7973\n",
            "Epoch 11/20\n",
            "103/103 [==============================] - 1s 10ms/step - loss: 0.4210 - accuracy: 0.7571 - val_loss: 0.4196 - val_accuracy: 0.7973\n",
            "Epoch 12/20\n",
            "103/103 [==============================] - 1s 10ms/step - loss: 0.4372 - accuracy: 0.7395 - val_loss: 0.4014 - val_accuracy: 0.8119\n",
            "Epoch 13/20\n",
            "103/103 [==============================] - 1s 10ms/step - loss: 0.4284 - accuracy: 0.7442 - val_loss: 0.4123 - val_accuracy: 0.8107\n",
            "Epoch 14/20\n",
            "103/103 [==============================] - 1s 10ms/step - loss: 0.4265 - accuracy: 0.7398 - val_loss: 0.3905 - val_accuracy: 0.8107\n",
            "Epoch 15/20\n",
            "103/103 [==============================] - 1s 10ms/step - loss: 0.4015 - accuracy: 0.7500 - val_loss: 0.3953 - val_accuracy: 0.7961\n",
            "Epoch 16/20\n",
            "103/103 [==============================] - 1s 10ms/step - loss: 0.4211 - accuracy: 0.7440 - val_loss: 0.3919 - val_accuracy: 0.8192\n",
            "Epoch 17/20\n",
            "103/103 [==============================] - 1s 10ms/step - loss: 0.3918 - accuracy: 0.7477 - val_loss: 0.3855 - val_accuracy: 0.8143\n",
            "Epoch 18/20\n",
            "103/103 [==============================] - 1s 10ms/step - loss: 0.4058 - accuracy: 0.7462 - val_loss: 0.3781 - val_accuracy: 0.8155\n",
            "Epoch 19/20\n",
            "103/103 [==============================] - 1s 10ms/step - loss: 0.3827 - accuracy: 0.7553 - val_loss: 0.4075 - val_accuracy: 0.8119\n",
            "Epoch 20/20\n",
            "103/103 [==============================] - 1s 10ms/step - loss: 0.4004 - accuracy: 0.7466 - val_loss: 0.3761 - val_accuracy: 0.8240\n"
          ],
          "name": "stdout"
        }
      ]
    },
    {
      "cell_type": "code",
      "metadata": {
        "colab": {
          "base_uri": "https://localhost:8080/"
        },
        "id": "mNooxkvIvGe_",
        "outputId": "2df71204-51a5-4c49-f8d8-3a04b0b73453"
      },
      "source": [
        "#y_pred = model.predict(X_train).ravel()\n",
        "from sklearn.metrics import roc_curve\n",
        "y_pred_cnn = model.predict(X_test).ravel()\n",
        "fpr_4, tpr_4, thresholds = roc_curve(y_test, y_pred_cnn)\n",
        "from sklearn.metrics import auc\n",
        "auc_score4 = auc(fpr_4, tpr_4)\n",
        "auc_score4"
      ],
      "execution_count": 20,
      "outputs": [
        {
          "output_type": "execute_result",
          "data": {
            "text/plain": [
              "0.9146019096987165"
            ]
          },
          "metadata": {
            "tags": []
          },
          "execution_count": 20
        }
      ]
    },
    {
      "cell_type": "code",
      "metadata": {
        "id": "-ngWwqutvfYW"
      },
      "source": [
        "#Split data into independent (X) and dependent(Y) columns\n",
        "\n",
        "Y = df['Target'].values\n",
        "X = df.drop('Target', axis=1).values"
      ],
      "execution_count": 21,
      "outputs": []
    },
    {
      "cell_type": "code",
      "metadata": {
        "id": "EC60O04UwK3w"
      },
      "source": [
        "from sklearn.model_selection import train_test_split\n",
        "X_train, X_test, y_train, y_test = train_test_split(X, Y, test_size = 0.20, random_state = 0)"
      ],
      "execution_count": 25,
      "outputs": []
    },
    {
      "cell_type": "code",
      "metadata": {
        "id": "IvPa986zwP_O"
      },
      "source": [
        "### Feature scaling\n",
        "from sklearn.preprocessing import StandardScaler\n",
        "sc = StandardScaler()\n",
        "X_train = sc.fit_transform(X_train)\n",
        "X_test = sc.transform(X_test)"
      ],
      "execution_count": 26,
      "outputs": []
    },
    {
      "cell_type": "code",
      "metadata": {
        "colab": {
          "base_uri": "https://localhost:8080/"
        },
        "id": "LtympfdzwSsY",
        "outputId": "b716ce0b-d0c9-4820-b45c-0015f841e58e"
      },
      "source": [
        "from sklearn.neighbors import KNeighborsClassifier\n",
        "from xgboost import XGBClassifier\n",
        "from sklearn.metrics import roc_auc_score\n",
        "from sklearn.svm import SVC\n",
        "model1 = KNeighborsClassifier(n_neighbors = 2, metric = 'minkowski', p = 2)\n",
        "model1.fit(X_train, y_train)\n",
        "# predict probabilities\n",
        "pred_prob1 = model1.predict_proba(X_test)\n",
        "from sklearn.metrics import roc_curve\n",
        "\n",
        "# roc curve for models\n",
        "fpr_1, tpr_1, thresh1 = roc_curve(y_test, pred_prob1[:,1], pos_label=1)\n",
        "# auc scores\n",
        "auc_score1 = roc_auc_score(y_test, pred_prob1[:,1])\n",
        "print(auc_score1)"
      ],
      "execution_count": 27,
      "outputs": [
        {
          "output_type": "stream",
          "text": [
            "0.8381108037884503\n"
          ],
          "name": "stdout"
        }
      ]
    },
    {
      "cell_type": "code",
      "metadata": {
        "colab": {
          "base_uri": "https://localhost:8080/"
        },
        "id": "YBJRV7nzwV7f",
        "outputId": "3e586c7f-759b-4275-ee3f-e5ea9b77f8c7"
      },
      "source": [
        "#Split data into independent (X) and dependent(Y) columns\n",
        "\n",
        "Y = df['Target'].values\n",
        "X = df.drop('Target', axis=1).values\n",
        "\n",
        "from sklearn.model_selection import train_test_split\n",
        "X_train, X_test, y_train, y_test = train_test_split(X, Y, test_size = 0.20, random_state = 10)\n",
        "\n",
        "### Feature scaling\n",
        "from sklearn.preprocessing import StandardScaler\n",
        "sc = StandardScaler()\n",
        "X_train = sc.fit_transform(X_train)\n",
        "X_test = sc.transform(X_test)\n",
        "model2 = SVC(kernel = 'linear',probability=True, random_state = 20)\n",
        "model2.fit(X_train, y_train)\n",
        "\n",
        "pred_prob2 = model2.predict_proba(X_test)\n",
        "\n",
        "fpr_2, tpr_2, thresh2 = roc_curve(y_test, pred_prob2[:,1], pos_label=1)\n",
        "auc_score2 = roc_auc_score(y_test, pred_prob2[:,1])\n",
        "print(auc_score2)"
      ],
      "execution_count": 28,
      "outputs": [
        {
          "output_type": "stream",
          "text": [
            "0.8100677815288793\n"
          ],
          "name": "stdout"
        }
      ]
    },
    {
      "cell_type": "code",
      "metadata": {
        "colab": {
          "base_uri": "https://localhost:8080/"
        },
        "id": "LIz0KD75wwY_",
        "outputId": "f7343474-e491-4557-c26a-11640c9a99ce"
      },
      "source": [
        "#Split data into independent (X) and dependent(Y) columns\n",
        "\n",
        "Y = df['Target'].values\n",
        "X = df.drop('Target', axis=1).values\n",
        "\n",
        "from sklearn.model_selection import train_test_split\n",
        "X_train, X_test, y_train, y_test = train_test_split(X, Y, test_size = 0.20, random_state = 25)\n",
        "\n",
        "\n",
        "### Feature scaling\n",
        "from sklearn.preprocessing import StandardScaler\n",
        "sc = StandardScaler()\n",
        "X_train = sc.fit_transform(X_train)\n",
        "X_test = sc.transform(X_test)\n",
        "\n",
        "\n",
        "model3 = XGBClassifier(random_state=0)\n",
        "model3.fit(X_train, y_train)\n",
        "\n",
        "pred_prob3 = model3.predict_proba(X_test)\n",
        "\n",
        "fpr_3, tpr_3, thresh3 = roc_curve(y_test, pred_prob3[:,1], pos_label=1)\n",
        "\n",
        "auc_score3 = roc_auc_score(y_test, pred_prob3[:,1])\n",
        "\n",
        "print(auc_score3)"
      ],
      "execution_count": 29,
      "outputs": [
        {
          "output_type": "stream",
          "text": [
            "0.8490480232840165\n"
          ],
          "name": "stdout"
        }
      ]
    },
    {
      "cell_type": "code",
      "metadata": {
        "id": "gMvaiIOAxQ2L"
      },
      "source": [
        "auc_score1 = 0.83\n",
        "auc_score2 = 0.8177\n",
        "auc_score3 = 0.8576\n",
        "auc_score4 = 0.89"
      ],
      "execution_count": 30,
      "outputs": []
    },
    {
      "cell_type": "code",
      "metadata": {
        "colab": {
          "base_uri": "https://localhost:8080/",
          "height": 422
        },
        "id": "KcKEAQPZx1OH",
        "outputId": "dcabd8a8-74ff-49be-afaa-cae74397cd8d"
      },
      "source": [
        "sns.set_style(\"white\")\n",
        "plt.figure(figsize=(8,6))\n",
        "\n",
        "plt.plot(fpr_1,tpr_1, color = \"green\", label = \"KNN - %0.2f \" %auc_score1, lw = 5)\n",
        "plt.plot(fpr_2,tpr_2, color = \"orange\", label = \"SVM - %0.2f \" %auc_score2, lw = 5)\n",
        "plt.plot(fpr_3,tpr_3, color = \"red\", label = \"XGBoost - %0.2f \" %auc_score3, lw = 5)\n",
        "plt.plot(fpr_4,tpr_4, color = \"blue\", label = \"CNN - %0.2f \" %auc_score4, lw = 5)\n",
        "\n",
        "plt.plot([0,1], [0,1], color = 'purple', lw=2, linestyle='--')\n",
        "plt.xlabel('False Positive Rate', fontsize = 19)\n",
        "plt.ylabel('True Positive Rate', fontsize=19)\n",
        "plt.title('Ion Channel - A+Y', fontsize=22)\n",
        "plt.legend(loc = \"lower right\", fontsize=14)\n",
        "\n",
        "plt.xticks(fontsize=13)\n",
        "plt.yticks(fontsize=13)\n",
        "plt.savefig('ROC_all',dpi=300)\n",
        "plt.show()"
      ],
      "execution_count": 31,
      "outputs": [
        {
          "output_type": "display_data",
          "data": {
            "image/png": "[encoded data removed]",
            "text/plain": [
              "<Figure size 576x432 with 1 Axes>"
            ]
          },
          "metadata": {
            "tags": []
          }
        }
      ]
    },
    {
      "cell_type": "code",
      "metadata": {
        "id": "88ERNG4Dx9Hm"
      },
      "source": [
        ""
      ],
      "execution_count": null,
      "outputs": []
    }
  ]
}