{
  "nbformat": 4,
  "nbformat_minor": 0,
  "metadata": {
    "colab": {
      "name": "Enzyme A+X IG lr_0.01.ipynb",
      "provenance": [],
      "authorship_tag": "ABX9TyOxLXSLyhRkM6/Q9J23rgu3",
      "include_colab_link": true
    },
    "kernelspec": {
      "name": "python3",
      "display_name": "Python 3"
    },
    "language_info": {
      "name": "python"
    },
    "accelerator": "GPU"
  },
  "cells": [
    {
      "cell_type": "markdown",
      "metadata": {
        "id": "view-in-github",
        "colab_type": "text"
      },
      "source": [
        "<a href=\"https://colab.research.google.com/github/faruk17035/MachineLearning-Using-GoogleColab/blob/main/Enzyme_A%2BX_IG_lr_0_01.ipynb\" target=\"_parent\"><img src=\"https://colab.research.google.com/assets/colab-badge.svg\" alt=\"Open In Colab\"/></a>"
      ]
    },
    {
      "cell_type": "code",
      "metadata": {
        "id": "nVLZZr56JOuW"
      },
      "source": [
        "import numpy as np\n",
        "import matplotlib.pyplot as plt\n",
        "import pandas as pd"
      ],
      "execution_count": 35,
      "outputs": []
    },
    {
      "cell_type": "code",
      "metadata": {
        "colab": {
          "base_uri": "https://localhost:8080/"
        },
        "id": "apMxzgWUJxaT",
        "outputId": "b5a7ea2f-0b2d-4825-fe49-0320ec437438"
      },
      "source": [
        "from google.colab import drive \n",
        "drive.mount('/content/gdrive')"
      ],
      "execution_count": 36,
      "outputs": [
        {
          "output_type": "stream",
          "text": [
            "Drive already mounted at /content/gdrive; to attempt to forcibly remount, call drive.mount(\"/content/gdrive\", force_remount=True).\n"
          ],
          "name": "stdout"
        }
      ]
    },
    {
      "cell_type": "code",
      "metadata": {
        "colab": {
          "base_uri": "https://localhost:8080/"
        },
        "id": "Hk87RNUlJ6Nc",
        "outputId": "bcaf801f-e107-45b2-cd2b-b38feacb3df8"
      },
      "source": [
        "import pandas as pd\n",
        "from pandas import read_excel\n",
        "file_name = '/content/gdrive/MyDrive/Enzyme A+X.xlsx' \n",
        "df = pd.read_excel(file_name, index_col=0)\n",
        "print(df.head()) # print the first 5 rows"
      ],
      "execution_count": 37,
      "outputs": [
        {
          "output_type": "stream",
          "text": [
            "            PubchemFP2  PubchemFP3  PubchemFP4  ...  BiGram399  BiGram400  Target\n",
            "PubchemFP1                                      ...                              \n",
            "1                    1           0           0  ...     3.0730    0.75382       1\n",
            "1                    1           0           0  ...     2.1047    0.93939       1\n",
            "1                    1           1           0  ...     2.1047    0.93939       1\n",
            "1                    1           1           0  ...     2.8391    1.49230       1\n",
            "1                    1           0           0  ...     1.8568    1.73260       1\n",
            "\n",
            "[5 rows x 1281 columns]\n"
          ],
          "name": "stdout"
        }
      ]
    },
    {
      "cell_type": "code",
      "metadata": {
        "colab": {
          "base_uri": "https://localhost:8080/"
        },
        "id": "hoiSROc3KhVQ",
        "outputId": "5260b00b-6b3d-4e84-911d-9ac1401805ba"
      },
      "source": [
        "df.shape"
      ],
      "execution_count": 38,
      "outputs": [
        {
          "output_type": "execute_result",
          "data": {
            "text/plain": [
              "(8157, 1281)"
            ]
          },
          "metadata": {
            "tags": []
          },
          "execution_count": 38
        }
      ]
    },
    {
      "cell_type": "code",
      "metadata": {
        "colab": {
          "base_uri": "https://localhost:8080/"
        },
        "id": "gF6xil_UK9i6",
        "outputId": "9f8c8a3b-6ad8-42ab-9c5f-43fa48559aea"
      },
      "source": [
        "#Create independent and Dependent Features\n",
        "columns = df.columns.tolist()\n",
        "# Filter the columns to remove data we do not want \n",
        "columns = [c for c in columns if c not in [\"Target\"]]\n",
        "# Store the variable we are predicting \n",
        "target = \"Target\"\n",
        "# Define a random state \n",
        "state = np.random.RandomState(42)\n",
        "X = df[columns]\n",
        "Y = df[target]\n",
        "X_outliers = state.uniform(low=0, high=1, size=(X.shape[0], X.shape[1]))\n",
        "# Print the shapes of X & Y\n",
        "print(X.shape)\n",
        "print(Y.shape)"
      ],
      "execution_count": 39,
      "outputs": [
        {
          "output_type": "stream",
          "text": [
            "(8157, 1280)\n",
            "(8157,)\n"
          ],
          "name": "stdout"
        }
      ]
    },
    {
      "cell_type": "code",
      "metadata": {
        "colab": {
          "base_uri": "https://localhost:8080/",
          "height": 312
        },
        "id": "rI4kP5vrLAcK",
        "outputId": "758e7c43-832c-4944-88e4-e473dd681497"
      },
      "source": [
        "count_classes = pd.value_counts(df['Target'], sort = True)\n",
        "\n",
        "count_classes.plot(kind = 'bar', rot=0)\n",
        "\n",
        "plt.title(\"Class Distribution\")\n",
        "\n",
        "LABELS = [\"Zero\", \"One\"]\n",
        "\n",
        "plt.xticks(range(2), LABELS)\n",
        "\n",
        "plt.xlabel(\"Class\")\n",
        "\n",
        "plt.ylabel(\"Frequency\")"
      ],
      "execution_count": 40,
      "outputs": [
        {
          "output_type": "execute_result",
          "data": {
            "text/plain": [
              "Text(0, 0.5, 'Frequency')"
            ]
          },
          "metadata": {
            "tags": []
          },
          "execution_count": 40
        },
        {
          "output_type": "display_data",
          "data": {
            "image/png": "[encoded data removed]",
            "text/plain": [
              "<Figure size 432x288 with 1 Axes>"
            ]
          },
          "metadata": {
            "tags": [],
            "needs_background": "light"
          }
        }
      ]
    },
    {
      "cell_type": "code",
      "metadata": {
        "id": "AiYuXpTcLDFT"
      },
      "source": [
        "One = df[df['Target']==1]\n",
        "\n",
        "Zero = df[df['Target']==0]"
      ],
      "execution_count": 41,
      "outputs": []
    },
    {
      "cell_type": "code",
      "metadata": {
        "colab": {
          "base_uri": "https://localhost:8080/"
        },
        "id": "0iOhemABLHB4",
        "outputId": "49948042-2a73-4ae3-dd4f-c82bd9c424b5"
      },
      "source": [
        "print(Zero.shape,One.shape)"
      ],
      "execution_count": 42,
      "outputs": [
        {
          "output_type": "stream",
          "text": [
            "(5438, 1281) (2719, 1281)\n"
          ],
          "name": "stdout"
        }
      ]
    },
    {
      "cell_type": "code",
      "metadata": {
        "colab": {
          "base_uri": "https://localhost:8080/"
        },
        "id": "tTuqbIoRLI6u",
        "outputId": "c347e2f7-aa7c-4852-c983-c52f6ae6bc94"
      },
      "source": [
        "from imblearn.over_sampling import ADASYN\n",
        "sm = ADASYN(random_state = 20)\n",
        "X_res,y_res=sm.fit_sample(X,Y)"
      ],
      "execution_count": 43,
      "outputs": [
        {
          "output_type": "stream",
          "text": [
            "/usr/local/lib/python3.7/dist-packages/sklearn/utils/deprecation.py:87: FutureWarning: Function safe_indexing is deprecated; safe_indexing is deprecated in version 0.22 and will be removed in version 0.24.\n",
            "  warnings.warn(msg, category=FutureWarning)\n"
          ],
          "name": "stderr"
        }
      ]
    },
    {
      "cell_type": "code",
      "metadata": {
        "colab": {
          "base_uri": "https://localhost:8080/"
        },
        "id": "ybZLNH0QLKyF",
        "outputId": "ebee195c-fcf8-48b2-fffc-c5cba94263fb"
      },
      "source": [
        "print(X_res.shape)\n",
        "print(y_res.shape)"
      ],
      "execution_count": 44,
      "outputs": [
        {
          "output_type": "stream",
          "text": [
            "(10682, 1280)\n",
            "(10682,)\n"
          ],
          "name": "stdout"
        }
      ]
    },
    {
      "cell_type": "code",
      "metadata": {
        "id": "X5Pcm8sKLNYO"
      },
      "source": [
        "#Split data into independent (X) and dependent(Y) columns\n",
        "\n",
        "y = y_res\n",
        "X = X_res"
      ],
      "execution_count": 45,
      "outputs": []
    },
    {
      "cell_type": "code",
      "metadata": {
        "id": "UjAZaz9HLPs6"
      },
      "source": [
        "from sklearn.model_selection import train_test_split\n",
        "X_train, X_test, y_train, y_test = train_test_split(X, y, test_size=0.10, random_state=20)"
      ],
      "execution_count": 46,
      "outputs": []
    },
    {
      "cell_type": "code",
      "metadata": {
        "id": "yohiepq9LRyH"
      },
      "source": [
        "## Normalize the data\n",
        "from sklearn.preprocessing import MinMaxScaler\n",
        "scaler = MinMaxScaler(feature_range=(0,1))\n",
        "X_train = scaler.fit_transform(X_train)\n",
        "X_test  = scaler.transform(X_test)"
      ],
      "execution_count": 47,
      "outputs": []
    },
    {
      "cell_type": "code",
      "metadata": {
        "colab": {
          "base_uri": "https://localhost:8080/"
        },
        "id": "RqGymDvJLUfJ",
        "outputId": "c10c20f6-5326-4666-8ca4-7debb0201e65"
      },
      "source": [
        "from sklearn.feature_selection import mutual_info_classif\n",
        "# determine the mutual information\n",
        "mutual_info = mutual_info_classif(X_train, y_train)\n",
        "mutual_info"
      ],
      "execution_count": 48,
      "outputs": [
        {
          "output_type": "execute_result",
          "data": {
            "text/plain": [
              "array([0.01055161, 0.05640468, 0.02956142, ..., 0.15447341, 0.15486298,\n",
              "       0.15459993])"
            ]
          },
          "metadata": {
            "tags": []
          },
          "execution_count": 48
        }
      ]
    },
    {
      "cell_type": "code",
      "metadata": {
        "colab": {
          "base_uri": "https://localhost:8080/"
        },
        "id": "RxTDE3BkLXTy",
        "outputId": "8ec227e9-39e2-4738-c3e8-79d28a3d0c6c"
      },
      "source": [
        "mutual_info = pd.Series(mutual_info)\n",
        "mutual_info.sort_values(ascending=False)"
      ],
      "execution_count": 49,
      "outputs": [
        {
          "output_type": "execute_result",
          "data": {
            "text/plain": [
              "1196    0.168618\n",
              "985     0.167335\n",
              "1273    0.165779\n",
              "1044    0.164672\n",
              "1011    0.164654\n",
              "          ...   \n",
              "269     0.000000\n",
              "270     0.000000\n",
              "271     0.000000\n",
              "272     0.000000\n",
              "726     0.000000\n",
              "Length: 1280, dtype: float64"
            ]
          },
          "metadata": {
            "tags": []
          },
          "execution_count": 49
        }
      ]
    },
    {
      "cell_type": "code",
      "metadata": {
        "colab": {
          "base_uri": "https://localhost:8080/"
        },
        "id": "YvhcBKNrLab3",
        "outputId": "779f10ac-aa5e-44af-c47b-a594a13a3c19"
      },
      "source": [
        "mutual_info = pd.Series(mutual_info)\n",
        "mutual_info.sort_values(ascending=False)"
      ],
      "execution_count": 50,
      "outputs": [
        {
          "output_type": "execute_result",
          "data": {
            "text/plain": [
              "1196    0.168618\n",
              "985     0.167335\n",
              "1273    0.165779\n",
              "1044    0.164672\n",
              "1011    0.164654\n",
              "          ...   \n",
              "269     0.000000\n",
              "270     0.000000\n",
              "271     0.000000\n",
              "272     0.000000\n",
              "726     0.000000\n",
              "Length: 1280, dtype: float64"
            ]
          },
          "metadata": {
            "tags": []
          },
          "execution_count": 50
        }
      ]
    },
    {
      "cell_type": "code",
      "metadata": {
        "colab": {
          "base_uri": "https://localhost:8080/",
          "height": 449
        },
        "id": "kqo3GElsLdLH",
        "outputId": "8c1f594d-35a0-45ea-cb4c-aa34f0e76447"
      },
      "source": [
        "#let's plot the ordered mutual_info values per feature\n",
        "mutual_info.sort_values(ascending=False).plot.bar(figsize=(25, 8))"
      ],
      "execution_count": 51,
      "outputs": [
        {
          "output_type": "execute_result",
          "data": {
            "text/plain": [
              "<matplotlib.axes._subplots.AxesSubplot at 0x7ffba1a2a410>"
            ]
          },
          "metadata": {
            "tags": []
          },
          "execution_count": 51
        },
        {
          "output_type": "display_data",
          "data": {
            "image/png": "[encoded data removed]",
            "text/plain": [
              "<Figure size 1800x576 with 1 Axes>"
            ]
          },
          "metadata": {
            "tags": [],
            "needs_background": "light"
          }
        }
      ]
    },
    {
      "cell_type": "code",
      "metadata": {
        "colab": {
          "base_uri": "https://localhost:8080/"
        },
        "id": "yezS-DIqLfYQ",
        "outputId": "1686418a-04b6-4328-dc2c-8f03e727ff07"
      },
      "source": [
        "from sklearn.feature_selection import SelectKBest\n",
        "#No we Will select the  top 826 important features\n",
        "#sel_five_cols = SelectKBest(mutual_info_classif, k=800)\n",
        "bestfeatures_1 = SelectKBest(mutual_info_classif, k=1000) ## we will select 826 features\n",
        "select = bestfeatures_1.fit(X_train,y_train)\n",
        "X_train_selected = select.transform(X_train)\n",
        "\n",
        "print(\"X_train.shape: {}\".format(X_train.shape))\n",
        "print(\"X_train_selected.shape: {}\".format(X_train_selected.shape))"
      ],
      "execution_count": 52,
      "outputs": [
        {
          "output_type": "stream",
          "text": [
            "X_train.shape: (9613, 1280)\n",
            "X_train_selected.shape: (9613, 1000)\n"
          ],
          "name": "stdout"
        }
      ]
    },
    {
      "cell_type": "code",
      "metadata": {
        "colab": {
          "base_uri": "https://localhost:8080/"
        },
        "id": "1uB-ZwsoL3dJ",
        "outputId": "1a5381c6-4a91-473f-c1cf-b07d0e322d0e"
      },
      "source": [
        "select = bestfeatures_1.fit(X_test,y_test)\n",
        "X_test_selected = select.transform(X_test)\n",
        "\n",
        "print(\"X_train.shape: {}\".format(X_test.shape))\n",
        "print(\"X_train_selected.shape: {}\".format(X_test_selected.shape))"
      ],
      "execution_count": 53,
      "outputs": [
        {
          "output_type": "stream",
          "text": [
            "X_train.shape: (1069, 1280)\n",
            "X_train_selected.shape: (1069, 1000)\n"
          ],
          "name": "stdout"
        }
      ]
    },
    {
      "cell_type": "code",
      "metadata": {
        "colab": {
          "base_uri": "https://localhost:8080/"
        },
        "id": "vipwwzfWL77T",
        "outputId": "1df2363e-8f11-42e2-cf5e-d3b58f732c4c"
      },
      "source": [
        "print(X_train_selected.shape)\n",
        "print(X_test_selected.shape)"
      ],
      "execution_count": 54,
      "outputs": [
        {
          "output_type": "stream",
          "text": [
            "(9613, 1000)\n",
            "(1069, 1000)\n"
          ],
          "name": "stdout"
        }
      ]
    },
    {
      "cell_type": "code",
      "metadata": {
        "id": "YYrCkuMaL-FO"
      },
      "source": [
        "import numpy as np\n",
        "import pandas as pd\n",
        "import tensorflow as tf\n",
        "from tensorflow import keras\n",
        "from tensorflow.keras import Sequential\n",
        "from tensorflow.keras.layers import Flatten, Dense, Dropout, BatchNormalization\n",
        "from tensorflow.keras.layers import Conv1D, MaxPool1D\n",
        "\n",
        "from tensorflow.keras.optimizers import Adam\n",
        "\n",
        "import  seaborn as sns\n",
        "import matplotlib.pyplot as plt\n",
        "from sklearn import datasets, metrics\n",
        "from sklearn.model_selection import train_test_split\n",
        "from sklearn.preprocessing import StandardScaler"
      ],
      "execution_count": 55,
      "outputs": []
    },
    {
      "cell_type": "code",
      "metadata": {
        "id": "oweuuHXqMA2u"
      },
      "source": [
        "scaler = StandardScaler()\n",
        "X_train = scaler.fit_transform(X_train_selected)\n",
        "X_test = scaler.transform(X_test_selected)\n"
      ],
      "execution_count": 56,
      "outputs": []
    },
    {
      "cell_type": "code",
      "metadata": {
        "id": "NoFM9xjSMEFZ"
      },
      "source": [
        "X_train = X_train.reshape(9613, 1000,1)\n",
        "X_test = X_test.reshape(1069, 1000, 1)"
      ],
      "execution_count": 57,
      "outputs": []
    },
    {
      "cell_type": "code",
      "metadata": {
        "colab": {
          "base_uri": "https://localhost:8080/"
        },
        "id": "w67NZCppM3hf",
        "outputId": "ecba438e-f1d1-4589-9f86-40f98ca12dac"
      },
      "source": [
        "\n",
        "from keras.wrappers.scikit_learn import KerasClassifier\n",
        "from sklearn.model_selection import cross_val_score\n",
        "from keras.models import Sequential\n",
        "from keras.layers import Dense\n",
        "def built_classifier():\n",
        "  model = Sequential()\n",
        "  model.add(Conv1D(filters=32, kernel_size=4, activation='relu', input_shape = (1000,1)))\n",
        "  model.add(BatchNormalization())\n",
        "  model.add(Dropout(0.2))\n",
        "\n",
        "  model.add(Conv1D(filters=64, kernel_size=4, activation='relu'))\n",
        "  model.add(BatchNormalization())\n",
        "  model.add(Dropout(0.3))\n",
        "\n",
        "  model.add(Flatten())\n",
        "  model.add(Dense(64, activation='relu'))\n",
        "  model.add(Dropout(0.5))\n",
        "\n",
        "  model.add(Dense(1, activation='sigmoid'))\n",
        "  model.compile(optimizer=Adam(lr=0.0001), loss = 'binary_crossentropy', metrics=['accuracy'])\n",
        "\n",
        "  return model\n",
        "\n",
        "model = KerasClassifier(build_fn = built_classifier,batch_size=16,epochs=100)\n",
        "accuracies = cross_val_score(estimator=model,X=X_train,y=y_train,cv=5,n_jobs=-1)\n",
        "print(accuracies)"
      ],
      "execution_count": 58,
      "outputs": [
        {
          "output_type": "stream",
          "text": [
            "[0.9381175  0.93759751 0.94539779 0.93392301 0.94120705]\n"
          ],
          "name": "stdout"
        }
      ]
    },
    {
      "cell_type": "code",
      "metadata": {
        "colab": {
          "base_uri": "https://localhost:8080/"
        },
        "id": "eOBeLHwfNDxh",
        "outputId": "e6c252bc-e511-44e8-fc16-e681edace525"
      },
      "source": [
        "mean = accuracies.mean()\n",
        "print(mean)\n"
      ],
      "execution_count": 59,
      "outputs": [
        {
          "output_type": "stream",
          "text": [
            "0.9392485737800598\n"
          ],
          "name": "stdout"
        }
      ]
    },
    {
      "cell_type": "code",
      "metadata": {
        "colab": {
          "base_uri": "https://localhost:8080/"
        },
        "id": "F0aGNX7lNHGj",
        "outputId": "ca697d97-4f50-4583-8e02-9578db65db19"
      },
      "source": [
        "### Now making Confusion matrix\n",
        "from sklearn.model_selection import cross_val_predict\n",
        "from sklearn.metrics import confusion_matrix,accuracy_score\n",
        "y_pred = cross_val_predict(model,X_train, y_train, cv=5,n_jobs=-1)\n",
        "cmann=confusion_matrix(y_train, y_pred)\n",
        "print(cmann)\n",
        "accuracy = (cmann[0][0]+cmann[1][1])/(cmann[0][1] + cmann[1][0] +cmann[0][0] +cmann[1][1]) \n",
        "print(accuracy*100)"
      ],
      "execution_count": 60,
      "outputs": [
        {
          "output_type": "stream",
          "text": [
            "[[4425  466]\n",
            " [  66 4656]]\n",
            "94.46582752522626\n"
          ],
          "name": "stdout"
        }
      ]
    },
    {
      "cell_type": "code",
      "metadata": {
        "colab": {
          "base_uri": "https://localhost:8080/"
        },
        "id": "nMkq-DVqNJTF",
        "outputId": "033215ba-6c33-462e-d2ca-b139c35c7e22"
      },
      "source": [
        "from sklearn.metrics import roc_auc_score\n",
        "print(\"AUC = \",roc_auc_score(y_train,y_pred))"
      ],
      "execution_count": 61,
      "outputs": [
        {
          "output_type": "stream",
          "text": [
            "AUC =  0.9453729161021579\n"
          ],
          "name": "stdout"
        }
      ]
    },
    {
      "cell_type": "code",
      "metadata": {
        "colab": {
          "base_uri": "https://localhost:8080/"
        },
        "id": "Vj5qmuzSNMI1",
        "outputId": "b98bc687-f777-48f6-9313-41e4e14e6dca"
      },
      "source": [
        "from sklearn.metrics import matthews_corrcoef,confusion_matrix\n",
        "matthews_corrcoef(y_train,y_pred)"
      ],
      "execution_count": 62,
      "outputs": [
        {
          "output_type": "execute_result",
          "data": {
            "text/plain": [
              "0.892533050794143"
            ]
          },
          "metadata": {
            "tags": []
          },
          "execution_count": 62
        }
      ]
    },
    {
      "cell_type": "code",
      "metadata": {
        "colab": {
          "base_uri": "https://localhost:8080/"
        },
        "id": "8TXtrkjVNOKB",
        "outputId": "70a25e18-cf55-4aab-e679-adc1affabc0e"
      },
      "source": [
        "TP = cmann[0][0]\n",
        "TN = cmann[1][1]\n",
        "FP = cmann[0][1]\n",
        "FN = cmann[1][0]\n",
        "print('True Positives:', TP)\n",
        "print('True Negatives:', TN)\n",
        "print('False Positives:', FP)\n",
        "print('False Negatives:', FN)"
      ],
      "execution_count": 63,
      "outputs": [
        {
          "output_type": "stream",
          "text": [
            "True Positives: 4425\n",
            "True Negatives: 4656\n",
            "False Positives: 466\n",
            "False Negatives: 66\n"
          ],
          "name": "stdout"
        }
      ]
    },
    {
      "cell_type": "code",
      "metadata": {
        "colab": {
          "base_uri": "https://localhost:8080/"
        },
        "id": "kzA72kEcNQQt",
        "outputId": "8ba63b6e-b1da-4b54-99b6-6f06028ea0ca"
      },
      "source": [
        "sensitivity=(TP/(TP+FN))\n",
        "sensitivity"
      ],
      "execution_count": 64,
      "outputs": [
        {
          "output_type": "execute_result",
          "data": {
            "text/plain": [
              "0.9853039412157648"
            ]
          },
          "metadata": {
            "tags": []
          },
          "execution_count": 64
        }
      ]
    },
    {
      "cell_type": "code",
      "metadata": {
        "colab": {
          "base_uri": "https://localhost:8080/"
        },
        "id": "AD6MWAzZNSqE",
        "outputId": "f55ea859-f9a3-4a32-9373-8a1121317d78"
      },
      "source": [
        "specificity = (TN/(TN+FP))\n",
        "specificity"
      ],
      "execution_count": 65,
      "outputs": [
        {
          "output_type": "execute_result",
          "data": {
            "text/plain": [
              "0.9090199140960562"
            ]
          },
          "metadata": {
            "tags": []
          },
          "execution_count": 65
        }
      ]
    },
    {
      "cell_type": "code",
      "metadata": {
        "colab": {
          "base_uri": "https://localhost:8080/"
        },
        "id": "lS_ZwkApNUjy",
        "outputId": "9836ca94-4641-4607-9ca5-87c3f4abbc6d"
      },
      "source": [
        "precision = (TP/(TP+FP))\n",
        "recall = (TP/(TP+FN))\n",
        "print(precision)\n",
        "print(recall)"
      ],
      "execution_count": 66,
      "outputs": [
        {
          "output_type": "stream",
          "text": [
            "0.904722960539767\n",
            "0.9853039412157648\n"
          ],
          "name": "stdout"
        }
      ]
    },
    {
      "cell_type": "code",
      "metadata": {
        "colab": {
          "base_uri": "https://localhost:8080/"
        },
        "id": "nPS-ZkQoNWaJ",
        "outputId": "d5959ce9-e615-433d-ab4e-6e87ddab1fa3"
      },
      "source": [
        "f1 = (2*(precision*recall))/(precision+recall)\n",
        "f1"
      ],
      "execution_count": 67,
      "outputs": [
        {
          "output_type": "execute_result",
          "data": {
            "text/plain": [
              "0.9432956725644851"
            ]
          },
          "metadata": {
            "tags": []
          },
          "execution_count": 67
        }
      ]
    },
    {
      "cell_type": "code",
      "metadata": {
        "colab": {
          "base_uri": "https://localhost:8080/"
        },
        "id": "amtvyWQgNYUB",
        "outputId": "ebedc652-b387-4c9c-cd92-e46188c172ec"
      },
      "source": [
        "## AUPR score\n",
        "from sklearn.metrics import average_precision_score\n",
        "aupr=average_precision_score(y_train,y_pred)\n",
        "aupr"
      ],
      "execution_count": 68,
      "outputs": [
        {
          "output_type": "execute_result",
          "data": {
            "text/plain": [
              "0.9031801287915231"
            ]
          },
          "metadata": {
            "tags": []
          },
          "execution_count": 68
        }
      ]
    },
    {
      "cell_type": "code",
      "metadata": {
        "id": "davxutIbNa76"
      },
      "source": [
        ""
      ],
      "execution_count": 34,
      "outputs": []
    }
  ]
}