{
  "nbformat": 4,
  "nbformat_minor": 0,
  "metadata": {
    "colab": {
      "name": "Acc_75.11 PosNeg.ipynb",
      "provenance": [],
      "authorship_tag": "ABX9TyOQ9eKMtliJkIHaiDYahDhj",
      "include_colab_link": true
    },
    "kernelspec": {
      "name": "python3",
      "display_name": "Python 3"
    },
    "language_info": {
      "name": "python"
    },
    "accelerator": "GPU"
  },
  "cells": [
    {
      "cell_type": "markdown",
      "metadata": {
        "id": "view-in-github",
        "colab_type": "text"
      },
      "source": [
        "<a href=\"https://colab.research.google.com/github/faruk17035/MachineLearning-Using-GoogleColab/blob/main/Acc_75_11_PosNeg.ipynb\" target=\"_parent\"><img src=\"https://colab.research.google.com/assets/colab-badge.svg\" alt=\"Open In Colab\"/></a>"
      ]
    },
    {
      "cell_type": "code",
      "metadata": {
        "id": "-FKZ9tYVS65I"
      },
      "source": [
        "import numpy as np\n",
        "import matplotlib.pyplot as plt\n",
        "import pandas as pd"
      ],
      "execution_count": 5,
      "outputs": []
    },
    {
      "cell_type": "code",
      "metadata": {
        "colab": {
          "base_uri": "https://localhost:8080/"
        },
        "id": "ekB-LyrlTHYe",
        "outputId": "f206b41b-c3b7-446d-8a45-3ec9ad3f46be"
      },
      "source": [
        "from google.colab import drive \n",
        "drive.mount('/content/gdrive')"
      ],
      "execution_count": 6,
      "outputs": [
        {
          "output_type": "stream",
          "text": [
            "Mounted at /content/gdrive\n"
          ],
          "name": "stdout"
        }
      ]
    },
    {
      "cell_type": "code",
      "metadata": {
        "colab": {
          "base_uri": "https://localhost:8080/"
        },
        "id": "Lvri9T_UTcSy",
        "outputId": "c9bbff78-7fa4-4d49-d6b5-a260b3c5abff"
      },
      "source": [
        "import pandas as pd\n",
        "from pandas import read_excel\n",
        "file_name = '/content/gdrive/MyDrive/HasanSirPosNeg.csv' \n",
        "df = pd.read_csv(file_name, index_col=0)\n",
        "print(df.head()) # print the first 5 rows"
      ],
      "execution_count": 7,
      "outputs": [
        {
          "output_type": "stream",
          "text": [
            "          AC     AD     AE     AF     AG  ...     YT     YV     YW     YY  Target\n",
            "AA                                        ...                                    \n",
            "0.005  0.001  0.006  0.006  0.004  0.002  ...  0.001  0.002  0.000  0.002       1\n",
            "0.004  0.000  0.004  0.004  0.002  0.004  ...  0.000  0.004  0.000  0.000       1\n",
            "0.008  0.000  0.004  0.013  0.000  0.000  ...  0.000  0.004  0.000  0.004       1\n",
            "0.005  0.002  0.005  0.000  0.005  0.003  ...  0.002  0.000  0.000  0.002       1\n",
            "0.008  0.003  0.001  0.010  0.001  0.003  ...  0.001  0.001  0.001  0.001       1\n",
            "\n",
            "[5 rows x 400 columns]\n"
          ],
          "name": "stdout"
        }
      ]
    },
    {
      "cell_type": "code",
      "metadata": {
        "id": "7E7pdAWlTpN8"
      },
      "source": [
        "#Split data into independent (X) and dependent(Y) columns\n",
        "\n",
        "y = df['Target'].values\n",
        "X = df.drop('Target', axis=1).values"
      ],
      "execution_count": 8,
      "outputs": []
    },
    {
      "cell_type": "code",
      "metadata": {
        "id": "B0LSOCQ4Tsme"
      },
      "source": [
        "from sklearn.model_selection import train_test_split\n",
        "X_train, X_test, y_train, y_test = train_test_split(X, y, test_size = 0.20, random_state = 20)"
      ],
      "execution_count": 9,
      "outputs": []
    },
    {
      "cell_type": "code",
      "metadata": {
        "colab": {
          "base_uri": "https://localhost:8080/"
        },
        "id": "AxgwG5--Turn",
        "outputId": "753f5022-99cd-4892-a0e6-86a10848bcbe"
      },
      "source": [
        "print(X_train.shape)\n",
        "print(X_test.shape)"
      ],
      "execution_count": 10,
      "outputs": [
        {
          "output_type": "stream",
          "text": [
            "(7200, 399)\n",
            "(1800, 399)\n"
          ],
          "name": "stdout"
        }
      ]
    },
    {
      "cell_type": "code",
      "metadata": {
        "id": "c7WUMPOvcR7C"
      },
      "source": [
        "from sklearn import datasets, metrics\n",
        "from sklearn.model_selection import train_test_split\n",
        "from sklearn.preprocessing import StandardScaler\n",
        "scaler = StandardScaler()\n",
        "X_train = scaler.fit_transform(X_train)\n",
        "X_test = scaler.transform(X_test)"
      ],
      "execution_count": 11,
      "outputs": []
    },
    {
      "cell_type": "code",
      "metadata": {
        "id": "dhG1j-09Twi6"
      },
      "source": [
        "X_train = X_train.reshape(7200, 399,1)\n",
        "X_test = X_test.reshape(1800, 399, 1)"
      ],
      "execution_count": 12,
      "outputs": []
    },
    {
      "cell_type": "code",
      "metadata": {
        "id": "ymVtFDQqTzW_"
      },
      "source": [
        "import numpy as np\n",
        "import pandas as pd\n",
        "import tensorflow as tf\n",
        "from tensorflow import keras\n",
        "from tensorflow.keras import Sequential\n",
        "from tensorflow.keras.layers import Flatten, Dense, Dropout, BatchNormalization\n",
        "from tensorflow.keras.layers import Conv1D, MaxPool1D\n",
        "\n",
        "from tensorflow.keras.optimizers import Adam\n",
        "\n",
        "import  seaborn as sns\n",
        "import matplotlib.pyplot as plt\n",
        "from sklearn import datasets, metrics\n",
        "from sklearn.model_selection import train_test_split\n",
        "from sklearn.preprocessing import StandardScaler"
      ],
      "execution_count": 13,
      "outputs": []
    },
    {
      "cell_type": "code",
      "metadata": {
        "id": "FpbJqj8TT191"
      },
      "source": [
        "epochs = 100\n",
        "model = Sequential()\n",
        "model.add(Conv1D(filters=48, kernel_size=4, activation='relu', input_shape = (399,1)))\n",
        "model.add(BatchNormalization())\n",
        "model.add(Dropout(0.1))\n",
        "\n",
        "model.add(Conv1D(filters=64, kernel_size=4, activation='relu'))\n",
        "model.add(BatchNormalization())\n",
        "model.add(Dropout(0.5))\n",
        "\n",
        "model.add(Flatten())\n",
        "model.add(Dense(64, activation='relu'))\n",
        "model.add(Dropout(0.5))\n",
        "\n",
        "model.add(Dense(1, activation='sigmoid'))"
      ],
      "execution_count": 110,
      "outputs": []
    },
    {
      "cell_type": "code",
      "metadata": {
        "colab": {
          "base_uri": "https://localhost:8080/"
        },
        "id": "A3eQuh9MT40x",
        "outputId": "6787c751-4ae5-458e-c0eb-eb53b5e65a83"
      },
      "source": [
        "model.summary()"
      ],
      "execution_count": 111,
      "outputs": [
        {
          "output_type": "stream",
          "text": [
            "Model: \"sequential_14\"\n",
            "_________________________________________________________________\n",
            "Layer (type)                 Output Shape              Param #   \n",
            "=================================================================\n",
            "conv1d_30 (Conv1D)           (None, 396, 48)           240       \n",
            "_________________________________________________________________\n",
            "batch_normalization_30 (Batc (None, 396, 48)           192       \n",
            "_________________________________________________________________\n",
            "dropout_42 (Dropout)         (None, 396, 48)           0         \n",
            "_________________________________________________________________\n",
            "conv1d_31 (Conv1D)           (None, 393, 64)           12352     \n",
            "_________________________________________________________________\n",
            "batch_normalization_31 (Batc (None, 393, 64)           256       \n",
            "_________________________________________________________________\n",
            "dropout_43 (Dropout)         (None, 393, 64)           0         \n",
            "_________________________________________________________________\n",
            "flatten_14 (Flatten)         (None, 25152)             0         \n",
            "_________________________________________________________________\n",
            "dense_28 (Dense)             (None, 64)                1609792   \n",
            "_________________________________________________________________\n",
            "dropout_44 (Dropout)         (None, 64)                0         \n",
            "_________________________________________________________________\n",
            "dense_29 (Dense)             (None, 1)                 65        \n",
            "=================================================================\n",
            "Total params: 1,622,897\n",
            "Trainable params: 1,622,673\n",
            "Non-trainable params: 224\n",
            "_________________________________________________________________\n"
          ],
          "name": "stdout"
        }
      ]
    },
    {
      "cell_type": "code",
      "metadata": {
        "id": "d6sb_AVzT7Ju"
      },
      "source": [
        "model.compile(optimizer=Adam(lr=0.00001), loss = 'binary_crossentropy', metrics=['accuracy'])"
      ],
      "execution_count": 112,
      "outputs": []
    },
    {
      "cell_type": "code",
      "metadata": {
        "colab": {
          "base_uri": "https://localhost:8080/"
        },
        "id": "eaKo9E_zT_XI",
        "outputId": "b515a95d-5b7f-416b-d093-47634be0f1ab"
      },
      "source": [
        "history = model.fit(X_train, y_train, epochs=epochs, validation_data=(X_test, y_test), verbose=1)"
      ],
      "execution_count": 113,
      "outputs": [
        {
          "output_type": "stream",
          "text": [
            "Epoch 1/100\n",
            "225/225 [==============================] - 2s 6ms/step - loss: 1.2124 - accuracy: 0.5242 - val_loss: 0.6474 - val_accuracy: 0.6033\n",
            "Epoch 2/100\n",
            "225/225 [==============================] - 1s 4ms/step - loss: 0.9573 - accuracy: 0.6042 - val_loss: 0.5903 - val_accuracy: 0.6739\n",
            "Epoch 3/100\n",
            "225/225 [==============================] - 1s 4ms/step - loss: 0.8555 - accuracy: 0.6258 - val_loss: 0.5699 - val_accuracy: 0.6994\n",
            "Epoch 4/100\n",
            "225/225 [==============================] - 1s 5ms/step - loss: 0.7936 - accuracy: 0.6499 - val_loss: 0.5657 - val_accuracy: 0.7078\n",
            "Epoch 5/100\n",
            "225/225 [==============================] - 1s 5ms/step - loss: 0.7403 - accuracy: 0.6656 - val_loss: 0.5537 - val_accuracy: 0.7139\n",
            "Epoch 6/100\n",
            "225/225 [==============================] - 1s 4ms/step - loss: 0.7030 - accuracy: 0.6859 - val_loss: 0.5449 - val_accuracy: 0.7078\n",
            "Epoch 7/100\n",
            "225/225 [==============================] - 1s 4ms/step - loss: 0.7061 - accuracy: 0.6846 - val_loss: 0.5396 - val_accuracy: 0.7078\n",
            "Epoch 8/100\n",
            "225/225 [==============================] - 1s 4ms/step - loss: 0.6833 - accuracy: 0.6788 - val_loss: 0.5346 - val_accuracy: 0.7150\n",
            "Epoch 9/100\n",
            "225/225 [==============================] - 1s 4ms/step - loss: 0.6659 - accuracy: 0.6926 - val_loss: 0.5318 - val_accuracy: 0.7144\n",
            "Epoch 10/100\n",
            "225/225 [==============================] - 1s 5ms/step - loss: 0.6347 - accuracy: 0.7030 - val_loss: 0.5273 - val_accuracy: 0.7194\n",
            "Epoch 11/100\n",
            "225/225 [==============================] - 1s 5ms/step - loss: 0.5877 - accuracy: 0.7262 - val_loss: 0.5242 - val_accuracy: 0.7233\n",
            "Epoch 12/100\n",
            "225/225 [==============================] - 1s 4ms/step - loss: 0.5950 - accuracy: 0.7161 - val_loss: 0.5235 - val_accuracy: 0.7233\n",
            "Epoch 13/100\n",
            "225/225 [==============================] - 1s 4ms/step - loss: 0.6104 - accuracy: 0.6969 - val_loss: 0.5217 - val_accuracy: 0.7228\n",
            "Epoch 14/100\n",
            "225/225 [==============================] - 1s 4ms/step - loss: 0.5716 - accuracy: 0.7264 - val_loss: 0.5218 - val_accuracy: 0.7250\n",
            "Epoch 15/100\n",
            "225/225 [==============================] - 1s 4ms/step - loss: 0.5595 - accuracy: 0.7242 - val_loss: 0.5214 - val_accuracy: 0.7200\n",
            "Epoch 16/100\n",
            "225/225 [==============================] - 1s 4ms/step - loss: 0.5461 - accuracy: 0.7235 - val_loss: 0.5210 - val_accuracy: 0.7244\n",
            "Epoch 17/100\n",
            "225/225 [==============================] - 1s 4ms/step - loss: 0.5398 - accuracy: 0.7324 - val_loss: 0.5200 - val_accuracy: 0.7244\n",
            "Epoch 18/100\n",
            "225/225 [==============================] - 1s 4ms/step - loss: 0.5271 - accuracy: 0.7430 - val_loss: 0.5200 - val_accuracy: 0.7256\n",
            "Epoch 19/100\n",
            "225/225 [==============================] - 1s 4ms/step - loss: 0.5414 - accuracy: 0.7350 - val_loss: 0.5185 - val_accuracy: 0.7200\n",
            "Epoch 20/100\n",
            "225/225 [==============================] - 1s 4ms/step - loss: 0.5189 - accuracy: 0.7377 - val_loss: 0.5175 - val_accuracy: 0.7244\n",
            "Epoch 21/100\n",
            "225/225 [==============================] - 1s 4ms/step - loss: 0.5224 - accuracy: 0.7396 - val_loss: 0.5173 - val_accuracy: 0.7222\n",
            "Epoch 22/100\n",
            "225/225 [==============================] - 1s 4ms/step - loss: 0.5012 - accuracy: 0.7475 - val_loss: 0.5180 - val_accuracy: 0.7283\n",
            "Epoch 23/100\n",
            "225/225 [==============================] - 1s 4ms/step - loss: 0.5007 - accuracy: 0.7542 - val_loss: 0.5170 - val_accuracy: 0.7306\n",
            "Epoch 24/100\n",
            "225/225 [==============================] - 1s 5ms/step - loss: 0.4860 - accuracy: 0.7677 - val_loss: 0.5180 - val_accuracy: 0.7322\n",
            "Epoch 25/100\n",
            "225/225 [==============================] - 1s 4ms/step - loss: 0.4707 - accuracy: 0.7745 - val_loss: 0.5157 - val_accuracy: 0.7294\n",
            "Epoch 26/100\n",
            "225/225 [==============================] - 1s 5ms/step - loss: 0.4775 - accuracy: 0.7592 - val_loss: 0.5161 - val_accuracy: 0.7311\n",
            "Epoch 27/100\n",
            "225/225 [==============================] - 1s 4ms/step - loss: 0.4620 - accuracy: 0.7676 - val_loss: 0.5143 - val_accuracy: 0.7350\n",
            "Epoch 28/100\n",
            "225/225 [==============================] - 1s 5ms/step - loss: 0.4810 - accuracy: 0.7602 - val_loss: 0.5143 - val_accuracy: 0.7389\n",
            "Epoch 29/100\n",
            "225/225 [==============================] - 1s 4ms/step - loss: 0.4482 - accuracy: 0.7734 - val_loss: 0.5146 - val_accuracy: 0.7356\n",
            "Epoch 30/100\n",
            "225/225 [==============================] - 1s 4ms/step - loss: 0.4346 - accuracy: 0.7918 - val_loss: 0.5131 - val_accuracy: 0.7394\n",
            "Epoch 31/100\n",
            "225/225 [==============================] - 1s 4ms/step - loss: 0.4410 - accuracy: 0.7874 - val_loss: 0.5133 - val_accuracy: 0.7456\n",
            "Epoch 32/100\n",
            "225/225 [==============================] - 1s 4ms/step - loss: 0.4437 - accuracy: 0.7786 - val_loss: 0.5139 - val_accuracy: 0.7472\n",
            "Epoch 33/100\n",
            "225/225 [==============================] - 1s 5ms/step - loss: 0.4403 - accuracy: 0.7833 - val_loss: 0.5148 - val_accuracy: 0.7422\n",
            "Epoch 34/100\n",
            "225/225 [==============================] - 1s 5ms/step - loss: 0.4254 - accuracy: 0.7887 - val_loss: 0.5149 - val_accuracy: 0.7383\n",
            "Epoch 35/100\n",
            "225/225 [==============================] - 1s 4ms/step - loss: 0.4176 - accuracy: 0.7889 - val_loss: 0.5139 - val_accuracy: 0.7417\n",
            "Epoch 36/100\n",
            "225/225 [==============================] - 1s 4ms/step - loss: 0.4146 - accuracy: 0.8023 - val_loss: 0.5128 - val_accuracy: 0.7472\n",
            "Epoch 37/100\n",
            "225/225 [==============================] - 1s 4ms/step - loss: 0.3958 - accuracy: 0.8105 - val_loss: 0.5132 - val_accuracy: 0.7394\n",
            "Epoch 38/100\n",
            "225/225 [==============================] - 1s 5ms/step - loss: 0.3898 - accuracy: 0.8096 - val_loss: 0.5115 - val_accuracy: 0.7461\n",
            "Epoch 39/100\n",
            "225/225 [==============================] - 1s 4ms/step - loss: 0.4118 - accuracy: 0.7985 - val_loss: 0.5138 - val_accuracy: 0.7411\n",
            "Epoch 40/100\n",
            "225/225 [==============================] - 1s 4ms/step - loss: 0.3974 - accuracy: 0.8102 - val_loss: 0.5153 - val_accuracy: 0.7406\n",
            "Epoch 41/100\n",
            "225/225 [==============================] - 1s 4ms/step - loss: 0.4194 - accuracy: 0.7948 - val_loss: 0.5154 - val_accuracy: 0.7411\n",
            "Epoch 42/100\n",
            "225/225 [==============================] - 1s 4ms/step - loss: 0.3998 - accuracy: 0.8045 - val_loss: 0.5156 - val_accuracy: 0.7450\n",
            "Epoch 43/100\n",
            "225/225 [==============================] - 1s 4ms/step - loss: 0.3873 - accuracy: 0.8201 - val_loss: 0.5165 - val_accuracy: 0.7500\n",
            "Epoch 44/100\n",
            "225/225 [==============================] - 1s 4ms/step - loss: 0.3869 - accuracy: 0.8164 - val_loss: 0.5159 - val_accuracy: 0.7511\n",
            "Epoch 45/100\n",
            "225/225 [==============================] - 1s 4ms/step - loss: 0.3840 - accuracy: 0.8162 - val_loss: 0.5179 - val_accuracy: 0.7489\n",
            "Epoch 46/100\n",
            "225/225 [==============================] - 1s 4ms/step - loss: 0.3860 - accuracy: 0.8139 - val_loss: 0.5172 - val_accuracy: 0.7450\n",
            "Epoch 47/100\n",
            "225/225 [==============================] - 1s 4ms/step - loss: 0.3820 - accuracy: 0.8195 - val_loss: 0.5179 - val_accuracy: 0.7428\n",
            "Epoch 48/100\n",
            "225/225 [==============================] - 1s 4ms/step - loss: 0.3750 - accuracy: 0.8248 - val_loss: 0.5185 - val_accuracy: 0.7422\n",
            "Epoch 49/100\n",
            "225/225 [==============================] - 1s 4ms/step - loss: 0.3621 - accuracy: 0.8301 - val_loss: 0.5196 - val_accuracy: 0.7417\n",
            "Epoch 50/100\n",
            "225/225 [==============================] - 1s 5ms/step - loss: 0.3666 - accuracy: 0.8326 - val_loss: 0.5198 - val_accuracy: 0.7417\n",
            "Epoch 51/100\n",
            "225/225 [==============================] - 1s 4ms/step - loss: 0.3588 - accuracy: 0.8266 - val_loss: 0.5197 - val_accuracy: 0.7456\n",
            "Epoch 52/100\n",
            "225/225 [==============================] - 1s 4ms/step - loss: 0.3495 - accuracy: 0.8471 - val_loss: 0.5191 - val_accuracy: 0.7422\n",
            "Epoch 53/100\n",
            "225/225 [==============================] - 1s 4ms/step - loss: 0.3362 - accuracy: 0.8473 - val_loss: 0.5200 - val_accuracy: 0.7433\n",
            "Epoch 54/100\n",
            "225/225 [==============================] - 1s 5ms/step - loss: 0.3494 - accuracy: 0.8445 - val_loss: 0.5197 - val_accuracy: 0.7478\n",
            "Epoch 55/100\n",
            "225/225 [==============================] - 1s 4ms/step - loss: 0.3469 - accuracy: 0.8314 - val_loss: 0.5201 - val_accuracy: 0.7461\n",
            "Epoch 56/100\n",
            "225/225 [==============================] - 1s 4ms/step - loss: 0.3552 - accuracy: 0.8273 - val_loss: 0.5206 - val_accuracy: 0.7467\n",
            "Epoch 57/100\n",
            "225/225 [==============================] - 1s 4ms/step - loss: 0.3272 - accuracy: 0.8492 - val_loss: 0.5185 - val_accuracy: 0.7450\n",
            "Epoch 58/100\n",
            "225/225 [==============================] - 1s 5ms/step - loss: 0.3266 - accuracy: 0.8531 - val_loss: 0.5188 - val_accuracy: 0.7489\n",
            "Epoch 59/100\n",
            "225/225 [==============================] - 1s 4ms/step - loss: 0.3348 - accuracy: 0.8466 - val_loss: 0.5193 - val_accuracy: 0.7456\n",
            "Epoch 60/100\n",
            "225/225 [==============================] - 1s 5ms/step - loss: 0.3302 - accuracy: 0.8453 - val_loss: 0.5195 - val_accuracy: 0.7422\n",
            "Epoch 61/100\n",
            "225/225 [==============================] - 1s 5ms/step - loss: 0.3342 - accuracy: 0.8488 - val_loss: 0.5201 - val_accuracy: 0.7467\n",
            "Epoch 62/100\n",
            "225/225 [==============================] - 1s 4ms/step - loss: 0.3343 - accuracy: 0.8499 - val_loss: 0.5208 - val_accuracy: 0.7500\n",
            "Epoch 63/100\n",
            "225/225 [==============================] - 1s 4ms/step - loss: 0.3263 - accuracy: 0.8471 - val_loss: 0.5205 - val_accuracy: 0.7506\n",
            "Epoch 64/100\n",
            "225/225 [==============================] - 1s 4ms/step - loss: 0.3059 - accuracy: 0.8683 - val_loss: 0.5212 - val_accuracy: 0.7494\n",
            "Epoch 65/100\n",
            "225/225 [==============================] - 1s 5ms/step - loss: 0.3159 - accuracy: 0.8545 - val_loss: 0.5235 - val_accuracy: 0.7489\n",
            "Epoch 66/100\n",
            "225/225 [==============================] - 1s 4ms/step - loss: 0.3071 - accuracy: 0.8676 - val_loss: 0.5260 - val_accuracy: 0.7500\n",
            "Epoch 67/100\n",
            "225/225 [==============================] - 1s 4ms/step - loss: 0.3047 - accuracy: 0.8624 - val_loss: 0.5248 - val_accuracy: 0.7489\n",
            "Epoch 68/100\n",
            "225/225 [==============================] - 1s 4ms/step - loss: 0.3096 - accuracy: 0.8586 - val_loss: 0.5286 - val_accuracy: 0.7456\n",
            "Epoch 69/100\n",
            "225/225 [==============================] - 1s 4ms/step - loss: 0.2988 - accuracy: 0.8694 - val_loss: 0.5275 - val_accuracy: 0.7483\n",
            "Epoch 70/100\n",
            "225/225 [==============================] - 1s 4ms/step - loss: 0.2971 - accuracy: 0.8688 - val_loss: 0.5283 - val_accuracy: 0.7489\n",
            "Epoch 71/100\n",
            "225/225 [==============================] - 1s 5ms/step - loss: 0.3059 - accuracy: 0.8549 - val_loss: 0.5289 - val_accuracy: 0.7450\n",
            "Epoch 72/100\n",
            "225/225 [==============================] - 1s 5ms/step - loss: 0.2953 - accuracy: 0.8664 - val_loss: 0.5291 - val_accuracy: 0.7417\n",
            "Epoch 73/100\n",
            "225/225 [==============================] - 1s 5ms/step - loss: 0.2795 - accuracy: 0.8757 - val_loss: 0.5282 - val_accuracy: 0.7456\n",
            "Epoch 74/100\n",
            "225/225 [==============================] - 1s 4ms/step - loss: 0.2804 - accuracy: 0.8818 - val_loss: 0.5289 - val_accuracy: 0.7450\n",
            "Epoch 75/100\n",
            "225/225 [==============================] - 1s 4ms/step - loss: 0.2899 - accuracy: 0.8683 - val_loss: 0.5306 - val_accuracy: 0.7511\n",
            "Epoch 76/100\n",
            "225/225 [==============================] - 1s 4ms/step - loss: 0.2722 - accuracy: 0.8832 - val_loss: 0.5314 - val_accuracy: 0.7494\n",
            "Epoch 77/100\n",
            "225/225 [==============================] - 1s 4ms/step - loss: 0.2725 - accuracy: 0.8790 - val_loss: 0.5316 - val_accuracy: 0.7450\n",
            "Epoch 78/100\n",
            "225/225 [==============================] - 1s 4ms/step - loss: 0.2654 - accuracy: 0.8843 - val_loss: 0.5300 - val_accuracy: 0.7444\n",
            "Epoch 79/100\n",
            "225/225 [==============================] - 1s 5ms/step - loss: 0.2781 - accuracy: 0.8790 - val_loss: 0.5302 - val_accuracy: 0.7472\n",
            "Epoch 80/100\n",
            "225/225 [==============================] - 1s 4ms/step - loss: 0.2718 - accuracy: 0.8769 - val_loss: 0.5314 - val_accuracy: 0.7467\n",
            "Epoch 81/100\n",
            "225/225 [==============================] - 1s 5ms/step - loss: 0.2727 - accuracy: 0.8802 - val_loss: 0.5323 - val_accuracy: 0.7450\n",
            "Epoch 82/100\n",
            "225/225 [==============================] - 1s 4ms/step - loss: 0.2633 - accuracy: 0.8895 - val_loss: 0.5326 - val_accuracy: 0.7444\n",
            "Epoch 83/100\n",
            "225/225 [==============================] - 1s 4ms/step - loss: 0.2684 - accuracy: 0.8816 - val_loss: 0.5325 - val_accuracy: 0.7467\n",
            "Epoch 84/100\n",
            "225/225 [==============================] - 1s 4ms/step - loss: 0.2582 - accuracy: 0.8924 - val_loss: 0.5352 - val_accuracy: 0.7461\n",
            "Epoch 85/100\n",
            "225/225 [==============================] - 1s 5ms/step - loss: 0.2513 - accuracy: 0.8910 - val_loss: 0.5378 - val_accuracy: 0.7439\n",
            "Epoch 86/100\n",
            "225/225 [==============================] - 1s 4ms/step - loss: 0.2665 - accuracy: 0.8818 - val_loss: 0.5395 - val_accuracy: 0.7433\n",
            "Epoch 87/100\n",
            "225/225 [==============================] - 1s 5ms/step - loss: 0.2555 - accuracy: 0.8823 - val_loss: 0.5391 - val_accuracy: 0.7433\n",
            "Epoch 88/100\n",
            "225/225 [==============================] - 1s 5ms/step - loss: 0.2672 - accuracy: 0.8858 - val_loss: 0.5409 - val_accuracy: 0.7450\n",
            "Epoch 89/100\n",
            "225/225 [==============================] - 1s 4ms/step - loss: 0.2471 - accuracy: 0.9005 - val_loss: 0.5402 - val_accuracy: 0.7511\n",
            "Epoch 90/100\n",
            "225/225 [==============================] - 1s 4ms/step - loss: 0.2437 - accuracy: 0.8965 - val_loss: 0.5396 - val_accuracy: 0.7467\n",
            "Epoch 91/100\n",
            "225/225 [==============================] - 1s 5ms/step - loss: 0.2326 - accuracy: 0.9005 - val_loss: 0.5423 - val_accuracy: 0.7461\n",
            "Epoch 92/100\n",
            "225/225 [==============================] - 1s 4ms/step - loss: 0.2368 - accuracy: 0.9042 - val_loss: 0.5440 - val_accuracy: 0.7467\n",
            "Epoch 93/100\n",
            "225/225 [==============================] - 1s 4ms/step - loss: 0.2363 - accuracy: 0.8956 - val_loss: 0.5438 - val_accuracy: 0.7439\n",
            "Epoch 94/100\n",
            "225/225 [==============================] - 1s 5ms/step - loss: 0.2179 - accuracy: 0.9100 - val_loss: 0.5465 - val_accuracy: 0.7467\n",
            "Epoch 95/100\n",
            "225/225 [==============================] - 1s 5ms/step - loss: 0.2353 - accuracy: 0.9001 - val_loss: 0.5478 - val_accuracy: 0.7489\n",
            "Epoch 96/100\n",
            "225/225 [==============================] - 1s 4ms/step - loss: 0.2357 - accuracy: 0.8994 - val_loss: 0.5460 - val_accuracy: 0.7467\n",
            "Epoch 97/100\n",
            "225/225 [==============================] - 1s 4ms/step - loss: 0.2237 - accuracy: 0.9009 - val_loss: 0.5496 - val_accuracy: 0.7489\n",
            "Epoch 98/100\n",
            "225/225 [==============================] - 1s 4ms/step - loss: 0.2352 - accuracy: 0.8973 - val_loss: 0.5481 - val_accuracy: 0.7489\n",
            "Epoch 99/100\n",
            "225/225 [==============================] - 1s 5ms/step - loss: 0.2203 - accuracy: 0.9111 - val_loss: 0.5484 - val_accuracy: 0.7506\n",
            "Epoch 100/100\n",
            "225/225 [==============================] - 1s 5ms/step - loss: 0.2248 - accuracy: 0.9081 - val_loss: 0.5511 - val_accuracy: 0.7511\n"
          ],
          "name": "stdout"
        }
      ]
    },
    {
      "cell_type": "code",
      "metadata": {
        "colab": {
          "base_uri": "https://localhost:8080/"
        },
        "id": "n-tQ3HimUBZv",
        "outputId": "27d793d0-faea-46f3-a1ff-3370eddae5c7"
      },
      "source": [
        "from sklearn.metrics import confusion_matrix, accuracy_score\n",
        "y_pred = model.predict(X_test) \n",
        "y_pred = (y_pred > 0.5) \n",
        "\n",
        "cmann = confusion_matrix(y_test,y_pred) \n",
        "print(cmann)\n",
        "\n",
        "\n",
        "accuracy = (cmann[0][0]+cmann[1][1])/(cmann[0][1] + cmann[1][0] +cmann[0][0] +cmann[1][1]) \n",
        "print(accuracy*100)"
      ],
      "execution_count": 114,
      "outputs": [
        {
          "output_type": "stream",
          "text": [
            "[[640 263]\n",
            " [185 712]]\n",
            "75.1111111111111\n"
          ],
          "name": "stdout"
        }
      ]
    },
    {
      "cell_type": "code",
      "metadata": {
        "colab": {
          "base_uri": "https://localhost:8080/"
        },
        "id": "y8JRqUNxUFGy",
        "outputId": "a01963ec-38ee-4e0f-c014-91dcaa05c880"
      },
      "source": [
        "p = model.predict_proba(X_test)[:,0]\n",
        "from sklearn.metrics import roc_auc_score\n",
        "print(\"AUC = \",roc_auc_score(y_test,p))"
      ],
      "execution_count": 115,
      "outputs": [
        {
          "output_type": "stream",
          "text": [
            "AUC =  0.8357957063720461\n"
          ],
          "name": "stdout"
        },
        {
          "output_type": "stream",
          "text": [
            "/usr/local/lib/python3.7/dist-packages/tensorflow/python/keras/engine/sequential.py:425: UserWarning: `model.predict_proba()` is deprecated and will be removed after 2021-01-01. Please use `model.predict()` instead.\n",
            "  warnings.warn('`model.predict_proba()` is deprecated and '\n"
          ],
          "name": "stderr"
        }
      ]
    },
    {
      "cell_type": "code",
      "metadata": {
        "colab": {
          "base_uri": "https://localhost:8080/"
        },
        "id": "QwdL8yWMdkZq",
        "outputId": "f99643d2-7c41-4861-c30e-8fa8b000d2ca"
      },
      "source": [
        "#Predict on test set\n",
        "predictions_NN_prob = model.predict(X_test)\n",
        "predictions_NN_prob = predictions_NN_prob[:,0]\n",
        "\n",
        "predictions_NN_01 = np.where(predictions_NN_prob > 0.5, 1, 0) #Turn probability to 0-1 binary output\n",
        "\n",
        "from sklearn.metrics import roc_auc_score\n",
        "print(\"AUC = \",roc_auc_score(y_test,predictions_NN_01))"
      ],
      "execution_count": 116,
      "outputs": [
        {
          "output_type": "stream",
          "text": [
            "AUC =  0.7512527916976856\n"
          ],
          "name": "stdout"
        }
      ]
    },
    {
      "cell_type": "code",
      "metadata": {
        "colab": {
          "base_uri": "https://localhost:8080/"
        },
        "id": "ZDv4DDfndojd",
        "outputId": "2e1ced31-a903-40a9-ed6c-4ad708b96536"
      },
      "source": [
        "## AUPR score\n",
        "from sklearn.metrics import average_precision_score\n",
        "aupr=average_precision_score(y_test,model.predict(X_test)[:,0])\n",
        "#model.predict()  ## unara warning dise je...predict_proba()\n",
        "#UserWarning: `model.predict_proba()` is deprecated and will be removed after 2021-01-01. Please use `model.predict()` instead\n",
        "aupr"
      ],
      "execution_count": 117,
      "outputs": [
        {
          "output_type": "execute_result",
          "data": {
            "text/plain": [
              "0.8310433138505843"
            ]
          },
          "metadata": {
            "tags": []
          },
          "execution_count": 117
        }
      ]
    },
    {
      "cell_type": "code",
      "metadata": {
        "colab": {
          "base_uri": "https://localhost:8080/"
        },
        "id": "Dl9OoBhAdr7J",
        "outputId": "ece5e566-0e66-4cd4-b971-6a966f7615a8"
      },
      "source": [
        "from sklearn.metrics import average_precision_score\n",
        "print(\"AUPR = \",average_precision_score(y_test,predictions_NN_01))"
      ],
      "execution_count": 118,
      "outputs": [
        {
          "output_type": "stream",
          "text": [
            "AUPR =  0.6824238916044936\n"
          ],
          "name": "stdout"
        }
      ]
    },
    {
      "cell_type": "code",
      "metadata": {
        "colab": {
          "base_uri": "https://localhost:8080/"
        },
        "id": "X6xgXL9IduNw",
        "outputId": "391235c8-80fd-4573-ea37-bca52e712cd2"
      },
      "source": [
        "from sklearn.metrics import matthews_corrcoef,confusion_matrix\n",
        "matthews_corrcoef(y_test,y_pred)"
      ],
      "execution_count": 119,
      "outputs": [
        {
          "output_type": "execute_result",
          "data": {
            "text/plain": [
              "0.5042567334683545"
            ]
          },
          "metadata": {
            "tags": []
          },
          "execution_count": 119
        }
      ]
    },
    {
      "cell_type": "code",
      "metadata": {
        "colab": {
          "base_uri": "https://localhost:8080/"
        },
        "id": "BhgFGI00dwyU",
        "outputId": "8abbb57b-54e7-4a2a-9cda-9bd5113d7fd2"
      },
      "source": [
        "TP = cmann[0][0]\n",
        "TN = cmann[1][1]\n",
        "FP = cmann[0][1]\n",
        "FN = cmann[1][0]\n",
        "print('True Positives:', TP)\n",
        "print('True Negatives:', TN)\n",
        "print('False Positives:', FP)\n",
        "print('False Negatives:', FN)"
      ],
      "execution_count": 120,
      "outputs": [
        {
          "output_type": "stream",
          "text": [
            "True Positives: 640\n",
            "True Negatives: 712\n",
            "False Positives: 263\n",
            "False Negatives: 185\n"
          ],
          "name": "stdout"
        }
      ]
    },
    {
      "cell_type": "code",
      "metadata": {
        "colab": {
          "base_uri": "https://localhost:8080/"
        },
        "id": "cZ31PvZad0TP",
        "outputId": "2235b72f-18a0-4e7c-fdaf-290cdebc5547"
      },
      "source": [
        "sensitivity=(TP/(TP+FN))\n",
        "sensitivity"
      ],
      "execution_count": 121,
      "outputs": [
        {
          "output_type": "execute_result",
          "data": {
            "text/plain": [
              "0.7757575757575758"
            ]
          },
          "metadata": {
            "tags": []
          },
          "execution_count": 121
        }
      ]
    },
    {
      "cell_type": "code",
      "metadata": {
        "colab": {
          "base_uri": "https://localhost:8080/"
        },
        "id": "OaxiS-Fsd3eE",
        "outputId": "57e99e88-bfb0-4757-ce10-1d8e46f272df"
      },
      "source": [
        "specificity = (TN/(TN+FP))\n",
        "specificity"
      ],
      "execution_count": 122,
      "outputs": [
        {
          "output_type": "execute_result",
          "data": {
            "text/plain": [
              "0.7302564102564103"
            ]
          },
          "metadata": {
            "tags": []
          },
          "execution_count": 122
        }
      ]
    },
    {
      "cell_type": "code",
      "metadata": {
        "colab": {
          "base_uri": "https://localhost:8080/"
        },
        "id": "Ka5g8EbVd7KC",
        "outputId": "7d407599-e529-4727-d9f9-a6e960b673e7"
      },
      "source": [
        "precision = (TP/(TP+FP))\n",
        "recall = (TP/(TP+FN))\n",
        "print(precision)\n",
        "print(recall)"
      ],
      "execution_count": 123,
      "outputs": [
        {
          "output_type": "stream",
          "text": [
            "0.70874861572536\n",
            "0.7757575757575758\n"
          ],
          "name": "stdout"
        }
      ]
    },
    {
      "cell_type": "code",
      "metadata": {
        "colab": {
          "base_uri": "https://localhost:8080/"
        },
        "id": "K0k6FxxJd9Xm",
        "outputId": "dbc3dd48-f520-4dca-8ee4-cda4295c9cfe"
      },
      "source": [
        "f1 = (2*(precision*recall))/(precision+recall)\n",
        "f1"
      ],
      "execution_count": 124,
      "outputs": [
        {
          "output_type": "execute_result",
          "data": {
            "text/plain": [
              "0.7407407407407407"
            ]
          },
          "metadata": {
            "tags": []
          },
          "execution_count": 124
        }
      ]
    },
    {
      "cell_type": "code",
      "metadata": {
        "id": "_XEdQNQpeA_h"
      },
      "source": [
        ""
      ],
      "execution_count": null,
      "outputs": []
    }
  ]
}