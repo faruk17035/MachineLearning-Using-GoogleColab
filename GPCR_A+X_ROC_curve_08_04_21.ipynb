{
  "nbformat": 4,
  "nbformat_minor": 0,
  "metadata": {
    "colab": {
      "name": "GPCR A+X ROC curve 08-04-21.ipynb",
      "provenance": [],
      "collapsed_sections": [],
      "authorship_tag": "ABX9TyPEpWLPoOZx1KFdftcVPwXn",
      "include_colab_link": true
    },
    "kernelspec": {
      "name": "python3",
      "display_name": "Python 3"
    },
    "language_info": {
      "name": "python"
    },
    "accelerator": "GPU"
  },
  "cells": [
    {
      "cell_type": "markdown",
      "metadata": {
        "id": "view-in-github",
        "colab_type": "text"
      },
      "source": [
        "<a href=\"https://colab.research.google.com/github/faruk17035/MachineLearning-Using-GoogleColab/blob/main/GPCR_A%2BX_ROC_curve_08_04_21.ipynb\" target=\"_parent\"><img src=\"https://colab.research.google.com/assets/colab-badge.svg\" alt=\"Open In Colab\"/></a>"
      ]
    },
    {
      "cell_type": "code",
      "metadata": {
        "id": "pBYpdW4GCNd0"
      },
      "source": [
        "import numpy as np\n",
        "import pandas as pd\n",
        "import tensorflow as tf\n",
        "from tensorflow import keras\n",
        "from tensorflow.keras import Sequential\n",
        "from tensorflow.keras.layers import Flatten, Dense, Dropout, BatchNormalization\n",
        "from tensorflow.keras.layers import Conv1D, MaxPool1D\n",
        "\n",
        "from tensorflow.keras.optimizers import Adam\n",
        "\n",
        "import  seaborn as sns\n",
        "import matplotlib.pyplot as plt\n",
        "from sklearn import datasets, metrics\n",
        "from sklearn.model_selection import train_test_split\n",
        "from sklearn.preprocessing import StandardScaler"
      ],
      "execution_count": 1,
      "outputs": []
    },
    {
      "cell_type": "code",
      "metadata": {
        "colab": {
          "base_uri": "https://localhost:8080/"
        },
        "id": "9SAMmxyxCkSa",
        "outputId": "94a4e60d-e463-4288-a408-c74a81cd312a"
      },
      "source": [
        "from google.colab import drive \n",
        "drive.mount('/content/gdrive')"
      ],
      "execution_count": 2,
      "outputs": [
        {
          "output_type": "stream",
          "text": [
            "Mounted at /content/gdrive\n"
          ],
          "name": "stdout"
        }
      ]
    },
    {
      "cell_type": "code",
      "metadata": {
        "colab": {
          "base_uri": "https://localhost:8080/"
        },
        "id": "KG6yvFoyDUsJ",
        "outputId": "116a0b95-0388-4361-9be9-4ab6dd49e5a1"
      },
      "source": [
        "import pandas as pd\n",
        "from pandas import read_excel\n",
        "file_name = '/content/gdrive/MyDrive/GPCR A+X.xlsx' \n",
        "df = pd.read_excel(file_name, index_col=0)\n",
        "print(df.head()) # print the first 5 rows"
      ],
      "execution_count": 3,
      "outputs": [
        {
          "output_type": "stream",
          "text": [
            "            PubchemFP2  PubchemFP3  PubchemFP4  ...  BiGram399  BiGram400  Target\n",
            "PubchemFP1                                      ...                              \n",
            "1                    1           0           0  ...     5.0262     1.5291       1\n",
            "1                    1           1           1  ...     5.0772     1.5490       1\n",
            "1                    1           0           0  ...     5.0772     1.5490       1\n",
            "1                    1           1           0  ...     2.7551     1.3303       1\n",
            "1                    1           1           0  ...     2.7551     1.3303       1\n",
            "\n",
            "[5 rows x 1281 columns]\n"
          ],
          "name": "stdout"
        }
      ]
    },
    {
      "cell_type": "code",
      "metadata": {
        "id": "21QUtbRGDtOv"
      },
      "source": [
        "#Split data into independent (X) and dependent(Y) columns\n",
        "\n",
        "y = df['Target'].values\n",
        "X = df.drop('Target', axis=1).values"
      ],
      "execution_count": 4,
      "outputs": []
    },
    {
      "cell_type": "code",
      "metadata": {
        "id": "PZAKe2GzD3Iu"
      },
      "source": [
        "from sklearn.model_selection import train_test_split\n",
        "X_train, X_test, y_train, y_test = train_test_split(X, y, test_size = 0.20, random_state = 20)"
      ],
      "execution_count": 29,
      "outputs": []
    },
    {
      "cell_type": "code",
      "metadata": {
        "colab": {
          "base_uri": "https://localhost:8080/"
        },
        "id": "ZkcMWmrvD5dR",
        "outputId": "b139a748-85a6-4b85-a5c4-bc0ff15ae3de"
      },
      "source": [
        "print(X_train.shape)\n",
        "print(X_test.shape)"
      ],
      "execution_count": 30,
      "outputs": [
        {
          "output_type": "stream",
          "text": [
            "(1488, 1280)\n",
            "(372, 1280)\n"
          ],
          "name": "stdout"
        }
      ]
    },
    {
      "cell_type": "code",
      "metadata": {
        "id": "_1LHHfpjEI8w"
      },
      "source": [
        "scaler = StandardScaler()\n",
        "X_train = scaler.fit_transform(X_train)\n",
        "X_test = scaler.transform(X_test)"
      ],
      "execution_count": 31,
      "outputs": []
    },
    {
      "cell_type": "code",
      "metadata": {
        "id": "On7v1VHzENUS"
      },
      "source": [
        "X_train = X_train.reshape(1488, 1280,1)\n",
        "X_test = X_test.reshape(372, 1280, 1)"
      ],
      "execution_count": 32,
      "outputs": []
    },
    {
      "cell_type": "code",
      "metadata": {
        "id": "ZtOQU2eiEZLg"
      },
      "source": [
        "epochs = 90\n",
        "model = Sequential()\n",
        "model.add(Conv1D(filters=32, kernel_size=4, activation='relu', input_shape = (1280,1)))\n",
        "model.add(BatchNormalization())\n",
        "model.add(Dropout(0.2))\n",
        "\n",
        "model.add(Conv1D(filters=64, kernel_size=4, activation='relu'))\n",
        "model.add(BatchNormalization())\n",
        "model.add(Dropout(0.5))\n",
        "\n",
        "model.add(Flatten())\n",
        "model.add(Dense(64, activation='relu'))\n",
        "model.add(Dropout(0.5))\n",
        "\n",
        "model.add(Dense(1, activation='sigmoid'))"
      ],
      "execution_count": 47,
      "outputs": []
    },
    {
      "cell_type": "code",
      "metadata": {
        "id": "XByTvOQjEevx"
      },
      "source": [
        "model.compile(optimizer=Adam(lr=0.001), loss = 'binary_crossentropy', metrics=['accuracy'])"
      ],
      "execution_count": 34,
      "outputs": []
    },
    {
      "cell_type": "code",
      "metadata": {
        "colab": {
          "base_uri": "https://localhost:8080/"
        },
        "id": "9jRTAO8QEig-",
        "outputId": "ccae2813-6f7a-49fd-b99c-379d152d1e28"
      },
      "source": [
        "history = model.fit(X_train, y_train, epochs=epochs, validation_data=(X_test, y_test), verbose=1)"
      ],
      "execution_count": 35,
      "outputs": [
        {
          "output_type": "stream",
          "text": [
            "Epoch 1/90\n",
            "47/47 [==============================] - 2s 15ms/step - loss: 2.3467 - accuracy: 0.6409 - val_loss: 0.6792 - val_accuracy: 0.5726\n",
            "Epoch 2/90\n",
            "47/47 [==============================] - 0s 10ms/step - loss: 0.5932 - accuracy: 0.7051 - val_loss: 0.6583 - val_accuracy: 0.7419\n",
            "Epoch 3/90\n",
            "47/47 [==============================] - 0s 10ms/step - loss: 0.5807 - accuracy: 0.7380 - val_loss: 0.6610 - val_accuracy: 0.6909\n",
            "Epoch 4/90\n",
            "47/47 [==============================] - 0s 10ms/step - loss: 0.5569 - accuracy: 0.7216 - val_loss: 0.6114 - val_accuracy: 0.7661\n",
            "Epoch 5/90\n",
            "47/47 [==============================] - 1s 11ms/step - loss: 0.5383 - accuracy: 0.7305 - val_loss: 0.5815 - val_accuracy: 0.7634\n",
            "Epoch 6/90\n",
            "47/47 [==============================] - 0s 10ms/step - loss: 0.5175 - accuracy: 0.7592 - val_loss: 0.5982 - val_accuracy: 0.7016\n",
            "Epoch 7/90\n",
            "47/47 [==============================] - 0s 10ms/step - loss: 0.4877 - accuracy: 0.7778 - val_loss: 0.5678 - val_accuracy: 0.7608\n",
            "Epoch 8/90\n",
            "47/47 [==============================] - 0s 10ms/step - loss: 0.4861 - accuracy: 0.7696 - val_loss: 0.5142 - val_accuracy: 0.7984\n",
            "Epoch 9/90\n",
            "47/47 [==============================] - 0s 10ms/step - loss: 0.4683 - accuracy: 0.7605 - val_loss: 0.5050 - val_accuracy: 0.7984\n",
            "Epoch 10/90\n",
            "47/47 [==============================] - 0s 10ms/step - loss: 0.5001 - accuracy: 0.7702 - val_loss: 0.4968 - val_accuracy: 0.7849\n",
            "Epoch 11/90\n",
            "47/47 [==============================] - 0s 10ms/step - loss: 0.4667 - accuracy: 0.7720 - val_loss: 0.4841 - val_accuracy: 0.7876\n",
            "Epoch 12/90\n",
            "47/47 [==============================] - 0s 10ms/step - loss: 0.4645 - accuracy: 0.7781 - val_loss: 0.4961 - val_accuracy: 0.7903\n",
            "Epoch 13/90\n",
            "47/47 [==============================] - 0s 10ms/step - loss: 0.5006 - accuracy: 0.7556 - val_loss: 0.4799 - val_accuracy: 0.8091\n",
            "Epoch 14/90\n",
            "47/47 [==============================] - 0s 10ms/step - loss: 0.4377 - accuracy: 0.7978 - val_loss: 0.4817 - val_accuracy: 0.7823\n",
            "Epoch 15/90\n",
            "47/47 [==============================] - 0s 10ms/step - loss: 0.4427 - accuracy: 0.7995 - val_loss: 0.4680 - val_accuracy: 0.8011\n",
            "Epoch 16/90\n",
            "47/47 [==============================] - 0s 10ms/step - loss: 0.4072 - accuracy: 0.7851 - val_loss: 0.4327 - val_accuracy: 0.8226\n",
            "Epoch 17/90\n",
            "47/47 [==============================] - 0s 10ms/step - loss: 0.4187 - accuracy: 0.7691 - val_loss: 0.4609 - val_accuracy: 0.8118\n",
            "Epoch 18/90\n",
            "47/47 [==============================] - 0s 11ms/step - loss: 0.4350 - accuracy: 0.7715 - val_loss: 0.4769 - val_accuracy: 0.8091\n",
            "Epoch 19/90\n",
            "47/47 [==============================] - 0s 10ms/step - loss: 0.4123 - accuracy: 0.7892 - val_loss: 0.4839 - val_accuracy: 0.7661\n",
            "Epoch 20/90\n",
            "47/47 [==============================] - 0s 10ms/step - loss: 0.4291 - accuracy: 0.7899 - val_loss: 0.4647 - val_accuracy: 0.8011\n",
            "Epoch 21/90\n",
            "47/47 [==============================] - 0s 10ms/step - loss: 0.4197 - accuracy: 0.7880 - val_loss: 0.4995 - val_accuracy: 0.7903\n",
            "Epoch 22/90\n",
            "47/47 [==============================] - 1s 11ms/step - loss: 0.4056 - accuracy: 0.7931 - val_loss: 0.4864 - val_accuracy: 0.7984\n",
            "Epoch 23/90\n",
            "47/47 [==============================] - 0s 10ms/step - loss: 0.4245 - accuracy: 0.7777 - val_loss: 0.4820 - val_accuracy: 0.8172\n",
            "Epoch 24/90\n",
            "47/47 [==============================] - 0s 10ms/step - loss: 0.3879 - accuracy: 0.8085 - val_loss: 0.4597 - val_accuracy: 0.8199\n",
            "Epoch 25/90\n",
            "47/47 [==============================] - 0s 11ms/step - loss: 0.3650 - accuracy: 0.8078 - val_loss: 0.4741 - val_accuracy: 0.7930\n",
            "Epoch 26/90\n",
            "47/47 [==============================] - 0s 10ms/step - loss: 0.3744 - accuracy: 0.8019 - val_loss: 0.4665 - val_accuracy: 0.8118\n",
            "Epoch 27/90\n",
            "47/47 [==============================] - 0s 10ms/step - loss: 0.3778 - accuracy: 0.7886 - val_loss: 0.4490 - val_accuracy: 0.8118\n",
            "Epoch 28/90\n",
            "47/47 [==============================] - 0s 10ms/step - loss: 0.3514 - accuracy: 0.8114 - val_loss: 0.4960 - val_accuracy: 0.8199\n",
            "Epoch 29/90\n",
            "47/47 [==============================] - 0s 10ms/step - loss: 0.3796 - accuracy: 0.8091 - val_loss: 0.4621 - val_accuracy: 0.8091\n",
            "Epoch 30/90\n",
            "47/47 [==============================] - 0s 10ms/step - loss: 0.3630 - accuracy: 0.7894 - val_loss: 0.5408 - val_accuracy: 0.8199\n",
            "Epoch 31/90\n",
            "47/47 [==============================] - 0s 10ms/step - loss: 0.3558 - accuracy: 0.8136 - val_loss: 0.5057 - val_accuracy: 0.8038\n",
            "Epoch 32/90\n",
            "47/47 [==============================] - 0s 10ms/step - loss: 0.3820 - accuracy: 0.8078 - val_loss: 0.5144 - val_accuracy: 0.7957\n",
            "Epoch 33/90\n",
            "47/47 [==============================] - 1s 11ms/step - loss: 0.4068 - accuracy: 0.7854 - val_loss: 0.5048 - val_accuracy: 0.8226\n",
            "Epoch 34/90\n",
            "47/47 [==============================] - 0s 10ms/step - loss: 0.3584 - accuracy: 0.7887 - val_loss: 0.4985 - val_accuracy: 0.8172\n",
            "Epoch 35/90\n",
            "47/47 [==============================] - 0s 10ms/step - loss: 0.3596 - accuracy: 0.8062 - val_loss: 0.4928 - val_accuracy: 0.8306\n",
            "Epoch 36/90\n",
            "47/47 [==============================] - 0s 10ms/step - loss: 0.3668 - accuracy: 0.8080 - val_loss: 0.5255 - val_accuracy: 0.8145\n",
            "Epoch 37/90\n",
            "47/47 [==============================] - 0s 10ms/step - loss: 0.3400 - accuracy: 0.8190 - val_loss: 0.5354 - val_accuracy: 0.8065\n",
            "Epoch 38/90\n",
            "47/47 [==============================] - 0s 10ms/step - loss: 0.3441 - accuracy: 0.8127 - val_loss: 0.5224 - val_accuracy: 0.8118\n",
            "Epoch 39/90\n",
            "47/47 [==============================] - 0s 10ms/step - loss: 0.3478 - accuracy: 0.7989 - val_loss: 0.5762 - val_accuracy: 0.8091\n",
            "Epoch 40/90\n",
            "47/47 [==============================] - 0s 11ms/step - loss: 0.3344 - accuracy: 0.8084 - val_loss: 0.5929 - val_accuracy: 0.8065\n",
            "Epoch 41/90\n",
            "47/47 [==============================] - 0s 10ms/step - loss: 0.3585 - accuracy: 0.8057 - val_loss: 0.5404 - val_accuracy: 0.8091\n",
            "Epoch 42/90\n",
            "47/47 [==============================] - 0s 10ms/step - loss: 0.3304 - accuracy: 0.8156 - val_loss: 0.5286 - val_accuracy: 0.8091\n",
            "Epoch 43/90\n",
            "47/47 [==============================] - 0s 11ms/step - loss: 0.3545 - accuracy: 0.8071 - val_loss: 0.5459 - val_accuracy: 0.8118\n",
            "Epoch 44/90\n",
            "47/47 [==============================] - 0s 10ms/step - loss: 0.3411 - accuracy: 0.7955 - val_loss: 0.7022 - val_accuracy: 0.8038\n",
            "Epoch 45/90\n",
            "47/47 [==============================] - 0s 10ms/step - loss: 0.3554 - accuracy: 0.8157 - val_loss: 0.5425 - val_accuracy: 0.8199\n",
            "Epoch 46/90\n",
            "47/47 [==============================] - 0s 10ms/step - loss: 0.3244 - accuracy: 0.8249 - val_loss: 0.5607 - val_accuracy: 0.7984\n",
            "Epoch 47/90\n",
            "47/47 [==============================] - 0s 10ms/step - loss: 0.3652 - accuracy: 0.7852 - val_loss: 0.5557 - val_accuracy: 0.7661\n",
            "Epoch 48/90\n",
            "47/47 [==============================] - 0s 10ms/step - loss: 0.3278 - accuracy: 0.8099 - val_loss: 0.5512 - val_accuracy: 0.8011\n",
            "Epoch 49/90\n",
            "47/47 [==============================] - 0s 10ms/step - loss: 0.3488 - accuracy: 0.7862 - val_loss: 0.5719 - val_accuracy: 0.8038\n",
            "Epoch 50/90\n",
            "47/47 [==============================] - 0s 10ms/step - loss: 0.3549 - accuracy: 0.7957 - val_loss: 0.5407 - val_accuracy: 0.7849\n",
            "Epoch 51/90\n",
            "47/47 [==============================] - 0s 10ms/step - loss: 0.3510 - accuracy: 0.7934 - val_loss: 0.5622 - val_accuracy: 0.7823\n",
            "Epoch 52/90\n",
            "47/47 [==============================] - 0s 10ms/step - loss: 0.3397 - accuracy: 0.7909 - val_loss: 0.6189 - val_accuracy: 0.7903\n",
            "Epoch 53/90\n",
            "47/47 [==============================] - 0s 10ms/step - loss: 0.3452 - accuracy: 0.8022 - val_loss: 0.5444 - val_accuracy: 0.8145\n",
            "Epoch 54/90\n",
            "47/47 [==============================] - 0s 11ms/step - loss: 0.3454 - accuracy: 0.7955 - val_loss: 0.5983 - val_accuracy: 0.8011\n",
            "Epoch 55/90\n",
            "47/47 [==============================] - 0s 10ms/step - loss: 0.3442 - accuracy: 0.7853 - val_loss: 0.6480 - val_accuracy: 0.8065\n",
            "Epoch 56/90\n",
            "47/47 [==============================] - 0s 10ms/step - loss: 0.3164 - accuracy: 0.8090 - val_loss: 0.6718 - val_accuracy: 0.7957\n",
            "Epoch 57/90\n",
            "47/47 [==============================] - 0s 10ms/step - loss: 0.3385 - accuracy: 0.8165 - val_loss: 0.5963 - val_accuracy: 0.8118\n",
            "Epoch 58/90\n",
            "47/47 [==============================] - 1s 11ms/step - loss: 0.3186 - accuracy: 0.8164 - val_loss: 0.5993 - val_accuracy: 0.7930\n",
            "Epoch 59/90\n",
            "47/47 [==============================] - 0s 10ms/step - loss: 0.3344 - accuracy: 0.8044 - val_loss: 0.6608 - val_accuracy: 0.8091\n",
            "Epoch 60/90\n",
            "47/47 [==============================] - 0s 10ms/step - loss: 0.3321 - accuracy: 0.8025 - val_loss: 0.5579 - val_accuracy: 0.8065\n",
            "Epoch 61/90\n",
            "47/47 [==============================] - 0s 11ms/step - loss: 0.3538 - accuracy: 0.7988 - val_loss: 0.6543 - val_accuracy: 0.8118\n",
            "Epoch 62/90\n",
            "47/47 [==============================] - 0s 10ms/step - loss: 0.3248 - accuracy: 0.7982 - val_loss: 0.6493 - val_accuracy: 0.8065\n",
            "Epoch 63/90\n",
            "47/47 [==============================] - 0s 10ms/step - loss: 0.3317 - accuracy: 0.8014 - val_loss: 0.5644 - val_accuracy: 0.8145\n",
            "Epoch 64/90\n",
            "47/47 [==============================] - 0s 10ms/step - loss: 0.3248 - accuracy: 0.8209 - val_loss: 0.6068 - val_accuracy: 0.8038\n",
            "Epoch 65/90\n",
            "47/47 [==============================] - 0s 10ms/step - loss: 0.3072 - accuracy: 0.8172 - val_loss: 0.5854 - val_accuracy: 0.7903\n",
            "Epoch 66/90\n",
            "47/47 [==============================] - 0s 10ms/step - loss: 0.3322 - accuracy: 0.8129 - val_loss: 0.5826 - val_accuracy: 0.8091\n",
            "Epoch 67/90\n",
            "47/47 [==============================] - 0s 10ms/step - loss: 0.3348 - accuracy: 0.7921 - val_loss: 0.5976 - val_accuracy: 0.8172\n",
            "Epoch 68/90\n",
            "47/47 [==============================] - 0s 11ms/step - loss: 0.3083 - accuracy: 0.8094 - val_loss: 0.5698 - val_accuracy: 0.8091\n",
            "Epoch 69/90\n",
            "47/47 [==============================] - 1s 11ms/step - loss: 0.3343 - accuracy: 0.8077 - val_loss: 0.6227 - val_accuracy: 0.8172\n",
            "Epoch 70/90\n",
            "47/47 [==============================] - 0s 11ms/step - loss: 0.3144 - accuracy: 0.8176 - val_loss: 0.6096 - val_accuracy: 0.8145\n",
            "Epoch 71/90\n",
            "47/47 [==============================] - 0s 10ms/step - loss: 0.3077 - accuracy: 0.8177 - val_loss: 0.5560 - val_accuracy: 0.8118\n",
            "Epoch 72/90\n",
            "47/47 [==============================] - 0s 11ms/step - loss: 0.2996 - accuracy: 0.8059 - val_loss: 0.5907 - val_accuracy: 0.7957\n",
            "Epoch 73/90\n",
            "47/47 [==============================] - 1s 11ms/step - loss: 0.3397 - accuracy: 0.8058 - val_loss: 0.6112 - val_accuracy: 0.8091\n",
            "Epoch 74/90\n",
            "47/47 [==============================] - 0s 10ms/step - loss: 0.3246 - accuracy: 0.8141 - val_loss: 0.6089 - val_accuracy: 0.8199\n",
            "Epoch 75/90\n",
            "47/47 [==============================] - 0s 10ms/step - loss: 0.2951 - accuracy: 0.8365 - val_loss: 0.6382 - val_accuracy: 0.8118\n",
            "Epoch 76/90\n",
            "47/47 [==============================] - 0s 10ms/step - loss: 0.3223 - accuracy: 0.8143 - val_loss: 0.6449 - val_accuracy: 0.7984\n",
            "Epoch 77/90\n",
            "47/47 [==============================] - 0s 10ms/step - loss: 0.3355 - accuracy: 0.8037 - val_loss: 0.6640 - val_accuracy: 0.8145\n",
            "Epoch 78/90\n",
            "47/47 [==============================] - 0s 10ms/step - loss: 0.3203 - accuracy: 0.8077 - val_loss: 0.6316 - val_accuracy: 0.8118\n",
            "Epoch 79/90\n",
            "47/47 [==============================] - 0s 10ms/step - loss: 0.3164 - accuracy: 0.8226 - val_loss: 0.6398 - val_accuracy: 0.8038\n",
            "Epoch 80/90\n",
            "47/47 [==============================] - 0s 10ms/step - loss: 0.3155 - accuracy: 0.8012 - val_loss: 0.6478 - val_accuracy: 0.8011\n",
            "Epoch 81/90\n",
            "47/47 [==============================] - 0s 10ms/step - loss: 0.3171 - accuracy: 0.8001 - val_loss: 0.6371 - val_accuracy: 0.8118\n",
            "Epoch 82/90\n",
            "47/47 [==============================] - 0s 10ms/step - loss: 0.3174 - accuracy: 0.8002 - val_loss: 0.5968 - val_accuracy: 0.8118\n",
            "Epoch 83/90\n",
            "47/47 [==============================] - 0s 10ms/step - loss: 0.3145 - accuracy: 0.8099 - val_loss: 0.6005 - val_accuracy: 0.8065\n",
            "Epoch 84/90\n",
            "47/47 [==============================] - 0s 10ms/step - loss: 0.3110 - accuracy: 0.8092 - val_loss: 0.6152 - val_accuracy: 0.8118\n",
            "Epoch 85/90\n",
            "47/47 [==============================] - 0s 10ms/step - loss: 0.3088 - accuracy: 0.8119 - val_loss: 0.5764 - val_accuracy: 0.8065\n",
            "Epoch 86/90\n",
            "47/47 [==============================] - 0s 10ms/step - loss: 0.3028 - accuracy: 0.8076 - val_loss: 0.6717 - val_accuracy: 0.7688\n",
            "Epoch 87/90\n",
            "47/47 [==============================] - 0s 10ms/step - loss: 0.3241 - accuracy: 0.7880 - val_loss: 0.6666 - val_accuracy: 0.8253\n",
            "Epoch 88/90\n",
            "47/47 [==============================] - 0s 11ms/step - loss: 0.3205 - accuracy: 0.7952 - val_loss: 0.6738 - val_accuracy: 0.8118\n",
            "Epoch 89/90\n",
            "47/47 [==============================] - 0s 10ms/step - loss: 0.3331 - accuracy: 0.8117 - val_loss: 0.6047 - val_accuracy: 0.8091\n",
            "Epoch 90/90\n",
            "47/47 [==============================] - 0s 10ms/step - loss: 0.3179 - accuracy: 0.8011 - val_loss: 0.6619 - val_accuracy: 0.8172\n"
          ],
          "name": "stdout"
        }
      ]
    },
    {
      "cell_type": "code",
      "metadata": {
        "colab": {
          "base_uri": "https://localhost:8080/"
        },
        "id": "O-Mc_MT1ElPM",
        "outputId": "7ea5e045-3321-4986-9fc2-48684712c269"
      },
      "source": [
        "#y_pred = model.predict(X_train).ravel()\n",
        "from sklearn.metrics import roc_curve\n",
        "y_pred_cnn = model.predict(X_test).ravel()\n",
        "fpr_4, tpr_4, thresholds = roc_curve(y_test, y_pred_cnn)\n",
        "from sklearn.metrics import auc\n",
        "auc_score4 = auc(fpr_4, tpr_4)\n",
        "auc_score4"
      ],
      "execution_count": 36,
      "outputs": [
        {
          "output_type": "execute_result",
          "data": {
            "text/plain": [
              "0.8842813244700864"
            ]
          },
          "metadata": {
            "tags": []
          },
          "execution_count": 36
        }
      ]
    },
    {
      "cell_type": "code",
      "metadata": {
        "colab": {
          "base_uri": "https://localhost:8080/"
        },
        "id": "iyT8EDDKFGgG",
        "outputId": "4102bd55-3813-42af-8ff8-26f112678ed2"
      },
      "source": [
        "#Split data into independent (X) and dependent(Y) columns\n",
        "\n",
        "Y = df['Target'].values\n",
        "X = df.drop('Target', axis=1).values\n",
        "\n",
        "from sklearn.model_selection import train_test_split\n",
        "X_train, X_test, y_train, y_test = train_test_split(X, Y, test_size = 0.20, random_state = 0)\n",
        "\n",
        "### Feature scaling\n",
        "from sklearn.preprocessing import StandardScaler\n",
        "sc = StandardScaler()\n",
        "X_train = sc.fit_transform(X_train)\n",
        "X_test = sc.transform(X_test)\n",
        "\n",
        "from sklearn.neighbors import KNeighborsClassifier\n",
        "from xgboost import XGBClassifier\n",
        "from sklearn.metrics import roc_auc_score\n",
        "from sklearn.svm import SVC\n",
        "model1 = KNeighborsClassifier(n_neighbors = 7, metric = 'minkowski', p = 1)\n",
        "model1.fit(X_train, y_train)\n",
        "# predict probabilities\n",
        "pred_prob1 = model1.predict_proba(X_test)\n",
        "from sklearn.metrics import roc_curve\n",
        "\n",
        "# roc curve for models\n",
        "fpr_1, tpr_1, thresh1 = roc_curve(y_test, pred_prob1[:,1], pos_label=1)\n",
        "# auc scores\n",
        "auc_score1 = roc_auc_score(y_test, pred_prob1[:,1])\n",
        "print(auc_score1)"
      ],
      "execution_count": 39,
      "outputs": [
        {
          "output_type": "stream",
          "text": [
            "0.8554750402576491\n"
          ],
          "name": "stdout"
        }
      ]
    },
    {
      "cell_type": "code",
      "metadata": {
        "colab": {
          "base_uri": "https://localhost:8080/"
        },
        "id": "QboJCCtcGSFt",
        "outputId": "35ffccb9-c88c-4359-e662-05cf7b467677"
      },
      "source": [
        "#Split data into independent (X) and dependent(Y) columns\n",
        "\n",
        "Y = df['Target'].values\n",
        "X = df.drop('Target', axis=1).values\n",
        "\n",
        "from sklearn.model_selection import train_test_split\n",
        "X_train, X_test, y_train, y_test = train_test_split(X, Y, test_size = 0.20, random_state = 10)\n",
        "\n",
        "### Feature scaling\n",
        "from sklearn.preprocessing import StandardScaler\n",
        "sc = StandardScaler()\n",
        "X_train = sc.fit_transform(X_train)\n",
        "X_test = sc.transform(X_test)\n",
        "model2 = SVC(kernel = 'rbf',C=0.001,gamma='auto',probability=True, random_state = 20)\n",
        "model2.fit(X_train, y_train)\n",
        "\n",
        "pred_prob2 = model2.predict_proba(X_test)\n",
        "\n",
        "fpr_2, tpr_2, thresh2 = roc_curve(y_test, pred_prob2[:,1], pos_label=1)\n",
        "auc_score2 = roc_auc_score(y_test, pred_prob2[:,1])\n",
        "print(auc_score2)"
      ],
      "execution_count": 42,
      "outputs": [
        {
          "output_type": "stream",
          "text": [
            "0.7648643353903418\n"
          ],
          "name": "stdout"
        }
      ]
    },
    {
      "cell_type": "code",
      "metadata": {
        "colab": {
          "base_uri": "https://localhost:8080/"
        },
        "id": "YVy0baWgGtrw",
        "outputId": "0c822514-f332-4912-b602-dc76c1ec09df"
      },
      "source": [
        "#Split data into independent (X) and dependent(Y) columns\n",
        "\n",
        "Y = df['Target'].values\n",
        "X = df.drop('Target', axis=1).values\n",
        "\n",
        "from sklearn.model_selection import train_test_split\n",
        "X_train, X_test, y_train, y_test = train_test_split(X, Y, test_size = 0.20, random_state = 0)\n",
        "\n",
        "\n",
        "### Feature scaling\n",
        "from sklearn.preprocessing import StandardScaler\n",
        "sc = StandardScaler()\n",
        "X_train = sc.fit_transform(X_train)\n",
        "X_test = sc.transform(X_test)\n",
        "\n",
        "\n",
        "model3 = XGBClassifier(random_state=0)\n",
        "model3.fit(X_train, y_train)\n",
        "\n",
        "pred_prob3 = model3.predict_proba(X_test)\n",
        "\n",
        "fpr_3, tpr_3, thresh3 = roc_curve(y_test, pred_prob3[:,1], pos_label=1)\n",
        "\n",
        "auc_score3 = roc_auc_score(y_test, pred_prob3[:,1])\n",
        "\n",
        "print(auc_score3)"
      ],
      "execution_count": 44,
      "outputs": [
        {
          "output_type": "stream",
          "text": [
            "0.8593150006193484\n"
          ],
          "name": "stdout"
        }
      ]
    },
    {
      "cell_type": "code",
      "metadata": {
        "id": "jJ0JKw9GHY6Z"
      },
      "source": [
        "auc_score1 = 0.85\n",
        "auc_score2 = 0.7777\n",
        "auc_score3 = 0.8397\n",
        "auc_score4 = 0.8824"
      ],
      "execution_count": 45,
      "outputs": []
    },
    {
      "cell_type": "code",
      "metadata": {
        "colab": {
          "base_uri": "https://localhost:8080/",
          "height": 422
        },
        "id": "KLDRbMHMIO82",
        "outputId": "ef0d0fce-95ab-41c7-8a03-a5e746a8553f"
      },
      "source": [
        "sns.set_style(\"white\")\n",
        "plt.figure(figsize=(8,6))\n",
        "\n",
        "plt.plot(fpr_1,tpr_1, color = \"green\", label = \"KNN - %0.2f \" %auc_score1, lw = 5)\n",
        "plt.plot(fpr_2,tpr_2, color = \"orange\", label = \"SVM - %0.2f \" %auc_score2, lw = 5)\n",
        "plt.plot(fpr_3,tpr_3, color = \"red\", label = \"XGBoost - %0.2f \" %auc_score3, lw = 5)\n",
        "plt.plot(fpr_4,tpr_4, color = \"blue\", label = \"CNN - %0.2f \" %auc_score4, lw = 5)\n",
        "\n",
        "plt.plot([0,1], [0,1], color = 'purple', lw=2, linestyle='--')\n",
        "plt.xlabel('False Positive Rate', fontsize = 19)\n",
        "plt.ylabel('True Positive Rate', fontsize=19)\n",
        "plt.title('GPCR - A+X', fontsize=22)\n",
        "plt.legend(loc = \"lower right\", fontsize=14)\n",
        "\n",
        "plt.xticks(fontsize=13)\n",
        "plt.yticks(fontsize=13)\n",
        "plt.savefig('ROC_all',dpi=300)\n",
        "plt.show()"
      ],
      "execution_count": 46,
      "outputs": [
        {
          "output_type": "display_data",
          "data": {
            "image/png": "[encoded data removed]",
            "text/plain": [
              "<Figure size 576x432 with 1 Axes>"
            ]
          },
          "metadata": {
            "tags": []
          }
        }
      ]
    },
    {
      "cell_type": "code",
      "metadata": {
        "id": "m0lLUl8XIfUq"
      },
      "source": [
        ""
      ],
      "execution_count": null,
      "outputs": []
    }
  ]
}