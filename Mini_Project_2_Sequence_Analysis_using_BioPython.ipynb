{
  "nbformat": 4,
  "nbformat_minor": 0,
  "metadata": {
    "colab": {
      "name": "Mini Project 2 : Sequence Analysis using BioPython.ipynb",
      "provenance": [],
      "authorship_tag": "ABX9TyPvOrselXKYNaDZ+x2BW7hl",
      "include_colab_link": true
    },
    "kernelspec": {
      "name": "python3",
      "display_name": "Python 3"
    }
  },
  "cells": [
    {
      "cell_type": "markdown",
      "metadata": {
        "id": "view-in-github",
        "colab_type": "text"
      },
      "source": [
        "<a href=\"https://colab.research.google.com/github/faruk17035/MachineLearning-Using-GoogleColab/blob/main/Mini_Project_2_Sequence_Analysis_using_BioPython.ipynb\" target=\"_parent\"><img src=\"https://colab.research.google.com/assets/colab-badge.svg\" alt=\"Open In Colab\"/></a>"
      ]
    },
    {
      "cell_type": "code",
      "metadata": {
        "id": "oew-f_8nPTEg"
      },
      "source": [
        "#Biopython EXAMPLE\r\n",
        "import numpy as np # linear algebra\r\n",
        "import pandas as pd # data processing, CSV file I/O (e.g. pd.read_csv)\r\n",
        "import Bio\r\n",
        "from Bio.Seq import Seq\r\n",
        "from Bio.SeqUtils import GC\r\n",
        "DNA = Seq(\"AGTACACTGGTT\")\r\n",
        "print(DNA)\r\n",
        "print(DNA + \" - Sequence\")\r\n",
        "print(DNA.complement() + \" - Complement\")\r\n",
        "print(DNA.reverse_complement() + \" - Reverse Complement\")\r\n",
        "print(len(DNA))\r\n",
        "print(\"First Letter: \" + DNA[0])\r\n",
        "print(\"Third Letter: \" + DNA[2])\r\n",
        "print(\"Last Letter: \" + DNA[-1])\r\n",
        "print(DNA.count(\"AC\"))\r\n",
        "DNAcount = (DNA.count(\"A\")/len(DNA))\r\n",
        "print(DNAcount*100)\r\n",
        "print(\"GC% Percent:\\t\" + str(GC(DNA)))\r\n",
        "mRNA = DNA.transcribe()\r\n",
        "print(mRNA)\r\n",
        "protein = mRNA.translate()\r\n",
        "print(protein)"
      ],
      "execution_count": null,
      "outputs": []
    },
    {
      "cell_type": "code",
      "metadata": {
        "id": "u9f7uVLRhfM7"
      },
      "source": [
        "Output :\r\n",
        "AGTACACTGGTT\r\n",
        "AGTACACTGGTT - Sequence\r\n",
        "TCATGTGACCAA - Complement\r\n",
        "AACCAGTGTACT - Reverse Complement\r\n",
        "12\r\n",
        "First Letter: A\r\n",
        "Third Letter: T\r\n",
        "Last Letter: T\r\n",
        "2\r\n",
        "25.0\r\n",
        "GC% Percent:\t41.666666666666664\r\n",
        "AGUACACUGGUU\r\n",
        "STLV\r\n"
      ],
      "execution_count": null,
      "outputs": []
    }
  ]
}