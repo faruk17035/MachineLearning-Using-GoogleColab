{
  "nbformat": 4,
  "nbformat_minor": 0,
  "metadata": {
    "colab": {
      "name": "Ion Channel A+Z 08-04-21.ipynb",
      "provenance": [],
      "collapsed_sections": [],
      "authorship_tag": "ABX9TyO+YdNbbyUwySwPfSqyTnhn",
      "include_colab_link": true
    },
    "kernelspec": {
      "name": "python3",
      "display_name": "Python 3"
    },
    "language_info": {
      "name": "python"
    },
    "accelerator": "GPU"
  },
  "cells": [
    {
      "cell_type": "markdown",
      "metadata": {
        "id": "view-in-github",
        "colab_type": "text"
      },
      "source": [
        "<a href=\"https://colab.research.google.com/github/faruk17035/MachineLearning-Using-GoogleColab/blob/main/Ion_Channel_A%2BZ_08_04_21.ipynb\" target=\"_parent\"><img src=\"https://colab.research.google.com/assets/colab-badge.svg\" alt=\"Open In Colab\"/></a>"
      ]
    },
    {
      "cell_type": "code",
      "metadata": {
        "id": "i-637T5Q0m8V"
      },
      "source": [
        "import numpy as np\n",
        "import pandas as pd\n",
        "import tensorflow as tf\n",
        "from tensorflow import keras\n",
        "from tensorflow.keras import Sequential\n",
        "from tensorflow.keras.layers import Flatten, Dense, Dropout, BatchNormalization\n",
        "from tensorflow.keras.layers import Conv1D, MaxPool1D\n",
        "\n",
        "from tensorflow.keras.optimizers import Adam\n",
        "\n",
        "import  seaborn as sns\n",
        "import matplotlib.pyplot as plt\n",
        "from sklearn import datasets, metrics\n",
        "from sklearn.model_selection import train_test_split\n",
        "from sklearn.preprocessing import StandardScaler"
      ],
      "execution_count": null,
      "outputs": []
    },
    {
      "cell_type": "code",
      "metadata": {
        "colab": {
          "base_uri": "https://localhost:8080/"
        },
        "id": "K7Fs0b5z0-bd",
        "outputId": "2e62fc85-824d-4006-c60f-49668867b74c"
      },
      "source": [
        "from google.colab import drive \n",
        "drive.mount('/content/gdrive')"
      ],
      "execution_count": null,
      "outputs": [
        {
          "output_type": "stream",
          "text": [
            "Mounted at /content/gdrive\n"
          ],
          "name": "stdout"
        }
      ]
    },
    {
      "cell_type": "code",
      "metadata": {
        "colab": {
          "base_uri": "https://localhost:8080/"
        },
        "id": "6RC51Jf01BG4",
        "outputId": "ab71bfa8-1b08-4dc8-97b5-2bf4a79f3beb"
      },
      "source": [
        "import pandas as pd\n",
        "from pandas import read_excel\n",
        "file_name = '/content/gdrive/MyDrive/Ion Channel A+Z.xlsx' \n",
        "df = pd.read_excel(file_name, index_col=0)\n",
        "print(df.head()) # print the first 5 rows"
      ],
      "execution_count": null,
      "outputs": [
        {
          "output_type": "stream",
          "text": [
            "            PubchemFP2  PubchemFP3  PubchemFP4  ...  PAAC49  PAAC50  Target\n",
            "PubchemFP1                                      ...                        \n",
            "1                    0           0           0  ...   2.701   2.493       1\n",
            "1                    1           1           1  ...   2.701   2.493       1\n",
            "1                    1           1           1  ...   2.446   2.538       1\n",
            "1                    1           1           0  ...   2.351   2.618       1\n",
            "1                    1           1           0  ...   2.351   2.618       1\n",
            "\n",
            "[5 rows x 931 columns]\n"
          ],
          "name": "stdout"
        }
      ]
    },
    {
      "cell_type": "code",
      "metadata": {
        "id": "Ui22Kwak1Sqh"
      },
      "source": [
        "#Split data into independent (X) and dependent(Y) columns\n",
        "\n",
        "y = df['Target'].values\n",
        "X = df.drop('Target', axis=1).values"
      ],
      "execution_count": null,
      "outputs": []
    },
    {
      "cell_type": "code",
      "metadata": {
        "id": "4mcwacv-12ps"
      },
      "source": [
        "from sklearn.model_selection import train_test_split\n",
        "X_train, X_test, y_train, y_test = train_test_split(X, y, test_size = 0.20, random_state = 0)"
      ],
      "execution_count": null,
      "outputs": []
    },
    {
      "cell_type": "code",
      "metadata": {
        "colab": {
          "base_uri": "https://localhost:8080/"
        },
        "id": "Cqdyl1C914tm",
        "outputId": "c45a3e25-6bdc-4e7a-ffbe-71214bef8cfc"
      },
      "source": [
        "print(X_train.shape)\n",
        "print(X_test.shape)"
      ],
      "execution_count": null,
      "outputs": [
        {
          "output_type": "stream",
          "text": [
            "(3292, 930)\n",
            "(824, 930)\n"
          ],
          "name": "stdout"
        }
      ]
    },
    {
      "cell_type": "code",
      "metadata": {
        "id": "-WzUYIjw16vE"
      },
      "source": [
        "### Feature scaling\n",
        "from sklearn.preprocessing import StandardScaler\n",
        "scaler = StandardScaler()\n",
        "X_train = scaler.fit_transform(X_train)\n",
        "X_test = scaler.transform(X_test)"
      ],
      "execution_count": null,
      "outputs": []
    },
    {
      "cell_type": "code",
      "metadata": {
        "id": "OFa8F9YJ1-Qk"
      },
      "source": [
        "X_train = X_train.reshape(3292, 930,1)\n",
        "X_test = X_test.reshape(824, 930, 1)"
      ],
      "execution_count": null,
      "outputs": []
    },
    {
      "cell_type": "code",
      "metadata": {
        "id": "cJrKyOWc2D6U"
      },
      "source": [
        "epochs = 50\n",
        "model = Sequential()\n",
        "model.add(Conv1D(filters=32, kernel_size=4, activation='relu', input_shape = (930,1)))\n",
        "model.add(BatchNormalization())\n",
        "model.add(Dropout(0.2))\n",
        "\n",
        "model.add(Conv1D(filters=64, kernel_size=4, activation='relu'))\n",
        "model.add(BatchNormalization())\n",
        "model.add(Dropout(0.5))\n",
        "\n",
        "model.add(Flatten())\n",
        "model.add(Dense(64, activation='relu'))\n",
        "model.add(Dropout(0.5))\n",
        "\n",
        "model.add(Dense(1, activation='sigmoid'))"
      ],
      "execution_count": null,
      "outputs": []
    },
    {
      "cell_type": "code",
      "metadata": {
        "id": "2BCLMH8A2WIt"
      },
      "source": [
        "model.compile(optimizer=Adam(lr=0.001), loss = 'binary_crossentropy', metrics=['accuracy'])"
      ],
      "execution_count": null,
      "outputs": []
    },
    {
      "cell_type": "code",
      "metadata": {
        "colab": {
          "base_uri": "https://localhost:8080/"
        },
        "id": "pqnAfZF82Zb0",
        "outputId": "2945e760-22fb-4523-a354-a03011ac6aea"
      },
      "source": [
        "history = model.fit(X_train, y_train, epochs=epochs, validation_data=(X_test, y_test), verbose=1)"
      ],
      "execution_count": null,
      "outputs": [
        {
          "output_type": "stream",
          "text": [
            "Epoch 1/50\n",
            "103/103 [==============================] - 2s 10ms/step - loss: 1.6695 - accuracy: 0.6346 - val_loss: 0.6860 - val_accuracy: 0.6687\n",
            "Epoch 2/50\n",
            "103/103 [==============================] - 1s 8ms/step - loss: 0.6035 - accuracy: 0.6717 - val_loss: 0.6389 - val_accuracy: 0.6468\n",
            "Epoch 3/50\n",
            "103/103 [==============================] - 1s 8ms/step - loss: 0.5853 - accuracy: 0.6662 - val_loss: 0.6180 - val_accuracy: 0.6468\n",
            "Epoch 4/50\n",
            "103/103 [==============================] - 1s 8ms/step - loss: 0.5688 - accuracy: 0.6680 - val_loss: 0.6143 - val_accuracy: 0.6699\n",
            "Epoch 5/50\n",
            "103/103 [==============================] - 1s 8ms/step - loss: 0.5612 - accuracy: 0.6702 - val_loss: 0.5450 - val_accuracy: 0.6699\n",
            "Epoch 6/50\n",
            "103/103 [==============================] - 1s 8ms/step - loss: 0.5592 - accuracy: 0.6810 - val_loss: 0.5180 - val_accuracy: 0.6699\n",
            "Epoch 7/50\n",
            "103/103 [==============================] - 1s 8ms/step - loss: 0.5281 - accuracy: 0.6646 - val_loss: 0.5190 - val_accuracy: 0.6699\n",
            "Epoch 8/50\n",
            "103/103 [==============================] - 1s 7ms/step - loss: 0.5387 - accuracy: 0.6701 - val_loss: 0.5062 - val_accuracy: 0.6687\n",
            "Epoch 9/50\n",
            "103/103 [==============================] - 1s 10ms/step - loss: 0.5157 - accuracy: 0.6662 - val_loss: 0.5061 - val_accuracy: 0.6687\n",
            "Epoch 10/50\n",
            "103/103 [==============================] - 1s 8ms/step - loss: 0.5199 - accuracy: 0.6630 - val_loss: 0.4899 - val_accuracy: 0.6699\n",
            "Epoch 11/50\n",
            "103/103 [==============================] - 1s 8ms/step - loss: 0.5115 - accuracy: 0.6683 - val_loss: 0.5239 - val_accuracy: 0.6699\n",
            "Epoch 12/50\n",
            "103/103 [==============================] - 1s 8ms/step - loss: 0.5144 - accuracy: 0.6855 - val_loss: 0.4843 - val_accuracy: 0.6711\n",
            "Epoch 13/50\n",
            "103/103 [==============================] - 1s 8ms/step - loss: 0.5182 - accuracy: 0.6739 - val_loss: 0.4777 - val_accuracy: 0.6699\n",
            "Epoch 14/50\n",
            "103/103 [==============================] - 1s 8ms/step - loss: 0.5025 - accuracy: 0.6966 - val_loss: 0.4881 - val_accuracy: 0.7876\n",
            "Epoch 15/50\n",
            "103/103 [==============================] - 1s 8ms/step - loss: 0.4979 - accuracy: 0.7095 - val_loss: 0.4839 - val_accuracy: 0.7998\n",
            "Epoch 16/50\n",
            "103/103 [==============================] - 1s 8ms/step - loss: 0.4822 - accuracy: 0.7178 - val_loss: 0.4993 - val_accuracy: 0.7961\n",
            "Epoch 17/50\n",
            "103/103 [==============================] - 1s 8ms/step - loss: 0.4887 - accuracy: 0.7416 - val_loss: 0.4626 - val_accuracy: 0.7973\n",
            "Epoch 18/50\n",
            "103/103 [==============================] - 1s 8ms/step - loss: 0.4722 - accuracy: 0.7274 - val_loss: 0.4796 - val_accuracy: 0.7998\n",
            "Epoch 19/50\n",
            "103/103 [==============================] - 1s 8ms/step - loss: 0.5000 - accuracy: 0.6868 - val_loss: 0.4543 - val_accuracy: 0.7937\n",
            "Epoch 20/50\n",
            "103/103 [==============================] - 1s 8ms/step - loss: 0.4722 - accuracy: 0.7211 - val_loss: 0.4457 - val_accuracy: 0.8070\n",
            "Epoch 21/50\n",
            "103/103 [==============================] - 1s 8ms/step - loss: 0.4922 - accuracy: 0.7165 - val_loss: 0.4627 - val_accuracy: 0.7828\n",
            "Epoch 22/50\n",
            "103/103 [==============================] - 1s 8ms/step - loss: 0.4826 - accuracy: 0.7126 - val_loss: 0.4431 - val_accuracy: 0.7876\n",
            "Epoch 23/50\n",
            "103/103 [==============================] - 1s 8ms/step - loss: 0.4730 - accuracy: 0.7186 - val_loss: 0.4257 - val_accuracy: 0.8058\n",
            "Epoch 24/50\n",
            "103/103 [==============================] - 1s 8ms/step - loss: 0.4664 - accuracy: 0.7434 - val_loss: 0.4424 - val_accuracy: 0.8022\n",
            "Epoch 25/50\n",
            "103/103 [==============================] - 1s 8ms/step - loss: 0.4548 - accuracy: 0.7376 - val_loss: 0.4580 - val_accuracy: 0.7925\n",
            "Epoch 26/50\n",
            "103/103 [==============================] - 1s 8ms/step - loss: 0.4868 - accuracy: 0.7191 - val_loss: 0.4583 - val_accuracy: 0.8192\n",
            "Epoch 27/50\n",
            "103/103 [==============================] - 1s 8ms/step - loss: 0.4667 - accuracy: 0.7584 - val_loss: 0.4488 - val_accuracy: 0.8046\n",
            "Epoch 28/50\n",
            "103/103 [==============================] - 1s 8ms/step - loss: 0.4791 - accuracy: 0.7148 - val_loss: 0.4397 - val_accuracy: 0.8034\n",
            "Epoch 29/50\n",
            "103/103 [==============================] - 1s 8ms/step - loss: 0.4579 - accuracy: 0.7346 - val_loss: 0.4248 - val_accuracy: 0.8058\n",
            "Epoch 30/50\n",
            "103/103 [==============================] - 1s 8ms/step - loss: 0.4553 - accuracy: 0.7216 - val_loss: 0.4504 - val_accuracy: 0.7864\n",
            "Epoch 31/50\n",
            "103/103 [==============================] - 1s 8ms/step - loss: 0.4628 - accuracy: 0.7352 - val_loss: 0.4416 - val_accuracy: 0.7973\n",
            "Epoch 32/50\n",
            "103/103 [==============================] - 1s 8ms/step - loss: 0.4483 - accuracy: 0.7275 - val_loss: 0.4249 - val_accuracy: 0.8192\n",
            "Epoch 33/50\n",
            "103/103 [==============================] - 1s 8ms/step - loss: 0.4648 - accuracy: 0.7313 - val_loss: 0.4365 - val_accuracy: 0.8095\n",
            "Epoch 34/50\n",
            "103/103 [==============================] - 1s 8ms/step - loss: 0.4396 - accuracy: 0.7428 - val_loss: 0.4412 - val_accuracy: 0.8119\n",
            "Epoch 35/50\n",
            "103/103 [==============================] - 1s 8ms/step - loss: 0.4485 - accuracy: 0.7328 - val_loss: 0.4431 - val_accuracy: 0.7949\n",
            "Epoch 36/50\n",
            "103/103 [==============================] - 1s 8ms/step - loss: 0.4270 - accuracy: 0.7430 - val_loss: 0.4053 - val_accuracy: 0.8313\n",
            "Epoch 37/50\n",
            "103/103 [==============================] - 1s 8ms/step - loss: 0.4569 - accuracy: 0.7311 - val_loss: 0.4077 - val_accuracy: 0.8301\n",
            "Epoch 38/50\n",
            "103/103 [==============================] - 1s 8ms/step - loss: 0.4295 - accuracy: 0.7397 - val_loss: 0.4295 - val_accuracy: 0.8252\n",
            "Epoch 39/50\n",
            "103/103 [==============================] - 1s 8ms/step - loss: 0.4346 - accuracy: 0.7435 - val_loss: 0.4115 - val_accuracy: 0.8240\n",
            "Epoch 40/50\n",
            "103/103 [==============================] - 1s 8ms/step - loss: 0.4447 - accuracy: 0.7319 - val_loss: 0.4299 - val_accuracy: 0.8325\n",
            "Epoch 41/50\n",
            "103/103 [==============================] - 1s 8ms/step - loss: 0.4534 - accuracy: 0.7510 - val_loss: 0.4017 - val_accuracy: 0.8447\n",
            "Epoch 42/50\n",
            "103/103 [==============================] - 1s 8ms/step - loss: 0.4178 - accuracy: 0.7615 - val_loss: 0.3942 - val_accuracy: 0.8386\n",
            "Epoch 43/50\n",
            "103/103 [==============================] - 1s 8ms/step - loss: 0.4407 - accuracy: 0.7319 - val_loss: 0.4184 - val_accuracy: 0.8386\n",
            "Epoch 44/50\n",
            "103/103 [==============================] - 1s 8ms/step - loss: 0.4383 - accuracy: 0.7349 - val_loss: 0.4158 - val_accuracy: 0.8325\n",
            "Epoch 45/50\n",
            "103/103 [==============================] - 1s 8ms/step - loss: 0.4322 - accuracy: 0.7516 - val_loss: 0.4091 - val_accuracy: 0.8362\n",
            "Epoch 46/50\n",
            "103/103 [==============================] - 1s 8ms/step - loss: 0.4265 - accuracy: 0.7340 - val_loss: 0.3984 - val_accuracy: 0.8386\n",
            "Epoch 47/50\n",
            "103/103 [==============================] - 1s 8ms/step - loss: 0.4171 - accuracy: 0.7626 - val_loss: 0.3795 - val_accuracy: 0.8422\n",
            "Epoch 48/50\n",
            "103/103 [==============================] - 1s 8ms/step - loss: 0.4189 - accuracy: 0.7565 - val_loss: 0.3955 - val_accuracy: 0.8386\n",
            "Epoch 49/50\n",
            "103/103 [==============================] - 1s 8ms/step - loss: 0.4172 - accuracy: 0.7658 - val_loss: 0.4079 - val_accuracy: 0.8265\n",
            "Epoch 50/50\n",
            "103/103 [==============================] - 1s 8ms/step - loss: 0.4072 - accuracy: 0.7490 - val_loss: 0.3951 - val_accuracy: 0.8398\n"
          ],
          "name": "stdout"
        }
      ]
    },
    {
      "cell_type": "code",
      "metadata": {
        "colab": {
          "base_uri": "https://localhost:8080/"
        },
        "id": "yNzOlWKG2b7a",
        "outputId": "b32b5093-2e33-415a-8942-6cf0603b53bd"
      },
      "source": [
        "#y_pred = model.predict(X_train).ravel()\n",
        "from sklearn.metrics import roc_curve\n",
        "y_pred_cnn = model.predict(X_test).ravel()\n",
        "fpr_4, tpr_4, thresholds = roc_curve(y_test, y_pred_cnn)\n",
        "from sklearn.metrics import auc\n",
        "auc_score4 = auc(fpr_4, tpr_4)\n",
        "auc_score4"
      ],
      "execution_count": null,
      "outputs": [
        {
          "output_type": "execute_result",
          "data": {
            "text/plain": [
              "0.9042668420340033"
            ]
          },
          "metadata": {
            "tags": []
          },
          "execution_count": 16
        }
      ]
    },
    {
      "cell_type": "code",
      "metadata": {
        "id": "e-1VqfVY3d2R"
      },
      "source": [
        "#Split data into independent (X) and dependent(Y) columns\n",
        "\n",
        "Y = df['Target'].values\n",
        "X = df.drop('Target', axis=1).values"
      ],
      "execution_count": null,
      "outputs": []
    },
    {
      "cell_type": "code",
      "metadata": {
        "id": "4ni1vPIU38LI"
      },
      "source": [
        "from sklearn.model_selection import train_test_split\n",
        "X_train, X_test, y_train, y_test = train_test_split(X, Y, test_size = 0.20, random_state = 0)"
      ],
      "execution_count": null,
      "outputs": []
    },
    {
      "cell_type": "code",
      "metadata": {
        "id": "SZiVB_tb3-nk"
      },
      "source": [
        "### Feature scaling\n",
        "from sklearn.preprocessing import StandardScaler\n",
        "sc = StandardScaler()\n",
        "X_train = sc.fit_transform(X_train)\n",
        "X_test = sc.transform(X_test)"
      ],
      "execution_count": null,
      "outputs": []
    },
    {
      "cell_type": "code",
      "metadata": {
        "colab": {
          "base_uri": "https://localhost:8080/"
        },
        "id": "sqHTBVRv4Awd",
        "outputId": "ab18a1e0-187e-4b89-b8ad-210e4248d54d"
      },
      "source": [
        "from sklearn.neighbors import KNeighborsClassifier\n",
        "from xgboost import XGBClassifier\n",
        "from sklearn.metrics import roc_auc_score\n",
        "from sklearn.svm import SVC\n",
        "model1 = KNeighborsClassifier(n_neighbors = 19, metric = 'minkowski', p = 2)\n",
        "model1.fit(X_train, y_train)\n",
        "# predict probabilities\n",
        "pred_prob1 = model1.predict_proba(X_test)\n",
        "from sklearn.metrics import roc_curve\n",
        "\n",
        "# roc curve for models\n",
        "fpr_1, tpr_1, thresh1 = roc_curve(y_test, pred_prob1[:,1], pos_label=1)\n",
        "# auc scores\n",
        "auc_score1 = roc_auc_score(y_test, pred_prob1[:,1])\n",
        "print(auc_score1)"
      ],
      "execution_count": null,
      "outputs": [
        {
          "output_type": "stream",
          "text": [
            "0.8392229679632245\n"
          ],
          "name": "stdout"
        }
      ]
    },
    {
      "cell_type": "code",
      "metadata": {
        "colab": {
          "base_uri": "https://localhost:8080/"
        },
        "id": "W8bQnDyR4Dxv",
        "outputId": "c7a6e758-1718-41de-f7df-9eb0f8c95844"
      },
      "source": [
        "#Split data into independent (X) and dependent(Y) columns\n",
        "\n",
        "Y = df['Target'].values\n",
        "X = df.drop('Target', axis=1).values\n",
        "\n",
        "from sklearn.model_selection import train_test_split\n",
        "X_train, X_test, y_train, y_test = train_test_split(X, Y, test_size = 0.20, random_state = 10)\n",
        "\n",
        "### Feature scaling\n",
        "from sklearn.preprocessing import StandardScaler\n",
        "sc = StandardScaler()\n",
        "X_train = sc.fit_transform(X_train)\n",
        "X_test = sc.transform(X_test)\n",
        "model2 = SVC(kernel = 'linear',probability=True, random_state = 20)\n",
        "model2.fit(X_train, y_train)\n",
        "\n",
        "pred_prob2 = model2.predict_proba(X_test)\n",
        "\n",
        "fpr_2, tpr_2, thresh2 = roc_curve(y_test, pred_prob2[:,1], pos_label=1)\n",
        "auc_score2 = roc_auc_score(y_test, pred_prob2[:,1])\n",
        "print(auc_score2)"
      ],
      "execution_count": null,
      "outputs": [
        {
          "output_type": "stream",
          "text": [
            "0.8144971343330453\n"
          ],
          "name": "stdout"
        }
      ]
    },
    {
      "cell_type": "code",
      "metadata": {
        "colab": {
          "base_uri": "https://localhost:8080/"
        },
        "id": "YGDoqdMS4o2g",
        "outputId": "d60a90cc-61b2-437d-8ff7-dae493f277aa"
      },
      "source": [
        "#Split data into independent (X) and dependent(Y) columns\n",
        "\n",
        "Y = df['Target'].values\n",
        "X = df.drop('Target', axis=1).values\n",
        "\n",
        "from sklearn.model_selection import train_test_split\n",
        "X_train, X_test, y_train, y_test = train_test_split(X, Y, test_size = 0.20, random_state = 0)\n",
        "\n",
        "\n",
        "### Feature scaling\n",
        "from sklearn.preprocessing import StandardScaler\n",
        "sc = StandardScaler()\n",
        "X_train = sc.fit_transform(X_train)\n",
        "X_test = sc.transform(X_test)\n",
        "\n",
        "\n",
        "model3 = XGBClassifier(random_state=0)\n",
        "model3.fit(X_train, y_train)\n",
        "\n",
        "pred_prob3 = model3.predict_proba(X_test)\n",
        "\n",
        "fpr_3, tpr_3, thresh3 = roc_curve(y_test, pred_prob3[:,1], pos_label=1)\n",
        "\n",
        "auc_score3 = roc_auc_score(y_test, pred_prob3[:,1])\n",
        "\n",
        "print(auc_score3)"
      ],
      "execution_count": null,
      "outputs": [
        {
          "output_type": "stream",
          "text": [
            "0.8871685267209533\n"
          ],
          "name": "stdout"
        }
      ]
    },
    {
      "cell_type": "code",
      "metadata": {
        "id": "tbYrc8yA5NTl"
      },
      "source": [
        "auc_score1 = 0.837\n",
        "auc_score2 = 0.818\n",
        "auc_score3 = 0.88\n",
        "auc_score4 = 0.90"
      ],
      "execution_count": null,
      "outputs": []
    },
    {
      "cell_type": "code",
      "metadata": {
        "colab": {
          "base_uri": "https://localhost:8080/",
          "height": 422
        },
        "id": "k-MAmVrJ59jm",
        "outputId": "e556eba0-6940-4b96-ffaf-86f16d32059f"
      },
      "source": [
        "sns.set_style(\"white\")\n",
        "plt.figure(figsize=(8,6))\n",
        "\n",
        "plt.plot(fpr_1,tpr_1, color = \"green\", label = \"KNN - %0.2f \" %auc_score1, lw = 5)\n",
        "plt.plot(fpr_2,tpr_2, color = \"orange\", label = \"SVM - %0.2f \" %auc_score2, lw = 5)\n",
        "plt.plot(fpr_3,tpr_3, color = \"red\", label = \"XGBoost - %0.2f \" %auc_score3, lw = 5)\n",
        "plt.plot(fpr_4,tpr_4, color = \"blue\", label = \"CNN - %0.2f \" %auc_score4, lw = 5)\n",
        "\n",
        "plt.plot([0,1], [0,1], color = 'purple', lw=2, linestyle='--')\n",
        "plt.xlabel('False Positive Rate', fontsize = 19)\n",
        "plt.ylabel('True Positive Rate', fontsize=19)\n",
        "plt.title('Ion Channel - A+Z', fontsize=22)\n",
        "plt.legend(loc = \"lower right\", fontsize=14)\n",
        "\n",
        "plt.xticks(fontsize=13)\n",
        "plt.yticks(fontsize=13)\n",
        "plt.savefig('ROC_all',dpi=300)\n",
        "plt.show()"
      ],
      "execution_count": null,
      "outputs": [
        {
          "output_type": "display_data",
          "data": {
            "image/png": "[encoded data removed]",
            "text/plain": [
              "<Figure size 576x432 with 1 Axes>"
            ]
          },
          "metadata": {
            "tags": []
          }
        }
      ]
    },
    {
      "cell_type": "code",
      "metadata": {
        "id": "QOf0wvh_6LS3"
      },
      "source": [
        ""
      ],
      "execution_count": null,
      "outputs": []
    }
  ]
}