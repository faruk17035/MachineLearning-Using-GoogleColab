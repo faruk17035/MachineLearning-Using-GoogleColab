{
  "nbformat": 4,
  "nbformat_minor": 0,
  "metadata": {
    "colab": {
      "name": "Mini project1: Basic Python Sequence Analysis Example.ipynb",
      "provenance": [],
      "authorship_tag": "ABX9TyPPho05u76OEJ0kpEytDwsE",
      "include_colab_link": true
    },
    "kernelspec": {
      "name": "python3",
      "display_name": "Python 3"
    }
  },
  "cells": [
    {
      "cell_type": "markdown",
      "metadata": {
        "id": "view-in-github",
        "colab_type": "text"
      },
      "source": [
        "<a href=\"https://colab.research.google.com/github/faruk17035/MachineLearning-Using-GoogleColab/blob/main/Mini_project1_Basic_Python_Sequence_Analysis_Example.ipynb\" target=\"_parent\"><img src=\"https://colab.research.google.com/assets/colab-badge.svg\" alt=\"Open In Colab\"/></a>"
      ]
    },
    {
      "cell_type": "code",
      "metadata": {
        "colab": {
          "base_uri": "https://localhost:8080/"
        },
        "id": "V3xuleW6EQVO",
        "outputId": "d5fc07cf-7c1b-4fd4-b4ad-599c41c4de32"
      },
      "source": [
        "#Project 1 part 1 COUNTING BASE PAIRS\r\n",
        "\r\n",
        "strDNA = \"3’-TACTCTCGTTCTTGCAGCTTGTCAGTACTTTCAGAATCATGGTGTGCATGGTAGAATGACTCTTATAACGAACTTCGACATGGCAATAACCCCCCGATT-5’\"\r\n",
        "\r\n",
        "def countAlphabet(strDNA): \r\n",
        "    dictionary={'A':0,'C':0,'T':0,'G':0}\r\n",
        "    for x in strDNA:    # x represents every character\r\n",
        "        for key,value in dictionary.items():\r\n",
        "            if x==key:   # every character try to match in dictionary\r\n",
        "                dictionary[key]=dictionary[key]+1\r\n",
        "                print(dictionary[key],key)\r\n",
        "    dictionary2={'A':0,'C':0,'T':0,'G':0}\r\n",
        "    for x in strDNA:\r\n",
        "        for key,value in dictionary.items():\r\n",
        "            if x==key:\r\n",
        "                dictionary2[key]=(dictionary2[key]+1/.99) \r\n",
        "    return dictionary, dictionary2\r\n",
        "\r\n",
        "dictionary, dictionary2 = countAlphabet(strDNA)\r\n",
        "print(dictionary)\r\n",
        "print(dictionary2)\r\n"
      ],
      "execution_count": 10,
      "outputs": [
        {
          "output_type": "stream",
          "text": [
            "1 T\n",
            "1 A\n",
            "1 C\n",
            "2 T\n",
            "2 C\n",
            "3 T\n",
            "3 C\n",
            "1 G\n",
            "4 T\n",
            "5 T\n",
            "4 C\n",
            "6 T\n",
            "7 T\n",
            "2 G\n",
            "5 C\n",
            "2 A\n",
            "3 G\n",
            "6 C\n",
            "8 T\n",
            "9 T\n",
            "4 G\n",
            "10 T\n",
            "7 C\n",
            "3 A\n",
            "5 G\n",
            "11 T\n",
            "4 A\n",
            "8 C\n",
            "12 T\n",
            "13 T\n",
            "14 T\n",
            "9 C\n",
            "5 A\n",
            "6 G\n",
            "6 A\n",
            "7 A\n",
            "15 T\n",
            "10 C\n",
            "8 A\n",
            "16 T\n",
            "7 G\n",
            "8 G\n",
            "17 T\n",
            "9 G\n",
            "18 T\n",
            "10 G\n",
            "11 C\n",
            "9 A\n",
            "19 T\n",
            "11 G\n",
            "12 G\n",
            "20 T\n",
            "10 A\n",
            "13 G\n",
            "11 A\n",
            "12 A\n",
            "21 T\n",
            "14 G\n",
            "13 A\n",
            "12 C\n",
            "22 T\n",
            "13 C\n",
            "23 T\n",
            "24 T\n",
            "14 A\n",
            "25 T\n",
            "15 A\n",
            "16 A\n",
            "14 C\n",
            "15 G\n",
            "17 A\n",
            "18 A\n",
            "15 C\n",
            "26 T\n",
            "27 T\n",
            "16 C\n",
            "16 G\n",
            "19 A\n",
            "17 C\n",
            "20 A\n",
            "28 T\n",
            "17 G\n",
            "18 G\n",
            "18 C\n",
            "21 A\n",
            "22 A\n",
            "29 T\n",
            "23 A\n",
            "24 A\n",
            "19 C\n",
            "20 C\n",
            "21 C\n",
            "22 C\n",
            "23 C\n",
            "24 C\n",
            "19 G\n",
            "25 A\n",
            "30 T\n",
            "31 T\n",
            "{'A': 25, 'C': 24, 'T': 31, 'G': 19}\n",
            "{'A': 25.252525252525256, 'C': 24.242424242424246, 'T': 31.31313131313132, 'G': 19.191919191919194}\n"
          ],
          "name": "stdout"
        }
      ]
    },
    {
      "cell_type": "code",
      "metadata": {
        "colab": {
          "base_uri": "https://localhost:8080/"
        },
        "id": "fNByduT9IOaG",
        "outputId": "7a39cada-3bcd-47e0-cfc8-b0fc2a4d41f0"
      },
      "source": [
        "#project 1 part 2 COMPLEMENTARY BASE PAIRS\r\n",
        "\r\n",
        "strDNA = \"3’-TACTCTCGTTCTTGCAGCTTGTCAGTACTTTCAGAATCATGGTGTGCATGGTAGAATGACTCTTATAACGAACTTCGACATGGCAATAACCCCCCGATT-5’\"\r\n",
        "result=\"\"\r\n",
        "for x in strDNA:\r\n",
        "    if x==\"T\":\r\n",
        "        x=\"A\"\r\n",
        "    elif x==\"A\":\r\n",
        "        x=\"T\"\r\n",
        "    elif x==\"C\":\r\n",
        "        x=\"G\"\r\n",
        "    elif x==\"G\":\r\n",
        "        x=\"C\"\r\n",
        "    elif x==\"3\":\r\n",
        "        x=\"5\"\r\n",
        "    elif x==\"5\":\r\n",
        "        x=\"3\"\r\n",
        "    result=result+x\r\n",
        "print(result)"
      ],
      "execution_count": 11,
      "outputs": [
        {
          "output_type": "stream",
          "text": [
            "5’-ATGAGAGCAAGAACGTCGAACAGTCATGAAAGTCTTAGTACCACACGTACCATCTTACTGAGAATATTGCTTGAAGCTGTACCGTTATTGGGGGGCTAA-3’\n"
          ],
          "name": "stdout"
        }
      ]
    },
    {
      "cell_type": "code",
      "metadata": {
        "colab": {
          "base_uri": "https://localhost:8080/"
        },
        "id": "S_z2A_m8Jwql",
        "outputId": "d8789e78-59d0-431d-ca65-4b02e2d1fa46"
      },
      "source": [
        "#project 1 part 3 TRANSCRIPTION\r\n",
        "\r\n",
        "strDNA = \"3’-TACTCTCGTTCTTGCAGCTTGTCAGTACTTTCAGAATCATGGTGTGCATGGTAGAATGACTCTTATAACGAACTTCGACATGGCAATAACCCCCCGATT-5’\"\r\n",
        "result=\"\"\r\n",
        "for x in strDNA:\r\n",
        "    if x==\"T\":\r\n",
        "        x=\"U\"\r\n",
        "    result=result+x\r\n",
        "print(result)"
      ],
      "execution_count": 12,
      "outputs": [
        {
          "output_type": "stream",
          "text": [
            "3’-UACUCUCGUUCUUGCAGCUUGUCAGUACUUUCAGAAUCAUGGUGUGCAUGGUAGAAUGACUCUUAUAACGAACUUCGACAUGGCAAUAACCCCCCGAUU-5’\n"
          ],
          "name": "stdout"
        }
      ]
    },
    {
      "cell_type": "code",
      "metadata": {
        "colab": {
          "base_uri": "https://localhost:8080/"
        },
        "id": "ZEW4AlPcKTe9",
        "outputId": "4d6ba29f-806a-474b-c71f-1d5bd50f6dce"
      },
      "source": [
        "#project 1 part 4 TRANSLATION\r\n",
        "\r\n",
        "dictionary={'UUU':'PHE','UUC':'PHE','UUA':'PHE','UUG':'PHE','UCU':'SER','UCC':\r\n",
        "'SER','UCA':'SER','UCG':'SER','UAU':'TYR','UAC':'TYR','UAA':'STOP','UAG':'STOP',\r\n",
        "'UGU':'CYS','UGC':'CYS','UGA':'STOP','UGG':'TRP','CUU':'LEU','CUC':'LEU','CUA':\r\n",
        "'LEU','CUG':'LEU','CCU':'PRO','CCC':'PRO','CCA':'PRO','CCG':'PRO','CAU':'HIS',\r\n",
        "'CAC':'HIS','CAA':'GLN','CAG':'GLN','CGU':'ARG','CGC':'ARG','CGA':'ARG','CGG':\r\n",
        "'ARG','AUU':'ILE','AUC':'ILE','AUA':'ILE','AUG':'MET','ACU':'THR','ACC':'THR'\r\n",
        ",'ACA':'THR','ACG':'THR','AAU':'ASN','AAC':'ASN','AAA':'LYS','AAG':'LYS','AGU'\r\n",
        ":'SER','AGC':'SER','AGA':'ARG','AGG':'ARG','GUU':'VAL','GUC':'VAL','GUA':'VAL',\r\n",
        "'GUG':'VAL','GCU':'ALA','GCC':'ALA','GCA':'ALA','GCG':'ALA','GAU':'ASP','GAC':\r\n",
        "'ASP','GAA':'GLU','GAG':'GLU','GGU':'GLY','GGC':'GLY','GGA':'GLY','GGG':'GLY'}\r\n",
        "strRNA=\"AUGAGAGCAAGAACGUCGAACAGUCAUGAAAGUCUUAGUACCACACGUACCAUCUUACUGAGAAUAUUGCUUGAAGCUGUACCGUUAUUGGGGGGCUAA\"\r\n",
        "result=\"\"\r\n",
        "i = 0\r\n",
        "while i < len(strRNA)-2: # -2 means UAA er U porjonto loop cholbe\r\n",
        "    s=strRNA[i: i+3]     # i: i+3 means the first three character\r\n",
        "    for key,value in dictionary.items():\r\n",
        "        if s == key:   # s represents group of three\r\n",
        "            s=value\r\n",
        "    result=result+s\r\n",
        "    i=i+3\r\n",
        "print(result)"
      ],
      "execution_count": 13,
      "outputs": [
        {
          "output_type": "stream",
          "text": [
            "METARGALAARGTHRSERASNSERHISGLUSERLEUSERTHRTHRARGTHRILEPHELEUARGILEPHELEUGLUALAVALPROPHEPHEGLYGLYSTOP\n"
          ],
          "name": "stdout"
        }
      ]
    }
  ]
}