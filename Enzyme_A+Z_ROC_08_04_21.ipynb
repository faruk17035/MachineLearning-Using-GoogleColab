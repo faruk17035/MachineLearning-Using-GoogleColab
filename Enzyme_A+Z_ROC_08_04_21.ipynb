{
  "nbformat": 4,
  "nbformat_minor": 0,
  "metadata": {
    "colab": {
      "name": "Enzyme A+Z ROC_08_04_21.ipynb",
      "provenance": [],
      "authorship_tag": "ABX9TyPX5X0frL4Mq0n1V99H9pnZ",
      "include_colab_link": true
    },
    "kernelspec": {
      "name": "python3",
      "display_name": "Python 3"
    },
    "language_info": {
      "name": "python"
    },
    "accelerator": "GPU"
  },
  "cells": [
    {
      "cell_type": "markdown",
      "metadata": {
        "id": "view-in-github",
        "colab_type": "text"
      },
      "source": [
        "<a href=\"https://colab.research.google.com/github/faruk17035/MachineLearning-Using-GoogleColab/blob/main/Enzyme_A%2BZ_ROC_08_04_21.ipynb\" target=\"_parent\"><img src=\"https://colab.research.google.com/assets/colab-badge.svg\" alt=\"Open In Colab\"/></a>"
      ]
    },
    {
      "cell_type": "code",
      "metadata": {
        "id": "_g3jsMK0a5Xb"
      },
      "source": [
        "import numpy as np\n",
        "import pandas as pd\n",
        "import tensorflow as tf\n",
        "from tensorflow import keras\n",
        "from tensorflow.keras import Sequential\n",
        "from tensorflow.keras.layers import Flatten, Dense, Dropout, BatchNormalization\n",
        "from tensorflow.keras.layers import Conv1D, MaxPool1D\n",
        "\n",
        "from tensorflow.keras.optimizers import Adam\n",
        "\n",
        "import  seaborn as sns\n",
        "import matplotlib.pyplot as plt\n",
        "from sklearn import datasets, metrics\n",
        "from sklearn.model_selection import train_test_split\n",
        "from sklearn.preprocessing import StandardScaler"
      ],
      "execution_count": 1,
      "outputs": []
    },
    {
      "cell_type": "code",
      "metadata": {
        "colab": {
          "base_uri": "https://localhost:8080/"
        },
        "id": "X0EI_c76bIB_",
        "outputId": "e0720c8b-c9c4-472b-ce31-42d2d952c8df"
      },
      "source": [
        "from google.colab import drive \n",
        "drive.mount('/content/gdrive')"
      ],
      "execution_count": 2,
      "outputs": [
        {
          "output_type": "stream",
          "text": [
            "Mounted at /content/gdrive\n"
          ],
          "name": "stdout"
        }
      ]
    },
    {
      "cell_type": "code",
      "metadata": {
        "colab": {
          "base_uri": "https://localhost:8080/"
        },
        "id": "JflX9y5ybOc3",
        "outputId": "dd4a3800-7d28-4d32-d9e8-f746125be946"
      },
      "source": [
        "import pandas as pd\n",
        "from pandas import read_excel\n",
        "file_name = '/content/gdrive/MyDrive/Enzyme A+Z.xlsx' \n",
        "df = pd.read_excel(file_name, index_col=0)\n",
        "print(df.head()) # print the first 5 rows"
      ],
      "execution_count": 3,
      "outputs": [
        {
          "output_type": "stream",
          "text": [
            "            PubchemFP2  PubchemFP3  PubchemFP4  ...  PAAC49  PAAC50  Target\n",
            "PubchemFP1                                      ...                        \n",
            "1                    1           0           0  ...   2.526   2.456       1\n",
            "1                    1           0           0  ...   2.335   2.616       1\n",
            "1                    1           1           0  ...   2.335   2.616       1\n",
            "1                    1           1           0  ...   2.394   2.424       1\n",
            "1                    1           0           0  ...   2.478   2.502       1\n",
            "\n",
            "[5 rows x 931 columns]\n"
          ],
          "name": "stdout"
        }
      ]
    },
    {
      "cell_type": "code",
      "metadata": {
        "id": "xPIwCWmnbb5m"
      },
      "source": [
        "#Split data into independent (X) and dependent(Y) columns\n",
        "\n",
        "y = df['Target'].values\n",
        "X = df.drop('Target', axis=1).values"
      ],
      "execution_count": 4,
      "outputs": []
    },
    {
      "cell_type": "code",
      "metadata": {
        "id": "o6MbdZlbbfAG"
      },
      "source": [
        "from sklearn.model_selection import train_test_split\n",
        "X_train, X_test, y_train, y_test = train_test_split(X, y, test_size = 0.20, random_state = 42)"
      ],
      "execution_count": 5,
      "outputs": []
    },
    {
      "cell_type": "code",
      "metadata": {
        "colab": {
          "base_uri": "https://localhost:8080/"
        },
        "id": "yBMeRI7Gbzef",
        "outputId": "1b9eb235-d21e-477b-b7bc-bc91fd9129db"
      },
      "source": [
        "print(X_train.shape)\n",
        "print(X_test.shape)"
      ],
      "execution_count": 7,
      "outputs": [
        {
          "output_type": "stream",
          "text": [
            "(6525, 930)\n",
            "(1632, 930)\n"
          ],
          "name": "stdout"
        }
      ]
    },
    {
      "cell_type": "code",
      "metadata": {
        "id": "7duXNu9Qbi5w"
      },
      "source": [
        "### Feature scaling\n",
        "from sklearn.preprocessing import StandardScaler\n",
        "scaler = StandardScaler()\n",
        "X_train = scaler.fit_transform(X_train)\n",
        "X_test = scaler.transform(X_test)"
      ],
      "execution_count": 9,
      "outputs": []
    },
    {
      "cell_type": "code",
      "metadata": {
        "id": "AA1YfonAbp_8"
      },
      "source": [
        "X_train = X_train.reshape(6525, 930,1)\n",
        "X_test = X_test.reshape(1632, 930, 1)"
      ],
      "execution_count": 10,
      "outputs": []
    },
    {
      "cell_type": "code",
      "metadata": {
        "id": "vhdbxNrwb-ei"
      },
      "source": [
        "epochs = 30\n",
        "model = Sequential()\n",
        "model.add(Conv1D(filters=32, kernel_size=4, activation='relu', input_shape = (930,1)))\n",
        "model.add(BatchNormalization())\n",
        "model.add(Dropout(0.2))\n",
        "\n",
        "model.add(Conv1D(filters=64, kernel_size=4, activation='relu'))\n",
        "model.add(BatchNormalization())\n",
        "model.add(Dropout(0.5))\n",
        "\n",
        "model.add(Flatten())\n",
        "model.add(Dense(64, activation='relu'))\n",
        "model.add(Dropout(0.5))\n",
        "\n",
        "model.add(Dense(1, activation='sigmoid'))"
      ],
      "execution_count": 18,
      "outputs": []
    },
    {
      "cell_type": "code",
      "metadata": {
        "id": "6pX1ZQy1cF6f"
      },
      "source": [
        "model.compile(optimizer=Adam(lr=0.001), loss = 'binary_crossentropy', metrics=['accuracy'])"
      ],
      "execution_count": 19,
      "outputs": []
    },
    {
      "cell_type": "code",
      "metadata": {
        "colab": {
          "base_uri": "https://localhost:8080/"
        },
        "id": "JvS6PquDcI-P",
        "outputId": "ff2849e1-39a8-42ae-b1f4-0c17dab5b2f7"
      },
      "source": [
        "history = model.fit(X_train, y_train, epochs=epochs, validation_data=(X_test, y_test), verbose=1)"
      ],
      "execution_count": 20,
      "outputs": [
        {
          "output_type": "stream",
          "text": [
            "Epoch 1/30\n",
            "204/204 [==============================] - 3s 9ms/step - loss: 1.4901 - accuracy: 0.6666 - val_loss: 0.6518 - val_accuracy: 0.7255\n",
            "Epoch 2/30\n",
            "204/204 [==============================] - 2s 8ms/step - loss: 0.5814 - accuracy: 0.6939 - val_loss: 0.5673 - val_accuracy: 0.7384\n",
            "Epoch 3/30\n",
            "204/204 [==============================] - 2s 7ms/step - loss: 0.5476 - accuracy: 0.7015 - val_loss: 0.4954 - val_accuracy: 0.7659\n",
            "Epoch 4/30\n",
            "204/204 [==============================] - 2s 8ms/step - loss: 0.5354 - accuracy: 0.7208 - val_loss: 0.4429 - val_accuracy: 0.7837\n",
            "Epoch 5/30\n",
            "204/204 [==============================] - 2s 7ms/step - loss: 0.5049 - accuracy: 0.7262 - val_loss: 0.4680 - val_accuracy: 0.7825\n",
            "Epoch 6/30\n",
            "204/204 [==============================] - 2s 8ms/step - loss: 0.5084 - accuracy: 0.7196 - val_loss: 0.4463 - val_accuracy: 0.7763\n",
            "Epoch 7/30\n",
            "204/204 [==============================] - 2s 8ms/step - loss: 0.5037 - accuracy: 0.7301 - val_loss: 0.4453 - val_accuracy: 0.7917\n",
            "Epoch 8/30\n",
            "204/204 [==============================] - 2s 7ms/step - loss: 0.4973 - accuracy: 0.7289 - val_loss: 0.4753 - val_accuracy: 0.7923\n",
            "Epoch 9/30\n",
            "204/204 [==============================] - 2s 7ms/step - loss: 0.4911 - accuracy: 0.7356 - val_loss: 0.4268 - val_accuracy: 0.8125\n",
            "Epoch 10/30\n",
            "204/204 [==============================] - 2s 8ms/step - loss: 0.4858 - accuracy: 0.7337 - val_loss: 0.4159 - val_accuracy: 0.8002\n",
            "Epoch 11/30\n",
            "204/204 [==============================] - 2s 8ms/step - loss: 0.4909 - accuracy: 0.7268 - val_loss: 0.4413 - val_accuracy: 0.7837\n",
            "Epoch 12/30\n",
            "204/204 [==============================] - 2s 7ms/step - loss: 0.4873 - accuracy: 0.7393 - val_loss: 0.4348 - val_accuracy: 0.7770\n",
            "Epoch 13/30\n",
            "204/204 [==============================] - 2s 7ms/step - loss: 0.4671 - accuracy: 0.7360 - val_loss: 0.4171 - val_accuracy: 0.8045\n",
            "Epoch 14/30\n",
            "204/204 [==============================] - 2s 7ms/step - loss: 0.4772 - accuracy: 0.7297 - val_loss: 0.4746 - val_accuracy: 0.7574\n",
            "Epoch 15/30\n",
            "204/204 [==============================] - 2s 7ms/step - loss: 0.4742 - accuracy: 0.7429 - val_loss: 0.4276 - val_accuracy: 0.8094\n",
            "Epoch 16/30\n",
            "204/204 [==============================] - 2s 7ms/step - loss: 0.4797 - accuracy: 0.7336 - val_loss: 0.4298 - val_accuracy: 0.7855\n",
            "Epoch 17/30\n",
            "204/204 [==============================] - 2s 8ms/step - loss: 0.4741 - accuracy: 0.7391 - val_loss: 0.4271 - val_accuracy: 0.8015\n",
            "Epoch 18/30\n",
            "204/204 [==============================] - 2s 7ms/step - loss: 0.4697 - accuracy: 0.7399 - val_loss: 0.4065 - val_accuracy: 0.8027\n",
            "Epoch 19/30\n",
            "204/204 [==============================] - 2s 8ms/step - loss: 0.4607 - accuracy: 0.7348 - val_loss: 0.4215 - val_accuracy: 0.8113\n",
            "Epoch 20/30\n",
            "204/204 [==============================] - 2s 8ms/step - loss: 0.4631 - accuracy: 0.7468 - val_loss: 0.4099 - val_accuracy: 0.8143\n",
            "Epoch 21/30\n",
            "204/204 [==============================] - 2s 7ms/step - loss: 0.4628 - accuracy: 0.7332 - val_loss: 0.4133 - val_accuracy: 0.7978\n",
            "Epoch 22/30\n",
            "204/204 [==============================] - 2s 7ms/step - loss: 0.4584 - accuracy: 0.7355 - val_loss: 0.4313 - val_accuracy: 0.7904\n",
            "Epoch 23/30\n",
            "204/204 [==============================] - 2s 8ms/step - loss: 0.4655 - accuracy: 0.7434 - val_loss: 0.4109 - val_accuracy: 0.8094\n",
            "Epoch 24/30\n",
            "204/204 [==============================] - 2s 8ms/step - loss: 0.4531 - accuracy: 0.7487 - val_loss: 0.3991 - val_accuracy: 0.8113\n",
            "Epoch 25/30\n",
            "204/204 [==============================] - 2s 7ms/step - loss: 0.4672 - accuracy: 0.7424 - val_loss: 0.3913 - val_accuracy: 0.8100\n",
            "Epoch 26/30\n",
            "204/204 [==============================] - 2s 8ms/step - loss: 0.4679 - accuracy: 0.7317 - val_loss: 0.3911 - val_accuracy: 0.8082\n",
            "Epoch 27/30\n",
            "204/204 [==============================] - 2s 8ms/step - loss: 0.4548 - accuracy: 0.7286 - val_loss: 0.4094 - val_accuracy: 0.8070\n",
            "Epoch 28/30\n",
            "204/204 [==============================] - 2s 8ms/step - loss: 0.4650 - accuracy: 0.7249 - val_loss: 0.3902 - val_accuracy: 0.8082\n",
            "Epoch 29/30\n",
            "204/204 [==============================] - 2s 7ms/step - loss: 0.4659 - accuracy: 0.7375 - val_loss: 0.3934 - val_accuracy: 0.8076\n",
            "Epoch 30/30\n",
            "204/204 [==============================] - 2s 8ms/step - loss: 0.4450 - accuracy: 0.7442 - val_loss: 0.4106 - val_accuracy: 0.7837\n"
          ],
          "name": "stdout"
        }
      ]
    },
    {
      "cell_type": "code",
      "metadata": {
        "colab": {
          "base_uri": "https://localhost:8080/"
        },
        "id": "iG410gYacMYO",
        "outputId": "eae7b28b-bfae-4d41-f12c-531e74908847"
      },
      "source": [
        "#y_pred = model.predict(X_train).ravel()\n",
        "from sklearn.metrics import roc_curve\n",
        "y_pred_cnn = model.predict(X_test).ravel()\n",
        "fpr_4, tpr_4, thresholds = roc_curve(y_test, y_pred_cnn)\n",
        "from sklearn.metrics import auc\n",
        "auc_score4 = auc(fpr_4, tpr_4)\n",
        "auc_score4"
      ],
      "execution_count": 21,
      "outputs": [
        {
          "output_type": "execute_result",
          "data": {
            "text/plain": [
              "0.9011997913406364"
            ]
          },
          "metadata": {
            "tags": []
          },
          "execution_count": 21
        }
      ]
    },
    {
      "cell_type": "code",
      "metadata": {
        "id": "E5ZE5FAiclMt"
      },
      "source": [
        "#Split data into independent (X) and dependent(Y) columns\n",
        "\n",
        "Y = df['Target'].values\n",
        "X = df.drop('Target', axis=1).values"
      ],
      "execution_count": 22,
      "outputs": []
    },
    {
      "cell_type": "code",
      "metadata": {
        "id": "rZ7Br_NVc2dE"
      },
      "source": [
        "from sklearn.model_selection import train_test_split\n",
        "X_train, X_test, y_train, y_test = train_test_split(X, Y, test_size = 0.20, random_state = 0)"
      ],
      "execution_count": 23,
      "outputs": []
    },
    {
      "cell_type": "code",
      "metadata": {
        "id": "XCrB921Ec6MT"
      },
      "source": [
        "### Feature scaling\n",
        "from sklearn.preprocessing import StandardScaler\n",
        "sc = StandardScaler()\n",
        "X_train = sc.fit_transform(X_train)\n",
        "X_test = sc.transform(X_test)"
      ],
      "execution_count": 24,
      "outputs": []
    },
    {
      "cell_type": "code",
      "metadata": {
        "colab": {
          "base_uri": "https://localhost:8080/"
        },
        "id": "uJpnGSNwc8Vc",
        "outputId": "acabc2e8-3046-4662-d20a-ad4eabc5e1bd"
      },
      "source": [
        "from sklearn.neighbors import KNeighborsClassifier\n",
        "from xgboost import XGBClassifier\n",
        "from sklearn.metrics import roc_auc_score\n",
        "from sklearn.svm import SVC\n",
        "model1 = KNeighborsClassifier(n_neighbors = 5, metric = 'minkowski', p = 2)\n",
        "model1.fit(X_train, y_train)\n",
        "# predict probabilities\n",
        "pred_prob1 = model1.predict_proba(X_test)\n",
        "from sklearn.metrics import roc_curve\n",
        "\n",
        "# roc curve for models\n",
        "fpr_1, tpr_1, thresh1 = roc_curve(y_test, pred_prob1[:,1], pos_label=1)\n",
        "# auc scores\n",
        "auc_score1 = roc_auc_score(y_test, pred_prob1[:,1])\n",
        "print(auc_score1)"
      ],
      "execution_count": 25,
      "outputs": [
        {
          "output_type": "stream",
          "text": [
            "0.8447013032965738\n"
          ],
          "name": "stdout"
        }
      ]
    },
    {
      "cell_type": "code",
      "metadata": {
        "colab": {
          "base_uri": "https://localhost:8080/"
        },
        "id": "ZkOYvThKdAjG",
        "outputId": "14affb44-bba8-491c-fb8b-c7e19dc923f9"
      },
      "source": [
        "model2 = SVC(kernel = 'linear',probability=True, random_state = 0)\n",
        "model2.fit(X_train, y_train)\n",
        "\n",
        "pred_prob2 = model2.predict_proba(X_test)\n",
        "\n",
        "fpr_2, tpr_2, thresh2 = roc_curve(y_test, pred_prob2[:,1], pos_label=1)\n",
        "auc_score2 = roc_auc_score(y_test, pred_prob2[:,1])\n",
        "print(auc_score2)"
      ],
      "execution_count": 26,
      "outputs": [
        {
          "output_type": "stream",
          "text": [
            "0.8254307112949562\n"
          ],
          "name": "stdout"
        }
      ]
    },
    {
      "cell_type": "code",
      "metadata": {
        "colab": {
          "base_uri": "https://localhost:8080/"
        },
        "id": "rWslecFzdEkR",
        "outputId": "12a003a1-805b-494c-f97f-927ea4598196"
      },
      "source": [
        "#Split data into independent (X) and dependent(Y) columns\n",
        "\n",
        "Y = df['Target'].values\n",
        "X = df.drop('Target', axis=1).values\n",
        "\n",
        "from sklearn.model_selection import train_test_split\n",
        "X_train, X_test, y_train, y_test = train_test_split(X, Y, test_size = 0.20, random_state = 24)\n",
        "\n",
        "### Feature scaling\n",
        "from sklearn.preprocessing import StandardScaler\n",
        "sc = StandardScaler()\n",
        "X_train = sc.fit_transform(X_train)\n",
        "X_test = sc.transform(X_test)\n",
        "\n",
        "model3 = XGBClassifier(random_state=20)\n",
        "model3.fit(X_train, y_train)\n",
        "\n",
        "pred_prob3 = model3.predict_proba(X_test)\n",
        "\n",
        "fpr_3, tpr_3, thresh3 = roc_curve(y_test, pred_prob3[:,1], pos_label=1)\n",
        "\n",
        "auc_score3 = roc_auc_score(y_test, pred_prob3[:,1])\n",
        "\n",
        "print(auc_score3)"
      ],
      "execution_count": 32,
      "outputs": [
        {
          "output_type": "stream",
          "text": [
            "0.8806650127594376\n"
          ],
          "name": "stdout"
        }
      ]
    },
    {
      "cell_type": "code",
      "metadata": {
        "id": "gaTkWug_fPv0"
      },
      "source": [
        "auc_score1 = 0.84\n",
        "auc_score2 = 0.83\n",
        "auc_score3 = 0.88\n",
        "auc_score4 = 0.90"
      ],
      "execution_count": 33,
      "outputs": []
    },
    {
      "cell_type": "code",
      "metadata": {
        "colab": {
          "base_uri": "https://localhost:8080/",
          "height": 422
        },
        "id": "V80GqkqkgrDl",
        "outputId": "19806ebb-0f18-48ff-edee-4cc56c1bd57a"
      },
      "source": [
        "sns.set_style(\"white\")\n",
        "plt.figure(figsize=(8,6))\n",
        "\n",
        "plt.plot(fpr_1,tpr_1, color = \"green\", label = \"KNN - %0.2f \" %auc_score1, lw = 5)\n",
        "plt.plot(fpr_2,tpr_2, color = \"orange\", label = \"SVM - %0.2f \" %auc_score2, lw = 5)\n",
        "plt.plot(fpr_3,tpr_3, color = \"red\", label = \"XGBoost - %0.2f \" %auc_score3, lw = 5)\n",
        "plt.plot(fpr_4,tpr_4, color = \"blue\", label = \"CNN - %0.2f \" %auc_score4, lw = 5)\n",
        "\n",
        "plt.plot([0,1], [0,1], color = 'purple', lw=2, linestyle='--')\n",
        "plt.xlabel('False Positive Rate', fontsize = 19)\n",
        "plt.ylabel('True Positive Rate', fontsize=19)\n",
        "plt.title('ENZYME - A+Z', fontsize=22)\n",
        "plt.legend(loc = \"lower right\", fontsize=14)\n",
        "\n",
        "plt.xticks(fontsize=13)\n",
        "plt.yticks(fontsize=13)\n",
        "plt.savefig('ROC_all',dpi=300)\n",
        "plt.show()"
      ],
      "execution_count": 34,
      "outputs": [
        {
          "output_type": "display_data",
          "data": {
            "image/png": "[encoded data removed]",
            "text/plain": [
              "<Figure size 576x432 with 1 Axes>"
            ]
          },
          "metadata": {
            "tags": []
          }
        }
      ]
    },
    {
      "cell_type": "code",
      "metadata": {
        "id": "S6gC104Eg6Ch"
      },
      "source": [
        ""
      ],
      "execution_count": null,
      "outputs": []
    }
  ]
}