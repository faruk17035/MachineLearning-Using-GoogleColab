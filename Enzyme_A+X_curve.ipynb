{
  "nbformat": 4,
  "nbformat_minor": 0,
  "metadata": {
    "colab": {
      "name": "Enzyme A+X curve.ipynb",
      "provenance": [],
      "authorship_tag": "ABX9TyPxjf17TayONEAzYyoXCtWr",
      "include_colab_link": true
    },
    "kernelspec": {
      "name": "python3",
      "display_name": "Python 3"
    },
    "language_info": {
      "name": "python"
    },
    "accelerator": "GPU"
  },
  "cells": [
    {
      "cell_type": "markdown",
      "metadata": {
        "id": "view-in-github",
        "colab_type": "text"
      },
      "source": [
        "<a href=\"https://colab.research.google.com/github/faruk17035/MachineLearning-Using-GoogleColab/blob/main/Enzyme_A%2BX_curve.ipynb\" target=\"_parent\"><img src=\"https://colab.research.google.com/assets/colab-badge.svg\" alt=\"Open In Colab\"/></a>"
      ]
    },
    {
      "cell_type": "code",
      "metadata": {
        "id": "7zsk_Y9Z0sxp"
      },
      "source": [
        "import numpy as np\n",
        "import pandas as pd\n",
        "import tensorflow as tf\n",
        "from tensorflow import keras\n",
        "from tensorflow.keras import Sequential\n",
        "from tensorflow.keras.layers import Flatten, Dense, Dropout, BatchNormalization\n",
        "from tensorflow.keras.layers import Conv1D, MaxPool1D\n",
        "\n",
        "from tensorflow.keras.optimizers import Adam\n",
        "\n",
        "import  seaborn as sns\n",
        "import matplotlib.pyplot as plt\n",
        "from sklearn import datasets, metrics\n",
        "from sklearn.model_selection import train_test_split\n",
        "from sklearn.preprocessing import StandardScaler"
      ],
      "execution_count": 1,
      "outputs": []
    },
    {
      "cell_type": "code",
      "metadata": {
        "colab": {
          "base_uri": "https://localhost:8080/"
        },
        "id": "KwTLyjzH093l",
        "outputId": "c6b5985f-9d51-4d06-84e4-d08efc3c87a7"
      },
      "source": [
        "from google.colab import drive \n",
        "drive.mount('/content/gdrive')"
      ],
      "execution_count": 2,
      "outputs": [
        {
          "output_type": "stream",
          "text": [
            "Mounted at /content/gdrive\n"
          ],
          "name": "stdout"
        }
      ]
    },
    {
      "cell_type": "code",
      "metadata": {
        "colab": {
          "base_uri": "https://localhost:8080/"
        },
        "id": "kNZzz7Ba0_44",
        "outputId": "264e5429-83d0-4804-e421-c33d07c52313"
      },
      "source": [
        "import pandas as pd\n",
        "from pandas import read_excel\n",
        "file_name = '/content/gdrive/MyDrive/Enzyme A+X.xlsx' \n",
        "df = pd.read_excel(file_name, index_col=0)\n",
        "print(df.head()) # print the first 5 rows"
      ],
      "execution_count": 3,
      "outputs": [
        {
          "output_type": "stream",
          "text": [
            "            PubchemFP2  PubchemFP3  PubchemFP4  ...  BiGram399  BiGram400  Target\n",
            "PubchemFP1                                      ...                              \n",
            "1                    1           0           0  ...     3.0730    0.75382       1\n",
            "1                    1           0           0  ...     2.1047    0.93939       1\n",
            "1                    1           1           0  ...     2.1047    0.93939       1\n",
            "1                    1           1           0  ...     2.8391    1.49230       1\n",
            "1                    1           0           0  ...     1.8568    1.73260       1\n",
            "\n",
            "[5 rows x 1281 columns]\n"
          ],
          "name": "stdout"
        }
      ]
    },
    {
      "cell_type": "code",
      "metadata": {
        "id": "ggU-oMYE1IT5"
      },
      "source": [
        "#Split data into independent (X) and dependent(Y) columns\n",
        "\n",
        "y = df['Target'].values\n",
        "X = df.drop('Target', axis=1).values"
      ],
      "execution_count": 49,
      "outputs": []
    },
    {
      "cell_type": "code",
      "metadata": {
        "id": "LV2ksLt-17PB"
      },
      "source": [
        "from sklearn.model_selection import train_test_split\n",
        "X_train, X_test, y_train, y_test = train_test_split(X, y, test_size = 0.15, random_state = 0)"
      ],
      "execution_count": 50,
      "outputs": []
    },
    {
      "cell_type": "code",
      "metadata": {
        "colab": {
          "base_uri": "https://localhost:8080/"
        },
        "id": "cl3ejson1-e6",
        "outputId": "ce9f938a-5a48-42b1-bfdf-2ed4ded8b41d"
      },
      "source": [
        "print(X_train.shape)\n",
        "print(X_test.shape)"
      ],
      "execution_count": 51,
      "outputs": [
        {
          "output_type": "stream",
          "text": [
            "(6933, 1280)\n",
            "(1224, 1280)\n"
          ],
          "name": "stdout"
        }
      ]
    },
    {
      "cell_type": "code",
      "metadata": {
        "id": "fITXSVX-2Ao3"
      },
      "source": [
        "scaler = StandardScaler()\n",
        "X_train = scaler.fit_transform(X_train)\n",
        "X_test = scaler.transform(X_test)"
      ],
      "execution_count": 53,
      "outputs": []
    },
    {
      "cell_type": "code",
      "metadata": {
        "id": "J9eBU2Z42ErY"
      },
      "source": [
        "X_train = X_train.reshape(6933, 1280,1)\n",
        "X_test = X_test.reshape(1224, 1280, 1)"
      ],
      "execution_count": 54,
      "outputs": []
    },
    {
      "cell_type": "code",
      "metadata": {
        "id": "IATW5oV_2IsJ"
      },
      "source": [
        "epochs = 100\n",
        "model = Sequential()\n",
        "model.add(Conv1D(filters=32, kernel_size=4, activation='relu', input_shape = (1280,1)))\n",
        "model.add(BatchNormalization())\n",
        "model.add(Dropout(0.2))\n",
        "\n",
        "model.add(Conv1D(filters=64, kernel_size=4, activation='relu'))\n",
        "model.add(BatchNormalization())\n",
        "model.add(Dropout(0.5))\n",
        "\n",
        "model.add(Flatten())\n",
        "model.add(Dense(64, activation='relu'))\n",
        "model.add(Dropout(0.5))\n",
        "\n",
        "model.add(Dense(1, activation='sigmoid'))"
      ],
      "execution_count": 55,
      "outputs": []
    },
    {
      "cell_type": "code",
      "metadata": {
        "id": "DIp0FJ2z2UU1"
      },
      "source": [
        "model.compile(optimizer=Adam(lr=0.001), loss = 'binary_crossentropy', metrics=['accuracy'])"
      ],
      "execution_count": 56,
      "outputs": []
    },
    {
      "cell_type": "code",
      "metadata": {
        "colab": {
          "base_uri": "https://localhost:8080/"
        },
        "id": "hYuPfrJQ2Yip",
        "outputId": "6decf91b-c8d0-48b0-dbcb-78f35347c0bf"
      },
      "source": [
        "history = model.fit(X_train, y_train, epochs=epochs, validation_data=(X_test, y_test), verbose=1)"
      ],
      "execution_count": 57,
      "outputs": [
        {
          "output_type": "stream",
          "text": [
            "Epoch 1/100\n",
            "217/217 [==============================] - 3s 11ms/step - loss: 1.4515 - accuracy: 0.6639 - val_loss: 0.6704 - val_accuracy: 0.6593\n",
            "Epoch 2/100\n",
            "217/217 [==============================] - 2s 10ms/step - loss: 0.5686 - accuracy: 0.6749 - val_loss: 0.6061 - val_accuracy: 0.6699\n",
            "Epoch 3/100\n",
            "217/217 [==============================] - 2s 9ms/step - loss: 0.5237 - accuracy: 0.6924 - val_loss: 0.4947 - val_accuracy: 0.6944\n",
            "Epoch 4/100\n",
            "217/217 [==============================] - 2s 10ms/step - loss: 0.5117 - accuracy: 0.6926 - val_loss: 0.4543 - val_accuracy: 0.7026\n",
            "Epoch 5/100\n",
            "217/217 [==============================] - 2s 9ms/step - loss: 0.5080 - accuracy: 0.7029 - val_loss: 0.4596 - val_accuracy: 0.6969\n",
            "Epoch 6/100\n",
            "217/217 [==============================] - 2s 9ms/step - loss: 0.4858 - accuracy: 0.6908 - val_loss: 0.4469 - val_accuracy: 0.6953\n",
            "Epoch 7/100\n",
            "217/217 [==============================] - 2s 9ms/step - loss: 0.4716 - accuracy: 0.6896 - val_loss: 0.4470 - val_accuracy: 0.6985\n",
            "Epoch 8/100\n",
            "217/217 [==============================] - 2s 9ms/step - loss: 0.4644 - accuracy: 0.7026 - val_loss: 0.4290 - val_accuracy: 0.6969\n",
            "Epoch 9/100\n",
            "217/217 [==============================] - 2s 10ms/step - loss: 0.4629 - accuracy: 0.7054 - val_loss: 0.4325 - val_accuracy: 0.8178\n",
            "Epoch 10/100\n",
            "217/217 [==============================] - 2s 10ms/step - loss: 0.4649 - accuracy: 0.7288 - val_loss: 0.5133 - val_accuracy: 0.7729\n",
            "Epoch 11/100\n",
            "217/217 [==============================] - 2s 10ms/step - loss: 0.4545 - accuracy: 0.7503 - val_loss: 0.4350 - val_accuracy: 0.8317\n",
            "Epoch 12/100\n",
            "217/217 [==============================] - 2s 10ms/step - loss: 0.4518 - accuracy: 0.7629 - val_loss: 0.4250 - val_accuracy: 0.8080\n",
            "Epoch 13/100\n",
            "217/217 [==============================] - 2s 10ms/step - loss: 0.4389 - accuracy: 0.7670 - val_loss: 0.4462 - val_accuracy: 0.7819\n",
            "Epoch 14/100\n",
            "217/217 [==============================] - 2s 9ms/step - loss: 0.4381 - accuracy: 0.7562 - val_loss: 0.3999 - val_accuracy: 0.8358\n",
            "Epoch 15/100\n",
            "217/217 [==============================] - 2s 9ms/step - loss: 0.4354 - accuracy: 0.7750 - val_loss: 0.4096 - val_accuracy: 0.8382\n",
            "Epoch 16/100\n",
            "217/217 [==============================] - 2s 9ms/step - loss: 0.4349 - accuracy: 0.7616 - val_loss: 0.3933 - val_accuracy: 0.8431\n",
            "Epoch 17/100\n",
            "217/217 [==============================] - 2s 9ms/step - loss: 0.4192 - accuracy: 0.7737 - val_loss: 0.3984 - val_accuracy: 0.8342\n",
            "Epoch 18/100\n",
            "217/217 [==============================] - 2s 9ms/step - loss: 0.4134 - accuracy: 0.7723 - val_loss: 0.4014 - val_accuracy: 0.8268\n",
            "Epoch 19/100\n",
            "217/217 [==============================] - 2s 9ms/step - loss: 0.4136 - accuracy: 0.7703 - val_loss: 0.3983 - val_accuracy: 0.8350\n",
            "Epoch 20/100\n",
            "217/217 [==============================] - 2s 10ms/step - loss: 0.4065 - accuracy: 0.7741 - val_loss: 0.3948 - val_accuracy: 0.8325\n",
            "Epoch 21/100\n",
            "217/217 [==============================] - 2s 9ms/step - loss: 0.4161 - accuracy: 0.7758 - val_loss: 0.4006 - val_accuracy: 0.8415\n",
            "Epoch 22/100\n",
            "217/217 [==============================] - 2s 10ms/step - loss: 0.4099 - accuracy: 0.7874 - val_loss: 0.3835 - val_accuracy: 0.8546\n",
            "Epoch 23/100\n",
            "217/217 [==============================] - 2s 10ms/step - loss: 0.4130 - accuracy: 0.7763 - val_loss: 0.3868 - val_accuracy: 0.8448\n",
            "Epoch 24/100\n",
            "217/217 [==============================] - 2s 9ms/step - loss: 0.4027 - accuracy: 0.7924 - val_loss: 0.3878 - val_accuracy: 0.8276\n",
            "Epoch 25/100\n",
            "217/217 [==============================] - 2s 9ms/step - loss: 0.3834 - accuracy: 0.7943 - val_loss: 0.4025 - val_accuracy: 0.8415\n",
            "Epoch 26/100\n",
            "217/217 [==============================] - 2s 9ms/step - loss: 0.3840 - accuracy: 0.7883 - val_loss: 0.3711 - val_accuracy: 0.8374\n",
            "Epoch 27/100\n",
            "217/217 [==============================] - 2s 9ms/step - loss: 0.3797 - accuracy: 0.7874 - val_loss: 0.3610 - val_accuracy: 0.8546\n",
            "Epoch 28/100\n",
            "217/217 [==============================] - 2s 9ms/step - loss: 0.3682 - accuracy: 0.7985 - val_loss: 0.3855 - val_accuracy: 0.8480\n",
            "Epoch 29/100\n",
            "217/217 [==============================] - 2s 9ms/step - loss: 0.3830 - accuracy: 0.7832 - val_loss: 0.3855 - val_accuracy: 0.8570\n",
            "Epoch 30/100\n",
            "217/217 [==============================] - 2s 9ms/step - loss: 0.3818 - accuracy: 0.7919 - val_loss: 0.3746 - val_accuracy: 0.8415\n",
            "Epoch 31/100\n",
            "217/217 [==============================] - 2s 9ms/step - loss: 0.3612 - accuracy: 0.7957 - val_loss: 0.3684 - val_accuracy: 0.8521\n",
            "Epoch 32/100\n",
            "217/217 [==============================] - 2s 10ms/step - loss: 0.3844 - accuracy: 0.7952 - val_loss: 0.3830 - val_accuracy: 0.8448\n",
            "Epoch 33/100\n",
            "217/217 [==============================] - 2s 9ms/step - loss: 0.3700 - accuracy: 0.7980 - val_loss: 0.3658 - val_accuracy: 0.8513\n",
            "Epoch 34/100\n",
            "217/217 [==============================] - 2s 9ms/step - loss: 0.3696 - accuracy: 0.7977 - val_loss: 0.3614 - val_accuracy: 0.8587\n",
            "Epoch 35/100\n",
            "217/217 [==============================] - 2s 9ms/step - loss: 0.3514 - accuracy: 0.8078 - val_loss: 0.3580 - val_accuracy: 0.8636\n",
            "Epoch 36/100\n",
            "217/217 [==============================] - 2s 9ms/step - loss: 0.3641 - accuracy: 0.7896 - val_loss: 0.3550 - val_accuracy: 0.8407\n",
            "Epoch 37/100\n",
            "217/217 [==============================] - 2s 9ms/step - loss: 0.3629 - accuracy: 0.7943 - val_loss: 0.3560 - val_accuracy: 0.8570\n",
            "Epoch 38/100\n",
            "217/217 [==============================] - 2s 9ms/step - loss: 0.3613 - accuracy: 0.8047 - val_loss: 0.3508 - val_accuracy: 0.8497\n",
            "Epoch 39/100\n",
            "217/217 [==============================] - 2s 10ms/step - loss: 0.3533 - accuracy: 0.8017 - val_loss: 0.3591 - val_accuracy: 0.8513\n",
            "Epoch 40/100\n",
            "217/217 [==============================] - 2s 10ms/step - loss: 0.3659 - accuracy: 0.7938 - val_loss: 0.3450 - val_accuracy: 0.8529\n",
            "Epoch 41/100\n",
            "217/217 [==============================] - 2s 10ms/step - loss: 0.3409 - accuracy: 0.8109 - val_loss: 0.3665 - val_accuracy: 0.8595\n",
            "Epoch 42/100\n",
            "217/217 [==============================] - 2s 10ms/step - loss: 0.3693 - accuracy: 0.7996 - val_loss: 0.3601 - val_accuracy: 0.8529\n",
            "Epoch 43/100\n",
            "217/217 [==============================] - 2s 10ms/step - loss: 0.3471 - accuracy: 0.8096 - val_loss: 0.3630 - val_accuracy: 0.8611\n",
            "Epoch 44/100\n",
            "217/217 [==============================] - 2s 10ms/step - loss: 0.3479 - accuracy: 0.8020 - val_loss: 0.3620 - val_accuracy: 0.8611\n",
            "Epoch 45/100\n",
            "217/217 [==============================] - 2s 10ms/step - loss: 0.3552 - accuracy: 0.8079 - val_loss: 0.3495 - val_accuracy: 0.8546\n",
            "Epoch 46/100\n",
            "217/217 [==============================] - 2s 10ms/step - loss: 0.3487 - accuracy: 0.8091 - val_loss: 0.3666 - val_accuracy: 0.8538\n",
            "Epoch 47/100\n",
            "217/217 [==============================] - 2s 10ms/step - loss: 0.3698 - accuracy: 0.8004 - val_loss: 0.3505 - val_accuracy: 0.8562\n",
            "Epoch 48/100\n",
            "217/217 [==============================] - 2s 9ms/step - loss: 0.3540 - accuracy: 0.7972 - val_loss: 0.3762 - val_accuracy: 0.8497\n",
            "Epoch 49/100\n",
            "217/217 [==============================] - 2s 10ms/step - loss: 0.3454 - accuracy: 0.8018 - val_loss: 0.3596 - val_accuracy: 0.8636\n",
            "Epoch 50/100\n",
            "217/217 [==============================] - 2s 10ms/step - loss: 0.3318 - accuracy: 0.8165 - val_loss: 0.3428 - val_accuracy: 0.8619\n",
            "Epoch 51/100\n",
            "217/217 [==============================] - 2s 9ms/step - loss: 0.3393 - accuracy: 0.8110 - val_loss: 0.3566 - val_accuracy: 0.8611\n",
            "Epoch 52/100\n",
            "217/217 [==============================] - 2s 9ms/step - loss: 0.3445 - accuracy: 0.8045 - val_loss: 0.3548 - val_accuracy: 0.8480\n",
            "Epoch 53/100\n",
            "217/217 [==============================] - 2s 9ms/step - loss: 0.3434 - accuracy: 0.8056 - val_loss: 0.3649 - val_accuracy: 0.8644\n",
            "Epoch 54/100\n",
            "217/217 [==============================] - 2s 9ms/step - loss: 0.3380 - accuracy: 0.8131 - val_loss: 0.3529 - val_accuracy: 0.8578\n",
            "Epoch 55/100\n",
            "217/217 [==============================] - 2s 9ms/step - loss: 0.3332 - accuracy: 0.8162 - val_loss: 0.3521 - val_accuracy: 0.8636\n",
            "Epoch 56/100\n",
            "217/217 [==============================] - 2s 9ms/step - loss: 0.3314 - accuracy: 0.8154 - val_loss: 0.3618 - val_accuracy: 0.8676\n",
            "Epoch 57/100\n",
            "217/217 [==============================] - 2s 9ms/step - loss: 0.3340 - accuracy: 0.8157 - val_loss: 0.3773 - val_accuracy: 0.8595\n",
            "Epoch 58/100\n",
            "217/217 [==============================] - 2s 10ms/step - loss: 0.3376 - accuracy: 0.8085 - val_loss: 0.4095 - val_accuracy: 0.8480\n",
            "Epoch 59/100\n",
            "217/217 [==============================] - 2s 10ms/step - loss: 0.3589 - accuracy: 0.7936 - val_loss: 0.3500 - val_accuracy: 0.8603\n",
            "Epoch 60/100\n",
            "217/217 [==============================] - 2s 10ms/step - loss: 0.3426 - accuracy: 0.8046 - val_loss: 0.3493 - val_accuracy: 0.8652\n",
            "Epoch 61/100\n",
            "217/217 [==============================] - 2s 10ms/step - loss: 0.3423 - accuracy: 0.8004 - val_loss: 0.3620 - val_accuracy: 0.8546\n",
            "Epoch 62/100\n",
            "217/217 [==============================] - 2s 10ms/step - loss: 0.3300 - accuracy: 0.8219 - val_loss: 0.3521 - val_accuracy: 0.8693\n",
            "Epoch 63/100\n",
            "217/217 [==============================] - 2s 10ms/step - loss: 0.3311 - accuracy: 0.8166 - val_loss: 0.3630 - val_accuracy: 0.8701\n",
            "Epoch 64/100\n",
            "217/217 [==============================] - 2s 10ms/step - loss: 0.3348 - accuracy: 0.8157 - val_loss: 0.3402 - val_accuracy: 0.8734\n",
            "Epoch 65/100\n",
            "217/217 [==============================] - 2s 10ms/step - loss: 0.3261 - accuracy: 0.8239 - val_loss: 0.3541 - val_accuracy: 0.8603\n",
            "Epoch 66/100\n",
            "217/217 [==============================] - 2s 10ms/step - loss: 0.3277 - accuracy: 0.8147 - val_loss: 0.3675 - val_accuracy: 0.8497\n",
            "Epoch 67/100\n",
            "217/217 [==============================] - 2s 10ms/step - loss: 0.3426 - accuracy: 0.8037 - val_loss: 0.3903 - val_accuracy: 0.8603\n",
            "Epoch 68/100\n",
            "217/217 [==============================] - 2s 10ms/step - loss: 0.3335 - accuracy: 0.8159 - val_loss: 0.4047 - val_accuracy: 0.8587\n",
            "Epoch 69/100\n",
            "217/217 [==============================] - 2s 10ms/step - loss: 0.3436 - accuracy: 0.8102 - val_loss: 0.3722 - val_accuracy: 0.8725\n",
            "Epoch 70/100\n",
            "217/217 [==============================] - 2s 10ms/step - loss: 0.3345 - accuracy: 0.8164 - val_loss: 0.3849 - val_accuracy: 0.8652\n",
            "Epoch 71/100\n",
            "217/217 [==============================] - 2s 10ms/step - loss: 0.3349 - accuracy: 0.8138 - val_loss: 0.3535 - val_accuracy: 0.8603\n",
            "Epoch 72/100\n",
            "217/217 [==============================] - 2s 10ms/step - loss: 0.3268 - accuracy: 0.8139 - val_loss: 0.3432 - val_accuracy: 0.8652\n",
            "Epoch 73/100\n",
            "217/217 [==============================] - 2s 9ms/step - loss: 0.3346 - accuracy: 0.8172 - val_loss: 0.3603 - val_accuracy: 0.8431\n",
            "Epoch 74/100\n",
            "217/217 [==============================] - 2s 10ms/step - loss: 0.3315 - accuracy: 0.8101 - val_loss: 0.3666 - val_accuracy: 0.8529\n",
            "Epoch 75/100\n",
            "217/217 [==============================] - 2s 10ms/step - loss: 0.3387 - accuracy: 0.8059 - val_loss: 0.3472 - val_accuracy: 0.8619\n",
            "Epoch 76/100\n",
            "217/217 [==============================] - 2s 9ms/step - loss: 0.3409 - accuracy: 0.8118 - val_loss: 0.3420 - val_accuracy: 0.8636\n",
            "Epoch 77/100\n",
            "217/217 [==============================] - 2s 10ms/step - loss: 0.3217 - accuracy: 0.8182 - val_loss: 0.3693 - val_accuracy: 0.8595\n",
            "Epoch 78/100\n",
            "217/217 [==============================] - 2s 9ms/step - loss: 0.3340 - accuracy: 0.8108 - val_loss: 0.3572 - val_accuracy: 0.8685\n",
            "Epoch 79/100\n",
            "217/217 [==============================] - 2s 9ms/step - loss: 0.3253 - accuracy: 0.8188 - val_loss: 0.3407 - val_accuracy: 0.8660\n",
            "Epoch 80/100\n",
            "217/217 [==============================] - 2s 10ms/step - loss: 0.3229 - accuracy: 0.8200 - val_loss: 0.3471 - val_accuracy: 0.8546\n",
            "Epoch 81/100\n",
            "217/217 [==============================] - 2s 10ms/step - loss: 0.3331 - accuracy: 0.8138 - val_loss: 0.3591 - val_accuracy: 0.8652\n",
            "Epoch 82/100\n",
            "217/217 [==============================] - 2s 9ms/step - loss: 0.3252 - accuracy: 0.8190 - val_loss: 0.3456 - val_accuracy: 0.8660\n",
            "Epoch 83/100\n",
            "217/217 [==============================] - 2s 10ms/step - loss: 0.3321 - accuracy: 0.8153 - val_loss: 0.3459 - val_accuracy: 0.8652\n",
            "Epoch 84/100\n",
            "217/217 [==============================] - 2s 10ms/step - loss: 0.3302 - accuracy: 0.8132 - val_loss: 0.3395 - val_accuracy: 0.8603\n",
            "Epoch 85/100\n",
            "217/217 [==============================] - 2s 9ms/step - loss: 0.3336 - accuracy: 0.8102 - val_loss: 0.3406 - val_accuracy: 0.8456\n",
            "Epoch 86/100\n",
            "217/217 [==============================] - 2s 10ms/step - loss: 0.3280 - accuracy: 0.8169 - val_loss: 0.3403 - val_accuracy: 0.8521\n",
            "Epoch 87/100\n",
            "217/217 [==============================] - 2s 9ms/step - loss: 0.3166 - accuracy: 0.8289 - val_loss: 0.3406 - val_accuracy: 0.8562\n",
            "Epoch 88/100\n",
            "217/217 [==============================] - 2s 9ms/step - loss: 0.3284 - accuracy: 0.8218 - val_loss: 0.3314 - val_accuracy: 0.8734\n",
            "Epoch 89/100\n",
            "217/217 [==============================] - 2s 9ms/step - loss: 0.3318 - accuracy: 0.8149 - val_loss: 0.3511 - val_accuracy: 0.8578\n",
            "Epoch 90/100\n",
            "217/217 [==============================] - 2s 9ms/step - loss: 0.3208 - accuracy: 0.8223 - val_loss: 0.3608 - val_accuracy: 0.8636\n",
            "Epoch 91/100\n",
            "217/217 [==============================] - 2s 9ms/step - loss: 0.3374 - accuracy: 0.8069 - val_loss: 0.3615 - val_accuracy: 0.8676\n",
            "Epoch 92/100\n",
            "217/217 [==============================] - 2s 9ms/step - loss: 0.3124 - accuracy: 0.8309 - val_loss: 0.3601 - val_accuracy: 0.8464\n",
            "Epoch 93/100\n",
            "217/217 [==============================] - 2s 10ms/step - loss: 0.3137 - accuracy: 0.8249 - val_loss: 0.3617 - val_accuracy: 0.8685\n",
            "Epoch 94/100\n",
            "217/217 [==============================] - 2s 10ms/step - loss: 0.3168 - accuracy: 0.8321 - val_loss: 0.3621 - val_accuracy: 0.8685\n",
            "Epoch 95/100\n",
            "217/217 [==============================] - 2s 10ms/step - loss: 0.3215 - accuracy: 0.8237 - val_loss: 0.3681 - val_accuracy: 0.8750\n",
            "Epoch 96/100\n",
            "217/217 [==============================] - 2s 10ms/step - loss: 0.3136 - accuracy: 0.8287 - val_loss: 0.3530 - val_accuracy: 0.8570\n",
            "Epoch 97/100\n",
            "217/217 [==============================] - 2s 9ms/step - loss: 0.3118 - accuracy: 0.8341 - val_loss: 0.3627 - val_accuracy: 0.8668\n",
            "Epoch 98/100\n",
            "217/217 [==============================] - 2s 10ms/step - loss: 0.3103 - accuracy: 0.8390 - val_loss: 0.3526 - val_accuracy: 0.8546\n",
            "Epoch 99/100\n",
            "217/217 [==============================] - 2s 10ms/step - loss: 0.3271 - accuracy: 0.8229 - val_loss: 0.3567 - val_accuracy: 0.8611\n",
            "Epoch 100/100\n",
            "217/217 [==============================] - 2s 10ms/step - loss: 0.3082 - accuracy: 0.8357 - val_loss: 0.3617 - val_accuracy: 0.8685\n"
          ],
          "name": "stdout"
        }
      ]
    },
    {
      "cell_type": "code",
      "metadata": {
        "colab": {
          "base_uri": "https://localhost:8080/"
        },
        "id": "ZzsBg48B2buM",
        "outputId": "ae0c7c40-ce4c-4ca7-b603-347f119608d6"
      },
      "source": [
        "#y_pred = model.predict(X_train).ravel()\n",
        "from sklearn.metrics import roc_curve\n",
        "y_pred_cnn = model.predict(X_test).ravel()\n",
        "fpr_4, tpr_4, thresholds = roc_curve(y_test, y_pred_cnn)\n",
        "from sklearn.metrics import auc\n",
        "auc_score4 = auc(fpr_4, tpr_4)\n",
        "auc_score4"
      ],
      "execution_count": 58,
      "outputs": [
        {
          "output_type": "execute_result",
          "data": {
            "text/plain": [
              "0.9307465647950723"
            ]
          },
          "metadata": {
            "tags": []
          },
          "execution_count": 58
        }
      ]
    },
    {
      "cell_type": "code",
      "metadata": {
        "id": "IYAaCB98BMOw"
      },
      "source": [
        "#Split data into independent (X) and dependent(Y) columns\n",
        "\n",
        "Y = df['Target'].values\n",
        "X = df.drop('Target', axis=1).values"
      ],
      "execution_count": 59,
      "outputs": []
    },
    {
      "cell_type": "code",
      "metadata": {
        "id": "s-oUVEa_BSog"
      },
      "source": [
        "from sklearn.model_selection import train_test_split\n",
        "X_train, X_test, y_train, y_test = train_test_split(X, Y, test_size = 0.20, random_state = 0)"
      ],
      "execution_count": 60,
      "outputs": []
    },
    {
      "cell_type": "code",
      "metadata": {
        "id": "TnYenLFJBXYF"
      },
      "source": [
        "### Feature scaling\n",
        "from sklearn.preprocessing import StandardScaler\n",
        "sc = StandardScaler()\n",
        "X_train = sc.fit_transform(X_train)\n",
        "X_test = sc.transform(X_test)"
      ],
      "execution_count": 61,
      "outputs": []
    },
    {
      "cell_type": "code",
      "metadata": {
        "id": "0hR1JE1dAATP"
      },
      "source": [
        "from sklearn.svm import SVC\n",
        "model2 = SVC(kernel = 'linear',probability=True, random_state = 0)\n"
      ],
      "execution_count": 62,
      "outputs": []
    },
    {
      "cell_type": "code",
      "metadata": {
        "id": "oWnRg8Tu36vz"
      },
      "source": [
        "from sklearn.neighbors import KNeighborsClassifier\n",
        "from xgboost import XGBClassifier\n",
        "from sklearn.metrics import roc_auc_score\n",
        "\n",
        "model1 = KNeighborsClassifier(n_neighbors = 5, metric = 'minkowski', p = 2)\n",
        "model1.fit(X_train, y_train)\n",
        "\n",
        "\n",
        "model2.fit(X_train, y_train)\n",
        "\n",
        "model3 = XGBClassifier(random_state=0)\n",
        "model3.fit(X_train, y_train)\n",
        "\n",
        "# predict probabilities\n",
        "pred_prob1 = model1.predict_proba(X_test)\n",
        "pred_prob2 = model2.predict_proba(X_test)\n",
        "pred_prob3 = model3.predict_proba(X_test)\n",
        "\n",
        "from sklearn.metrics import roc_curve\n",
        "\n",
        "# roc curve for models\n",
        "fpr_1, tpr_1, thresh1 = roc_curve(y_test, pred_prob1[:,1], pos_label=1)\n",
        "fpr_2, tpr_2, thresh2 = roc_curve(y_test, pred_prob2[:,1], pos_label=1)\n",
        "fpr_3, tpr_3, thresh3 = roc_curve(y_test, pred_prob3[:,1], pos_label=1)\n",
        "\n",
        "# auc scores\n",
        "auc_score1 = roc_auc_score(y_test, pred_prob1[:,1])\n",
        "auc_score2 = roc_auc_score(y_test, pred_prob2[:,1])\n",
        "auc_score3 = roc_auc_score(y_test, pred_prob3[:,1])\n"
      ],
      "execution_count": 63,
      "outputs": []
    },
    {
      "cell_type": "code",
      "metadata": {
        "id": "OtSI8kLdEGWp"
      },
      "source": [
        "auc_score1 = 89.20\n",
        "auc_score2 = 85.64\n",
        "auc_scor3 = 90.55\n",
        "auc_score4=91.34"
      ],
      "execution_count": 64,
      "outputs": []
    },
    {
      "cell_type": "code",
      "metadata": {
        "id": "raeKUTjNA5eN",
        "outputId": "af72f249-8aa6-4c85-8f36-e1aa1d9a31fb",
        "colab": {
          "base_uri": "https://localhost:8080/",
          "height": 422
        }
      },
      "source": [
        "sns.set_style(\"white\")\n",
        "plt.figure(figsize=(8,6))\n",
        "\n",
        "plt.plot(fpr_1,tpr_1, color = \"green\", label = \"KNN - %0.2f \" %auc_score1, lw = 5)\n",
        "plt.plot(fpr_2,tpr_2, color = \"orange\", label = \"SVM - %0.2f \" %auc_score2, lw = 5)\n",
        "plt.plot(fpr_3,tpr_3, color = \"red\", label = \"XGBoost - %0.2f \" %auc_score3, lw = 5)\n",
        "plt.plot(fpr_4,tpr_4, color = \"blue\", label = \"Convolutional Neural Network - %0.2f \" %auc_score4, lw = 5)\n",
        "\n",
        "plt.plot([0,1], [0,1], color = 'purple', lw=2, linestyle='--')\n",
        "plt.xlabel('False Positive Rate', fontsize = 19)\n",
        "plt.ylabel('True Positive Rate', fontsize=19)\n",
        "plt.title('ENZYME - A+X', fontsize=22)\n",
        "plt.legend(loc = \"lower right\", fontsize=14)\n",
        "\n",
        "plt.xticks(fontsize=13)\n",
        "plt.yticks(fontsize=13)\n",
        "plt.savefig('ROC_all',dpi=300)\n",
        "plt.show()"
      ],
      "execution_count": 65,
      "outputs": [
        {
          "output_type": "display_data",
          "data": {
            "image/png": "[encoded data removed]",
            "text/plain": [
              "<Figure size 576x432 with 1 Axes>"
            ]
          },
          "metadata": {
            "tags": []
          }
        }
      ]
    },
    {
      "cell_type": "code",
      "metadata": {
        "id": "89jFBvV3DrjZ"
      },
      "source": [
        ""
      ],
      "execution_count": null,
      "outputs": []
    }
  ]
}