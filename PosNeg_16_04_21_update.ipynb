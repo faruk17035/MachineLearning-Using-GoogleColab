{
  "nbformat": 4,
  "nbformat_minor": 0,
  "metadata": {
    "colab": {
      "name": "PosNeg_16-04-21 update.ipynb",
      "provenance": [],
      "authorship_tag": "ABX9TyNAfsduFaVeC4r5ZRUBHmuH",
      "include_colab_link": true
    },
    "kernelspec": {
      "name": "python3",
      "display_name": "Python 3"
    },
    "language_info": {
      "name": "python"
    },
    "accelerator": "GPU"
  },
  "cells": [
    {
      "cell_type": "markdown",
      "metadata": {
        "id": "view-in-github",
        "colab_type": "text"
      },
      "source": [
        "<a href=\"https://colab.research.google.com/github/faruk17035/MachineLearning-Using-GoogleColab/blob/main/PosNeg_16_04_21_update.ipynb\" target=\"_parent\"><img src=\"https://colab.research.google.com/assets/colab-badge.svg\" alt=\"Open In Colab\"/></a>"
      ]
    },
    {
      "cell_type": "code",
      "metadata": {
        "id": "k1IZEB0b3puo"
      },
      "source": [
        "import numpy as np\n",
        "import matplotlib.pyplot as plt\n",
        "import pandas as pd"
      ],
      "execution_count": 1,
      "outputs": []
    },
    {
      "cell_type": "code",
      "metadata": {
        "colab": {
          "base_uri": "https://localhost:8080/"
        },
        "id": "ngQVlN413_dW",
        "outputId": "64c36e61-56e5-44b2-98c8-ce0ca6404dbc"
      },
      "source": [
        "from google.colab import drive \n",
        "drive.mount('/content/gdrive')"
      ],
      "execution_count": 2,
      "outputs": [
        {
          "output_type": "stream",
          "text": [
            "Mounted at /content/gdrive\n"
          ],
          "name": "stdout"
        }
      ]
    },
    {
      "cell_type": "code",
      "metadata": {
        "colab": {
          "base_uri": "https://localhost:8080/"
        },
        "id": "Fp4yVfcm4CiT",
        "outputId": "d758b2d4-5677-4846-9a60-5c9fe7b1d050"
      },
      "source": [
        "import pandas as pd\n",
        "from pandas import read_excel\n",
        "file_name = '/content/gdrive/MyDrive/HasanSirPosNeg.csv' \n",
        "df = pd.read_csv(file_name, index_col=0)\n",
        "print(df.head()) # print the first 5 rows"
      ],
      "execution_count": 3,
      "outputs": [
        {
          "output_type": "stream",
          "text": [
            "          AC     AD     AE     AF     AG  ...     YT     YV     YW     YY  Target\n",
            "AA                                        ...                                    \n",
            "0.005  0.001  0.006  0.006  0.004  0.002  ...  0.001  0.002  0.000  0.002       1\n",
            "0.004  0.000  0.004  0.004  0.002  0.004  ...  0.000  0.004  0.000  0.000       1\n",
            "0.008  0.000  0.004  0.013  0.000  0.000  ...  0.000  0.004  0.000  0.004       1\n",
            "0.005  0.002  0.005  0.000  0.005  0.003  ...  0.002  0.000  0.000  0.002       1\n",
            "0.008  0.003  0.001  0.010  0.001  0.003  ...  0.001  0.001  0.001  0.001       1\n",
            "\n",
            "[5 rows x 400 columns]\n"
          ],
          "name": "stdout"
        }
      ]
    },
    {
      "cell_type": "code",
      "metadata": {
        "id": "VK3scHIq4byq"
      },
      "source": [
        "#Split data into independent (X) and dependent(Y) columns\n",
        "\n",
        "y = df['Target'].values\n",
        "X = df.drop('Target', axis=1).values"
      ],
      "execution_count": 4,
      "outputs": []
    },
    {
      "cell_type": "code",
      "metadata": {
        "id": "hBUc5aIc4gJv"
      },
      "source": [
        "from sklearn.model_selection import train_test_split\n",
        "X_train, X_test, y_train, y_test = train_test_split(X, y, test_size = 0.20, random_state = 20)"
      ],
      "execution_count": 5,
      "outputs": []
    },
    {
      "cell_type": "code",
      "metadata": {
        "colab": {
          "base_uri": "https://localhost:8080/"
        },
        "id": "nhMRRP_A4iul",
        "outputId": "34545767-d8b5-4dc6-f9c6-be96c5b6f525"
      },
      "source": [
        "print(X_train.shape)\n",
        "print(X_test.shape)"
      ],
      "execution_count": 6,
      "outputs": [
        {
          "output_type": "stream",
          "text": [
            "(7200, 399)\n",
            "(1800, 399)\n"
          ],
          "name": "stdout"
        }
      ]
    },
    {
      "cell_type": "code",
      "metadata": {
        "id": "5YccvkR44lid"
      },
      "source": [
        "from sklearn import datasets, metrics\n",
        "from sklearn.model_selection import train_test_split\n",
        "from sklearn.preprocessing import StandardScaler\n",
        "scaler = StandardScaler()\n",
        "X_train = scaler.fit_transform(X_train)\n",
        "X_test = scaler.transform(X_test)"
      ],
      "execution_count": 7,
      "outputs": []
    },
    {
      "cell_type": "code",
      "metadata": {
        "id": "D4gWkiqB4o4g"
      },
      "source": [
        "X_train = X_train.reshape(7200, 399,1)\n",
        "X_test = X_test.reshape(1800, 399, 1)"
      ],
      "execution_count": 8,
      "outputs": []
    },
    {
      "cell_type": "code",
      "metadata": {
        "id": "49pgYYvA4r6A"
      },
      "source": [
        "import numpy as np\n",
        "import pandas as pd\n",
        "import tensorflow as tf\n",
        "from tensorflow import keras\n",
        "from tensorflow.keras import Sequential\n",
        "from tensorflow.keras.layers import Flatten, Dense, Dropout, BatchNormalization\n",
        "from tensorflow.keras.layers import Conv1D, MaxPool1D\n",
        "\n",
        "from tensorflow.keras.optimizers import Adam\n",
        "\n",
        "import  seaborn as sns\n",
        "import matplotlib.pyplot as plt\n",
        "from sklearn import datasets, metrics\n",
        "from sklearn.model_selection import train_test_split\n",
        "from sklearn.preprocessing import StandardScaler"
      ],
      "execution_count": 9,
      "outputs": []
    },
    {
      "cell_type": "code",
      "metadata": {
        "id": "gsAwL5qr4vSV"
      },
      "source": [
        "epochs = 100\n",
        "model = Sequential()\n",
        "model.add(Conv1D(filters=64, kernel_size=4, activation='relu', input_shape = (399,1)))\n",
        "model.add(BatchNormalization())\n",
        "model.add(Dropout(0.2))\n",
        "\n",
        "model.add(Conv1D(filters=128, kernel_size=4, activation='relu'))\n",
        "model.add(BatchNormalization())\n",
        "model.add(Dropout(0.5))\n",
        "\n",
        "model.add(Flatten())\n",
        "model.add(Dense(64, activation='relu'))\n",
        "model.add(Dropout(0.5))\n",
        "\n",
        "model.add(Dense(1, activation='sigmoid'))"
      ],
      "execution_count": 10,
      "outputs": []
    },
    {
      "cell_type": "code",
      "metadata": {
        "colab": {
          "base_uri": "https://localhost:8080/"
        },
        "id": "D6gMlfuj40gg",
        "outputId": "912c984f-7c26-4e85-d178-f4a9bbb7aab1"
      },
      "source": [
        "model.summary()"
      ],
      "execution_count": 11,
      "outputs": [
        {
          "output_type": "stream",
          "text": [
            "Model: \"sequential\"\n",
            "_________________________________________________________________\n",
            "Layer (type)                 Output Shape              Param #   \n",
            "=================================================================\n",
            "conv1d (Conv1D)              (None, 396, 64)           320       \n",
            "_________________________________________________________________\n",
            "batch_normalization (BatchNo (None, 396, 64)           256       \n",
            "_________________________________________________________________\n",
            "dropout (Dropout)            (None, 396, 64)           0         \n",
            "_________________________________________________________________\n",
            "conv1d_1 (Conv1D)            (None, 393, 128)          32896     \n",
            "_________________________________________________________________\n",
            "batch_normalization_1 (Batch (None, 393, 128)          512       \n",
            "_________________________________________________________________\n",
            "dropout_1 (Dropout)          (None, 393, 128)          0         \n",
            "_________________________________________________________________\n",
            "flatten (Flatten)            (None, 50304)             0         \n",
            "_________________________________________________________________\n",
            "dense (Dense)                (None, 64)                3219520   \n",
            "_________________________________________________________________\n",
            "dropout_2 (Dropout)          (None, 64)                0         \n",
            "_________________________________________________________________\n",
            "dense_1 (Dense)              (None, 1)                 65        \n",
            "=================================================================\n",
            "Total params: 3,253,569\n",
            "Trainable params: 3,253,185\n",
            "Non-trainable params: 384\n",
            "_________________________________________________________________\n"
          ],
          "name": "stdout"
        }
      ]
    },
    {
      "cell_type": "code",
      "metadata": {
        "id": "_f_DCE-l42e0"
      },
      "source": [
        "model.compile(optimizer=Adam(lr=0.00001), loss = 'binary_crossentropy', metrics=['accuracy'])"
      ],
      "execution_count": 12,
      "outputs": []
    },
    {
      "cell_type": "code",
      "metadata": {
        "colab": {
          "base_uri": "https://localhost:8080/"
        },
        "id": "1xWh8U5I450n",
        "outputId": "17ecba7c-4884-4820-9a0d-17bee6486d2a"
      },
      "source": [
        "history = model.fit(X_train, y_train, epochs=epochs, validation_data=(X_test, y_test), verbose=1)"
      ],
      "execution_count": 13,
      "outputs": [
        {
          "output_type": "stream",
          "text": [
            "Epoch 1/100\n",
            "225/225 [==============================] - 35s 9ms/step - loss: 1.0759 - accuracy: 0.5648 - val_loss: 0.7200 - val_accuracy: 0.5378\n",
            "Epoch 2/100\n",
            "225/225 [==============================] - 1s 7ms/step - loss: 0.8703 - accuracy: 0.6337 - val_loss: 0.6505 - val_accuracy: 0.6356\n",
            "Epoch 3/100\n",
            "225/225 [==============================] - 1s 7ms/step - loss: 0.7614 - accuracy: 0.6654 - val_loss: 0.5723 - val_accuracy: 0.7000\n",
            "Epoch 4/100\n",
            "225/225 [==============================] - 1s 7ms/step - loss: 0.7469 - accuracy: 0.6687 - val_loss: 0.5499 - val_accuracy: 0.7106\n",
            "Epoch 5/100\n",
            "225/225 [==============================] - 1s 7ms/step - loss: 0.6920 - accuracy: 0.6842 - val_loss: 0.5503 - val_accuracy: 0.7067\n",
            "Epoch 6/100\n",
            "225/225 [==============================] - 1s 7ms/step - loss: 0.6459 - accuracy: 0.7137 - val_loss: 0.5388 - val_accuracy: 0.7267\n",
            "Epoch 7/100\n",
            "225/225 [==============================] - 1s 7ms/step - loss: 0.6372 - accuracy: 0.6954 - val_loss: 0.5342 - val_accuracy: 0.7200\n",
            "Epoch 8/100\n",
            "225/225 [==============================] - 1s 7ms/step - loss: 0.6236 - accuracy: 0.7057 - val_loss: 0.5325 - val_accuracy: 0.7206\n",
            "Epoch 9/100\n",
            "225/225 [==============================] - 1s 7ms/step - loss: 0.5603 - accuracy: 0.7286 - val_loss: 0.5289 - val_accuracy: 0.7211\n",
            "Epoch 10/100\n",
            "225/225 [==============================] - 1s 7ms/step - loss: 0.5682 - accuracy: 0.7402 - val_loss: 0.5285 - val_accuracy: 0.7244\n",
            "Epoch 11/100\n",
            "225/225 [==============================] - 1s 7ms/step - loss: 0.5478 - accuracy: 0.7370 - val_loss: 0.5252 - val_accuracy: 0.7211\n",
            "Epoch 12/100\n",
            "225/225 [==============================] - 1s 7ms/step - loss: 0.5318 - accuracy: 0.7450 - val_loss: 0.5245 - val_accuracy: 0.7233\n",
            "Epoch 13/100\n",
            "225/225 [==============================] - 1s 7ms/step - loss: 0.5052 - accuracy: 0.7589 - val_loss: 0.5223 - val_accuracy: 0.7256\n",
            "Epoch 14/100\n",
            "225/225 [==============================] - 1s 7ms/step - loss: 0.5081 - accuracy: 0.7487 - val_loss: 0.5221 - val_accuracy: 0.7211\n",
            "Epoch 15/100\n",
            "225/225 [==============================] - 1s 7ms/step - loss: 0.4900 - accuracy: 0.7515 - val_loss: 0.5180 - val_accuracy: 0.7356\n",
            "Epoch 16/100\n",
            "225/225 [==============================] - 1s 7ms/step - loss: 0.4780 - accuracy: 0.7720 - val_loss: 0.5150 - val_accuracy: 0.7311\n",
            "Epoch 17/100\n",
            "225/225 [==============================] - 1s 7ms/step - loss: 0.4814 - accuracy: 0.7603 - val_loss: 0.5146 - val_accuracy: 0.7322\n",
            "Epoch 18/100\n",
            "225/225 [==============================] - 1s 7ms/step - loss: 0.4670 - accuracy: 0.7733 - val_loss: 0.5141 - val_accuracy: 0.7356\n",
            "Epoch 19/100\n",
            "225/225 [==============================] - 1s 7ms/step - loss: 0.4661 - accuracy: 0.7715 - val_loss: 0.5180 - val_accuracy: 0.7350\n",
            "Epoch 20/100\n",
            "225/225 [==============================] - 1s 7ms/step - loss: 0.4496 - accuracy: 0.7806 - val_loss: 0.5168 - val_accuracy: 0.7294\n",
            "Epoch 21/100\n",
            "225/225 [==============================] - 1s 7ms/step - loss: 0.4428 - accuracy: 0.7815 - val_loss: 0.5171 - val_accuracy: 0.7272\n",
            "Epoch 22/100\n",
            "225/225 [==============================] - 1s 7ms/step - loss: 0.4415 - accuracy: 0.7891 - val_loss: 0.5158 - val_accuracy: 0.7294\n",
            "Epoch 23/100\n",
            "225/225 [==============================] - 1s 7ms/step - loss: 0.4332 - accuracy: 0.7911 - val_loss: 0.5155 - val_accuracy: 0.7367\n",
            "Epoch 24/100\n",
            "225/225 [==============================] - 2s 7ms/step - loss: 0.4131 - accuracy: 0.8024 - val_loss: 0.5176 - val_accuracy: 0.7333\n",
            "Epoch 25/100\n",
            "225/225 [==============================] - 1s 7ms/step - loss: 0.4214 - accuracy: 0.7899 - val_loss: 0.5175 - val_accuracy: 0.7372\n",
            "Epoch 26/100\n",
            "225/225 [==============================] - 1s 7ms/step - loss: 0.4069 - accuracy: 0.8066 - val_loss: 0.5169 - val_accuracy: 0.7389\n",
            "Epoch 27/100\n",
            "225/225 [==============================] - 2s 7ms/step - loss: 0.4024 - accuracy: 0.8078 - val_loss: 0.5151 - val_accuracy: 0.7356\n",
            "Epoch 28/100\n",
            "225/225 [==============================] - 1s 7ms/step - loss: 0.4109 - accuracy: 0.8030 - val_loss: 0.5156 - val_accuracy: 0.7356\n",
            "Epoch 29/100\n",
            "225/225 [==============================] - 2s 7ms/step - loss: 0.3999 - accuracy: 0.8112 - val_loss: 0.5187 - val_accuracy: 0.7333\n",
            "Epoch 30/100\n",
            "225/225 [==============================] - 1s 7ms/step - loss: 0.3886 - accuracy: 0.8180 - val_loss: 0.5186 - val_accuracy: 0.7356\n",
            "Epoch 31/100\n",
            "225/225 [==============================] - 1s 7ms/step - loss: 0.3845 - accuracy: 0.8212 - val_loss: 0.5173 - val_accuracy: 0.7361\n",
            "Epoch 32/100\n",
            "225/225 [==============================] - 2s 7ms/step - loss: 0.3677 - accuracy: 0.8229 - val_loss: 0.5144 - val_accuracy: 0.7417\n",
            "Epoch 33/100\n",
            "225/225 [==============================] - 2s 7ms/step - loss: 0.3696 - accuracy: 0.8259 - val_loss: 0.5146 - val_accuracy: 0.7456\n",
            "Epoch 34/100\n",
            "225/225 [==============================] - 1s 7ms/step - loss: 0.3688 - accuracy: 0.8258 - val_loss: 0.5152 - val_accuracy: 0.7450\n",
            "Epoch 35/100\n",
            "225/225 [==============================] - 1s 7ms/step - loss: 0.3694 - accuracy: 0.8265 - val_loss: 0.5206 - val_accuracy: 0.7406\n",
            "Epoch 36/100\n",
            "225/225 [==============================] - 2s 7ms/step - loss: 0.3409 - accuracy: 0.8375 - val_loss: 0.5210 - val_accuracy: 0.7411\n",
            "Epoch 37/100\n",
            "225/225 [==============================] - 1s 7ms/step - loss: 0.3447 - accuracy: 0.8392 - val_loss: 0.5183 - val_accuracy: 0.7444\n",
            "Epoch 38/100\n",
            "225/225 [==============================] - 2s 7ms/step - loss: 0.3351 - accuracy: 0.8479 - val_loss: 0.5184 - val_accuracy: 0.7450\n",
            "Epoch 39/100\n",
            "225/225 [==============================] - 1s 7ms/step - loss: 0.3302 - accuracy: 0.8427 - val_loss: 0.5235 - val_accuracy: 0.7433\n",
            "Epoch 40/100\n",
            "225/225 [==============================] - 2s 7ms/step - loss: 0.3330 - accuracy: 0.8474 - val_loss: 0.5248 - val_accuracy: 0.7461\n",
            "Epoch 41/100\n",
            "225/225 [==============================] - 2s 7ms/step - loss: 0.3232 - accuracy: 0.8523 - val_loss: 0.5239 - val_accuracy: 0.7439\n",
            "Epoch 42/100\n",
            "225/225 [==============================] - 1s 7ms/step - loss: 0.3162 - accuracy: 0.8567 - val_loss: 0.5235 - val_accuracy: 0.7406\n",
            "Epoch 43/100\n",
            "225/225 [==============================] - 2s 7ms/step - loss: 0.3177 - accuracy: 0.8547 - val_loss: 0.5222 - val_accuracy: 0.7450\n",
            "Epoch 44/100\n",
            "225/225 [==============================] - 2s 7ms/step - loss: 0.3068 - accuracy: 0.8658 - val_loss: 0.5281 - val_accuracy: 0.7439\n",
            "Epoch 45/100\n",
            "225/225 [==============================] - 1s 7ms/step - loss: 0.2996 - accuracy: 0.8652 - val_loss: 0.5299 - val_accuracy: 0.7428\n",
            "Epoch 46/100\n",
            "225/225 [==============================] - 1s 7ms/step - loss: 0.2975 - accuracy: 0.8674 - val_loss: 0.5332 - val_accuracy: 0.7456\n",
            "Epoch 47/100\n",
            "225/225 [==============================] - 2s 7ms/step - loss: 0.3091 - accuracy: 0.8602 - val_loss: 0.5352 - val_accuracy: 0.7439\n",
            "Epoch 48/100\n",
            "225/225 [==============================] - 1s 7ms/step - loss: 0.2953 - accuracy: 0.8693 - val_loss: 0.5349 - val_accuracy: 0.7444\n",
            "Epoch 49/100\n",
            "225/225 [==============================] - 1s 7ms/step - loss: 0.2825 - accuracy: 0.8800 - val_loss: 0.5361 - val_accuracy: 0.7433\n",
            "Epoch 50/100\n",
            "225/225 [==============================] - 2s 7ms/step - loss: 0.2777 - accuracy: 0.8795 - val_loss: 0.5374 - val_accuracy: 0.7428\n",
            "Epoch 51/100\n",
            "225/225 [==============================] - 2s 7ms/step - loss: 0.2848 - accuracy: 0.8756 - val_loss: 0.5381 - val_accuracy: 0.7428\n",
            "Epoch 52/100\n",
            "225/225 [==============================] - 1s 7ms/step - loss: 0.2772 - accuracy: 0.8823 - val_loss: 0.5431 - val_accuracy: 0.7350\n",
            "Epoch 53/100\n",
            "225/225 [==============================] - 2s 7ms/step - loss: 0.2724 - accuracy: 0.8808 - val_loss: 0.5446 - val_accuracy: 0.7389\n",
            "Epoch 54/100\n",
            "225/225 [==============================] - 2s 7ms/step - loss: 0.2609 - accuracy: 0.8863 - val_loss: 0.5462 - val_accuracy: 0.7383\n",
            "Epoch 55/100\n",
            "225/225 [==============================] - 2s 7ms/step - loss: 0.2610 - accuracy: 0.8917 - val_loss: 0.5485 - val_accuracy: 0.7339\n",
            "Epoch 56/100\n",
            "225/225 [==============================] - 1s 7ms/step - loss: 0.2589 - accuracy: 0.8917 - val_loss: 0.5513 - val_accuracy: 0.7333\n",
            "Epoch 57/100\n",
            "225/225 [==============================] - 2s 7ms/step - loss: 0.2509 - accuracy: 0.8900 - val_loss: 0.5518 - val_accuracy: 0.7372\n",
            "Epoch 58/100\n",
            "225/225 [==============================] - 1s 7ms/step - loss: 0.2432 - accuracy: 0.8954 - val_loss: 0.5534 - val_accuracy: 0.7383\n",
            "Epoch 59/100\n",
            "225/225 [==============================] - 2s 7ms/step - loss: 0.2360 - accuracy: 0.9000 - val_loss: 0.5559 - val_accuracy: 0.7417\n",
            "Epoch 60/100\n",
            "225/225 [==============================] - 1s 7ms/step - loss: 0.2403 - accuracy: 0.9003 - val_loss: 0.5564 - val_accuracy: 0.7406\n",
            "Epoch 61/100\n",
            "225/225 [==============================] - 2s 7ms/step - loss: 0.2416 - accuracy: 0.8952 - val_loss: 0.5556 - val_accuracy: 0.7450\n",
            "Epoch 62/100\n",
            "225/225 [==============================] - 2s 7ms/step - loss: 0.2329 - accuracy: 0.9014 - val_loss: 0.5615 - val_accuracy: 0.7411\n",
            "Epoch 63/100\n",
            "225/225 [==============================] - 2s 7ms/step - loss: 0.2304 - accuracy: 0.8970 - val_loss: 0.5665 - val_accuracy: 0.7372\n",
            "Epoch 64/100\n",
            "225/225 [==============================] - 1s 7ms/step - loss: 0.2472 - accuracy: 0.8929 - val_loss: 0.5668 - val_accuracy: 0.7361\n",
            "Epoch 65/100\n",
            "225/225 [==============================] - 2s 7ms/step - loss: 0.2189 - accuracy: 0.9080 - val_loss: 0.5696 - val_accuracy: 0.7344\n",
            "Epoch 66/100\n",
            "225/225 [==============================] - 1s 7ms/step - loss: 0.2269 - accuracy: 0.9110 - val_loss: 0.5705 - val_accuracy: 0.7400\n",
            "Epoch 67/100\n",
            "225/225 [==============================] - 2s 7ms/step - loss: 0.2208 - accuracy: 0.9134 - val_loss: 0.5766 - val_accuracy: 0.7400\n",
            "Epoch 68/100\n",
            "225/225 [==============================] - 2s 7ms/step - loss: 0.2132 - accuracy: 0.9086 - val_loss: 0.5779 - val_accuracy: 0.7394\n",
            "Epoch 69/100\n",
            "225/225 [==============================] - 2s 7ms/step - loss: 0.2068 - accuracy: 0.9164 - val_loss: 0.5805 - val_accuracy: 0.7367\n",
            "Epoch 70/100\n",
            "225/225 [==============================] - 2s 7ms/step - loss: 0.2054 - accuracy: 0.9167 - val_loss: 0.5831 - val_accuracy: 0.7350\n",
            "Epoch 71/100\n",
            "225/225 [==============================] - 2s 7ms/step - loss: 0.1876 - accuracy: 0.9224 - val_loss: 0.5845 - val_accuracy: 0.7389\n",
            "Epoch 72/100\n",
            "225/225 [==============================] - 2s 7ms/step - loss: 0.2012 - accuracy: 0.9175 - val_loss: 0.5921 - val_accuracy: 0.7389\n",
            "Epoch 73/100\n",
            "225/225 [==============================] - 1s 7ms/step - loss: 0.1944 - accuracy: 0.9232 - val_loss: 0.5918 - val_accuracy: 0.7356\n",
            "Epoch 74/100\n",
            "225/225 [==============================] - 1s 7ms/step - loss: 0.2022 - accuracy: 0.9175 - val_loss: 0.5922 - val_accuracy: 0.7383\n",
            "Epoch 75/100\n",
            "225/225 [==============================] - 1s 7ms/step - loss: 0.2016 - accuracy: 0.9195 - val_loss: 0.5938 - val_accuracy: 0.7406\n",
            "Epoch 76/100\n",
            "225/225 [==============================] - 2s 7ms/step - loss: 0.1877 - accuracy: 0.9259 - val_loss: 0.5995 - val_accuracy: 0.7378\n",
            "Epoch 77/100\n",
            "225/225 [==============================] - 2s 7ms/step - loss: 0.1990 - accuracy: 0.9209 - val_loss: 0.5973 - val_accuracy: 0.7389\n",
            "Epoch 78/100\n",
            "225/225 [==============================] - 2s 7ms/step - loss: 0.1722 - accuracy: 0.9315 - val_loss: 0.6035 - val_accuracy: 0.7317\n",
            "Epoch 79/100\n",
            "225/225 [==============================] - 1s 7ms/step - loss: 0.1844 - accuracy: 0.9248 - val_loss: 0.6035 - val_accuracy: 0.7389\n",
            "Epoch 80/100\n",
            "225/225 [==============================] - 2s 7ms/step - loss: 0.1817 - accuracy: 0.9264 - val_loss: 0.6055 - val_accuracy: 0.7383\n",
            "Epoch 81/100\n",
            "225/225 [==============================] - 1s 7ms/step - loss: 0.1772 - accuracy: 0.9299 - val_loss: 0.6066 - val_accuracy: 0.7339\n",
            "Epoch 82/100\n",
            "225/225 [==============================] - 1s 7ms/step - loss: 0.1843 - accuracy: 0.9200 - val_loss: 0.6079 - val_accuracy: 0.7350\n",
            "Epoch 83/100\n",
            "225/225 [==============================] - 2s 7ms/step - loss: 0.1715 - accuracy: 0.9372 - val_loss: 0.6097 - val_accuracy: 0.7367\n",
            "Epoch 84/100\n",
            "225/225 [==============================] - 2s 7ms/step - loss: 0.1662 - accuracy: 0.9363 - val_loss: 0.6132 - val_accuracy: 0.7422\n",
            "Epoch 85/100\n",
            "225/225 [==============================] - 2s 7ms/step - loss: 0.1685 - accuracy: 0.9296 - val_loss: 0.6148 - val_accuracy: 0.7356\n",
            "Epoch 86/100\n",
            "225/225 [==============================] - 2s 7ms/step - loss: 0.1698 - accuracy: 0.9332 - val_loss: 0.6195 - val_accuracy: 0.7400\n",
            "Epoch 87/100\n",
            "225/225 [==============================] - 2s 7ms/step - loss: 0.1684 - accuracy: 0.9297 - val_loss: 0.6192 - val_accuracy: 0.7356\n",
            "Epoch 88/100\n",
            "225/225 [==============================] - 2s 7ms/step - loss: 0.1628 - accuracy: 0.9385 - val_loss: 0.6185 - val_accuracy: 0.7389\n",
            "Epoch 89/100\n",
            "225/225 [==============================] - 2s 7ms/step - loss: 0.1574 - accuracy: 0.9398 - val_loss: 0.6239 - val_accuracy: 0.7439\n",
            "Epoch 90/100\n",
            "225/225 [==============================] - 1s 7ms/step - loss: 0.1587 - accuracy: 0.9357 - val_loss: 0.6237 - val_accuracy: 0.7406\n",
            "Epoch 91/100\n",
            "225/225 [==============================] - 2s 7ms/step - loss: 0.1602 - accuracy: 0.9376 - val_loss: 0.6240 - val_accuracy: 0.7417\n",
            "Epoch 92/100\n",
            "225/225 [==============================] - 1s 7ms/step - loss: 0.1580 - accuracy: 0.9407 - val_loss: 0.6273 - val_accuracy: 0.7422\n",
            "Epoch 93/100\n",
            "225/225 [==============================] - 2s 7ms/step - loss: 0.1520 - accuracy: 0.9480 - val_loss: 0.6305 - val_accuracy: 0.7378\n",
            "Epoch 94/100\n",
            "225/225 [==============================] - 2s 7ms/step - loss: 0.1415 - accuracy: 0.9488 - val_loss: 0.6323 - val_accuracy: 0.7383\n",
            "Epoch 95/100\n",
            "225/225 [==============================] - 2s 7ms/step - loss: 0.1394 - accuracy: 0.9467 - val_loss: 0.6346 - val_accuracy: 0.7422\n",
            "Epoch 96/100\n",
            "225/225 [==============================] - 2s 7ms/step - loss: 0.1471 - accuracy: 0.9452 - val_loss: 0.6338 - val_accuracy: 0.7406\n",
            "Epoch 97/100\n",
            "225/225 [==============================] - 2s 7ms/step - loss: 0.1494 - accuracy: 0.9459 - val_loss: 0.6330 - val_accuracy: 0.7394\n",
            "Epoch 98/100\n",
            "225/225 [==============================] - 2s 7ms/step - loss: 0.1380 - accuracy: 0.9523 - val_loss: 0.6439 - val_accuracy: 0.7350\n",
            "Epoch 99/100\n",
            "225/225 [==============================] - 2s 7ms/step - loss: 0.1424 - accuracy: 0.9476 - val_loss: 0.6404 - val_accuracy: 0.7344\n",
            "Epoch 100/100\n",
            "225/225 [==============================] - 2s 7ms/step - loss: 0.1383 - accuracy: 0.9507 - val_loss: 0.6446 - val_accuracy: 0.7411\n"
          ],
          "name": "stdout"
        }
      ]
    },
    {
      "cell_type": "code",
      "metadata": {
        "colab": {
          "base_uri": "https://localhost:8080/"
        },
        "id": "pSVbNC5U47yX",
        "outputId": "e2590c4d-3ca3-452e-85ba-527ace96c0f8"
      },
      "source": [
        "from sklearn.metrics import confusion_matrix, accuracy_score\n",
        "y_pred = model.predict(X_test) \n",
        "y_pred = (y_pred > 0.5) \n",
        "\n",
        "cmann = confusion_matrix(y_test,y_pred) \n",
        "print(cmann)\n",
        "\n",
        "\n",
        "accuracy = (cmann[0][0]+cmann[1][1])/(cmann[0][1] + cmann[1][0] +cmann[0][0] +cmann[1][1]) \n",
        "print(accuracy*100)"
      ],
      "execution_count": 14,
      "outputs": [
        {
          "output_type": "stream",
          "text": [
            "[[614 289]\n",
            " [177 720]]\n",
            "74.11111111111111\n"
          ],
          "name": "stdout"
        }
      ]
    },
    {
      "cell_type": "code",
      "metadata": {
        "colab": {
          "base_uri": "https://localhost:8080/"
        },
        "id": "3GVYUh-r59ji",
        "outputId": "a3f8bc76-20df-40ab-e24c-9a14cdb9c26c"
      },
      "source": [
        "p = model.predict_proba(X_test)[:,0]\n",
        "from sklearn.metrics import roc_auc_score\n",
        "print(\"AUC = \",roc_auc_score(y_test,p))"
      ],
      "execution_count": 15,
      "outputs": [
        {
          "output_type": "stream",
          "text": [
            "AUC =  0.8269030149717712\n"
          ],
          "name": "stdout"
        },
        {
          "output_type": "stream",
          "text": [
            "/usr/local/lib/python3.7/dist-packages/tensorflow/python/keras/engine/sequential.py:425: UserWarning: `model.predict_proba()` is deprecated and will be removed after 2021-01-01. Please use `model.predict()` instead.\n",
            "  warnings.warn('`model.predict_proba()` is deprecated and '\n"
          ],
          "name": "stderr"
        }
      ]
    },
    {
      "cell_type": "code",
      "metadata": {
        "colab": {
          "base_uri": "https://localhost:8080/"
        },
        "id": "IvJErBjM6E36",
        "outputId": "7bdf1a0a-f248-4094-905f-a314bed86fe2"
      },
      "source": [
        "#Predict on test set\n",
        "predictions_NN_prob = model.predict(X_test)\n",
        "predictions_NN_prob = predictions_NN_prob[:,0]\n",
        "\n",
        "predictions_NN_01 = np.where(predictions_NN_prob > 0.5, 1, 0) #Turn probability to 0-1 binary output\n",
        "\n",
        "from sklearn.metrics import roc_auc_score\n",
        "print(\"AUC = \",roc_auc_score(y_test,predictions_NN_01))"
      ],
      "execution_count": 16,
      "outputs": [
        {
          "output_type": "stream",
          "text": [
            "AUC =  0.741315644247899\n"
          ],
          "name": "stdout"
        }
      ]
    },
    {
      "cell_type": "code",
      "metadata": {
        "colab": {
          "base_uri": "https://localhost:8080/"
        },
        "id": "MoWZ2pj46Ksu",
        "outputId": "41172852-1fbe-40e6-ecfe-6cee497289e1"
      },
      "source": [
        "## AUPR score\n",
        "from sklearn.metrics import average_precision_score\n",
        "aupr=average_precision_score(y_test,model.predict(X_test)[:,0])\n",
        "#model.predict()  ## unara warning dise je...predict_proba()\n",
        "#UserWarning: `model.predict_proba()` is deprecated and will be removed after 2021-01-01. Please use `model.predict()` instead\n",
        "aupr"
      ],
      "execution_count": 17,
      "outputs": [
        {
          "output_type": "execute_result",
          "data": {
            "text/plain": [
              "0.826570621239973"
            ]
          },
          "metadata": {
            "tags": []
          },
          "execution_count": 17
        }
      ]
    },
    {
      "cell_type": "code",
      "metadata": {
        "colab": {
          "base_uri": "https://localhost:8080/"
        },
        "id": "MEEFo6kQ6dd9",
        "outputId": "811a7c17-4cfc-4b0b-f89b-a470ccab13aa"
      },
      "source": [
        "from sklearn.metrics import average_precision_score\n",
        "print(\"AUPR = \",average_precision_score(y_test,predictions_NN_01))"
      ],
      "execution_count": 18,
      "outputs": [
        {
          "output_type": "stream",
          "text": [
            "AUPR =  0.6711048114350997\n"
          ],
          "name": "stdout"
        }
      ]
    },
    {
      "cell_type": "code",
      "metadata": {
        "colab": {
          "base_uri": "https://localhost:8080/"
        },
        "id": "VlNIJi8C6hRq",
        "outputId": "1ba53345-c57b-401a-caa6-d357c0f638ab"
      },
      "source": [
        "from sklearn.metrics import matthews_corrcoef,confusion_matrix\n",
        "matthews_corrcoef(y_test,y_pred)"
      ],
      "execution_count": 19,
      "outputs": [
        {
          "output_type": "execute_result",
          "data": {
            "text/plain": [
              "0.4862076023171909"
            ]
          },
          "metadata": {
            "tags": []
          },
          "execution_count": 19
        }
      ]
    },
    {
      "cell_type": "code",
      "metadata": {
        "colab": {
          "base_uri": "https://localhost:8080/"
        },
        "id": "KMD7vQ0U6k0l",
        "outputId": "6390d806-03e2-47d3-93c2-eafad1c0e954"
      },
      "source": [
        "TP = cmann[0][0]\n",
        "TN = cmann[1][1]\n",
        "FP = cmann[0][1]\n",
        "FN = cmann[1][0]\n",
        "print('True Positives:', TP)\n",
        "print('True Negatives:', TN)\n",
        "print('False Positives:', FP)\n",
        "print('False Negatives:', FN)"
      ],
      "execution_count": 20,
      "outputs": [
        {
          "output_type": "stream",
          "text": [
            "True Positives: 614\n",
            "True Negatives: 720\n",
            "False Positives: 289\n",
            "False Negatives: 177\n"
          ],
          "name": "stdout"
        }
      ]
    },
    {
      "cell_type": "code",
      "metadata": {
        "colab": {
          "base_uri": "https://localhost:8080/"
        },
        "id": "REm84_i06n5t",
        "outputId": "22fb4152-406c-46a5-fae3-18df33b23c1f"
      },
      "source": [
        "sensitivity=(TP/(TP+FN))\n",
        "sensitivity"
      ],
      "execution_count": 21,
      "outputs": [
        {
          "output_type": "execute_result",
          "data": {
            "text/plain": [
              "0.7762326169405815"
            ]
          },
          "metadata": {
            "tags": []
          },
          "execution_count": 21
        }
      ]
    },
    {
      "cell_type": "code",
      "metadata": {
        "colab": {
          "base_uri": "https://localhost:8080/"
        },
        "id": "kITNh4mU6qsq",
        "outputId": "c886226f-44fc-4d86-f303-4d9b91749771"
      },
      "source": [
        "specificity = (TN/(TN+FP))\n",
        "specificity"
      ],
      "execution_count": 22,
      "outputs": [
        {
          "output_type": "execute_result",
          "data": {
            "text/plain": [
              "0.7135777998017839"
            ]
          },
          "metadata": {
            "tags": []
          },
          "execution_count": 22
        }
      ]
    },
    {
      "cell_type": "code",
      "metadata": {
        "colab": {
          "base_uri": "https://localhost:8080/"
        },
        "id": "5k98TGP86tyt",
        "outputId": "7866adf4-1630-44b8-8dd9-e7995b04759e"
      },
      "source": [
        "precision = (TP/(TP+FP))\n",
        "recall = (TP/(TP+FN))\n",
        "print(precision)\n",
        "print(recall)"
      ],
      "execution_count": 23,
      "outputs": [
        {
          "output_type": "stream",
          "text": [
            "0.6799557032115172\n",
            "0.7762326169405815\n"
          ],
          "name": "stdout"
        }
      ]
    },
    {
      "cell_type": "code",
      "metadata": {
        "colab": {
          "base_uri": "https://localhost:8080/"
        },
        "id": "DGwth45q6wBv",
        "outputId": "e94b6f6b-a0ae-4e13-bf02-b19fa78b19ae"
      },
      "source": [
        "f1 = (2*(precision*recall))/(precision+recall)\n",
        "f1"
      ],
      "execution_count": 24,
      "outputs": [
        {
          "output_type": "execute_result",
          "data": {
            "text/plain": [
              "0.7249114521841795"
            ]
          },
          "metadata": {
            "tags": []
          },
          "execution_count": 24
        }
      ]
    },
    {
      "cell_type": "code",
      "metadata": {
        "id": "u8TKPTmF6y2f"
      },
      "source": [
        ""
      ],
      "execution_count": null,
      "outputs": []
    }
  ]
}