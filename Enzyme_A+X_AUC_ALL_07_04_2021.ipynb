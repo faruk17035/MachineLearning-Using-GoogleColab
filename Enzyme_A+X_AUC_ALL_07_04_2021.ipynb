{
  "nbformat": 4,
  "nbformat_minor": 0,
  "metadata": {
    "accelerator": "GPU",
    "colab": {
      "name": "Enzyme A+X AUC ALL_07-04-2021.ipynb",
      "provenance": [],
      "authorship_tag": "ABX9TyMVxPXOb4s1xruz8H8RMZy2",
      "include_colab_link": true
    },
    "kernelspec": {
      "display_name": "Python 3",
      "name": "python3"
    },
    "language_info": {
      "name": "python"
    }
  },
  "cells": [
    {
      "cell_type": "markdown",
      "metadata": {
        "id": "view-in-github",
        "colab_type": "text"
      },
      "source": [
        "<a href=\"https://colab.research.google.com/github/faruk17035/MachineLearning-Using-GoogleColab/blob/main/Enzyme_A%2BX_AUC_ALL_07_04_2021.ipynb\" target=\"_parent\"><img src=\"https://colab.research.google.com/assets/colab-badge.svg\" alt=\"Open In Colab\"/></a>"
      ]
    },
    {
      "cell_type": "code",
      "metadata": {
        "id": "flh22csGgeC_"
      },
      "source": [
        "import numpy as np\n",
        "import pandas as pd\n",
        "import tensorflow as tf\n",
        "from tensorflow import keras\n",
        "from tensorflow.keras import Sequential\n",
        "from tensorflow.keras.layers import Flatten, Dense, Dropout, BatchNormalization\n",
        "from tensorflow.keras.layers import Conv1D, MaxPool1D\n",
        "\n",
        "from tensorflow.keras.optimizers import Adam\n",
        "\n",
        "import  seaborn as sns\n",
        "import matplotlib.pyplot as plt\n",
        "from sklearn import datasets, metrics\n",
        "from sklearn.model_selection import train_test_split\n",
        "from sklearn.preprocessing import StandardScaler"
      ],
      "execution_count": null,
      "outputs": []
    },
    {
      "cell_type": "code",
      "metadata": {
        "colab": {
          "base_uri": "https://localhost:8080/"
        },
        "id": "Yqs5rhlwgvEo",
        "outputId": "39916f36-fcf4-4a2c-8f30-90cf18dbb12a"
      },
      "source": [
        "from google.colab import drive \n",
        "drive.mount('/content/gdrive')"
      ],
      "execution_count": null,
      "outputs": [
        {
          "output_type": "stream",
          "text": [
            "Mounted at /content/gdrive\n"
          ],
          "name": "stdout"
        }
      ]
    },
    {
      "cell_type": "code",
      "metadata": {
        "colab": {
          "base_uri": "https://localhost:8080/"
        },
        "id": "pwLS8orogx02",
        "outputId": "2a797c83-b83d-41e8-fd9b-dc0ca0b3c1b3"
      },
      "source": [
        "import pandas as pd\n",
        "from pandas import read_excel\n",
        "file_name = '/content/gdrive/MyDrive/Enzyme A+X.xlsx' \n",
        "df = pd.read_excel(file_name, index_col=0)\n",
        "print(df.head()) # print the first 5 rows"
      ],
      "execution_count": null,
      "outputs": [
        {
          "output_type": "stream",
          "text": [
            "            PubchemFP2  PubchemFP3  PubchemFP4  ...  BiGram399  BiGram400  Target\n",
            "PubchemFP1                                      ...                              \n",
            "1                    1           0           0  ...     3.0730    0.75382       1\n",
            "1                    1           0           0  ...     2.1047    0.93939       1\n",
            "1                    1           1           0  ...     2.1047    0.93939       1\n",
            "1                    1           1           0  ...     2.8391    1.49230       1\n",
            "1                    1           0           0  ...     1.8568    1.73260       1\n",
            "\n",
            "[5 rows x 1281 columns]\n"
          ],
          "name": "stdout"
        }
      ]
    },
    {
      "cell_type": "code",
      "metadata": {
        "id": "LVguK3pBhHxy"
      },
      "source": [
        "#Split data into independent (X) and dependent(Y) columns\n",
        "\n",
        "y = df['Target'].values\n",
        "X = df.drop('Target', axis=1).values"
      ],
      "execution_count": null,
      "outputs": []
    },
    {
      "cell_type": "code",
      "metadata": {
        "id": "HkpT6zWBhKek"
      },
      "source": [
        "from sklearn.model_selection import train_test_split\n",
        "X_train, X_test, y_train, y_test = train_test_split(X, y, test_size = 0.20, random_state = 10)"
      ],
      "execution_count": null,
      "outputs": []
    },
    {
      "cell_type": "code",
      "metadata": {
        "colab": {
          "base_uri": "https://localhost:8080/"
        },
        "id": "7BX12y9dhNhD",
        "outputId": "0f7fd973-b8de-470c-e236-f2960b2b5416"
      },
      "source": [
        "print(X_train.shape)\n",
        "print(X_test.shape)"
      ],
      "execution_count": null,
      "outputs": [
        {
          "output_type": "stream",
          "text": [
            "(6525, 1280)\n",
            "(1632, 1280)\n"
          ],
          "name": "stdout"
        }
      ]
    },
    {
      "cell_type": "code",
      "metadata": {
        "id": "KHSrMKzKhRwv"
      },
      "source": [
        "scaler = StandardScaler()\n",
        "X_train = scaler.fit_transform(X_train)\n",
        "X_test = scaler.transform(X_test)"
      ],
      "execution_count": null,
      "outputs": []
    },
    {
      "cell_type": "code",
      "metadata": {
        "id": "Gs1A4ixmhVUX"
      },
      "source": [
        "X_train = X_train.reshape(6525, 1280,1)\n",
        "X_test = X_test.reshape(1632, 1280, 1)"
      ],
      "execution_count": null,
      "outputs": []
    },
    {
      "cell_type": "code",
      "metadata": {
        "id": "SGc55dWqhX-N"
      },
      "source": [
        "epochs = 70\n",
        "model = Sequential()\n",
        "model.add(Conv1D(filters=32, kernel_size=4, activation='relu', input_shape = (1280,1)))\n",
        "model.add(BatchNormalization())\n",
        "model.add(Dropout(0.2))\n",
        "\n",
        "model.add(Conv1D(filters=64, kernel_size=4, activation='relu'))\n",
        "model.add(BatchNormalization())\n",
        "model.add(Dropout(0.5))\n",
        "\n",
        "model.add(Flatten())\n",
        "model.add(Dense(64, activation='relu'))\n",
        "model.add(Dropout(0.5))\n",
        "\n",
        "model.add(Dense(1, activation='sigmoid'))"
      ],
      "execution_count": null,
      "outputs": []
    },
    {
      "cell_type": "code",
      "metadata": {
        "id": "5n0CX_VxhdEg"
      },
      "source": [
        "model.compile(optimizer=Adam(lr=0.001), loss = 'binary_crossentropy', metrics=['accuracy'])"
      ],
      "execution_count": null,
      "outputs": []
    },
    {
      "cell_type": "code",
      "metadata": {
        "colab": {
          "background_save": true,
          "base_uri": "https://localhost:8080/"
        },
        "id": "5Fqjq9TEh2N5",
        "outputId": "b24d07da-d418-4faf-f430-1fb3a3fd0854"
      },
      "source": [
        "history = model.fit(X_train, y_train, epochs=epochs, validation_data=(X_test, y_test), verbose=1)"
      ],
      "execution_count": null,
      "outputs": [
        {
          "output_type": "stream",
          "text": [
            "Epoch 1/70\n",
            "204/204 [==============================] - 35s 21ms/step - loss: 1.6232 - accuracy: 0.6794 - val_loss: 0.5912 - val_accuracy: 0.6575\n",
            "Epoch 2/70\n",
            "204/204 [==============================] - 4s 17ms/step - loss: 0.5504 - accuracy: 0.7349 - val_loss: 0.5095 - val_accuracy: 0.7108\n",
            "Epoch 3/70\n",
            "204/204 [==============================] - 4s 17ms/step - loss: 0.4838 - accuracy: 0.7621 - val_loss: 0.4094 - val_accuracy: 0.7641\n",
            "Epoch 4/70\n",
            "204/204 [==============================] - 4s 18ms/step - loss: 0.4736 - accuracy: 0.7457 - val_loss: 0.4298 - val_accuracy: 0.7537\n",
            "Epoch 5/70\n",
            "204/204 [==============================] - 4s 17ms/step - loss: 0.4477 - accuracy: 0.7479 - val_loss: 0.3923 - val_accuracy: 0.7721\n",
            "Epoch 6/70\n",
            "204/204 [==============================] - 4s 17ms/step - loss: 0.4451 - accuracy: 0.7522 - val_loss: 0.3881 - val_accuracy: 0.7702\n",
            "Epoch 7/70\n",
            "204/204 [==============================] - 4s 17ms/step - loss: 0.4456 - accuracy: 0.7494 - val_loss: 0.3730 - val_accuracy: 0.7721\n",
            "Epoch 8/70\n",
            "204/204 [==============================] - 4s 17ms/step - loss: 0.4265 - accuracy: 0.7459 - val_loss: 0.3983 - val_accuracy: 0.7745\n",
            "Epoch 9/70\n",
            "204/204 [==============================] - 4s 18ms/step - loss: 0.4316 - accuracy: 0.7487 - val_loss: 0.3705 - val_accuracy: 0.7678\n",
            "Epoch 10/70\n",
            "204/204 [==============================] - 4s 17ms/step - loss: 0.4170 - accuracy: 0.7596 - val_loss: 0.3734 - val_accuracy: 0.7702\n",
            "Epoch 11/70\n",
            "204/204 [==============================] - 4s 17ms/step - loss: 0.4284 - accuracy: 0.7636 - val_loss: 0.3693 - val_accuracy: 0.7721\n",
            "Epoch 12/70\n",
            "204/204 [==============================] - 4s 17ms/step - loss: 0.4193 - accuracy: 0.7423 - val_loss: 0.3496 - val_accuracy: 0.7721\n",
            "Epoch 13/70\n",
            "204/204 [==============================] - 4s 18ms/step - loss: 0.4017 - accuracy: 0.7610 - val_loss: 0.3476 - val_accuracy: 0.7733\n",
            "Epoch 14/70\n",
            "204/204 [==============================] - 4s 18ms/step - loss: 0.4007 - accuracy: 0.7599 - val_loss: 0.3684 - val_accuracy: 0.7721\n",
            "Epoch 15/70\n",
            "204/204 [==============================] - 4s 17ms/step - loss: 0.4169 - accuracy: 0.7509 - val_loss: 0.3313 - val_accuracy: 0.7757\n",
            "Epoch 16/70\n",
            "204/204 [==============================] - 4s 17ms/step - loss: 0.3953 - accuracy: 0.7561 - val_loss: 0.3350 - val_accuracy: 0.7727\n",
            "Epoch 17/70\n",
            "204/204 [==============================] - 4s 18ms/step - loss: 0.4029 - accuracy: 0.7553 - val_loss: 0.3329 - val_accuracy: 0.7751\n",
            "Epoch 18/70\n",
            "204/204 [==============================] - 4s 18ms/step - loss: 0.4048 - accuracy: 0.7530 - val_loss: 0.3393 - val_accuracy: 0.7714\n",
            "Epoch 19/70\n",
            "204/204 [==============================] - 4s 17ms/step - loss: 0.3861 - accuracy: 0.7599 - val_loss: 0.3466 - val_accuracy: 0.7714\n",
            "Epoch 20/70\n",
            "204/204 [==============================] - 4s 18ms/step - loss: 0.3827 - accuracy: 0.7565 - val_loss: 0.3260 - val_accuracy: 0.7708\n",
            "Epoch 21/70\n",
            "204/204 [==============================] - 4s 18ms/step - loss: 0.3889 - accuracy: 0.7551 - val_loss: 0.3886 - val_accuracy: 0.7757\n",
            "Epoch 22/70\n",
            "204/204 [==============================] - 4s 18ms/step - loss: 0.3806 - accuracy: 0.7746 - val_loss: 0.3178 - val_accuracy: 0.7721\n",
            "Epoch 23/70\n",
            "204/204 [==============================] - 4s 17ms/step - loss: 0.3868 - accuracy: 0.7564 - val_loss: 0.3221 - val_accuracy: 0.7733\n",
            "Epoch 24/70\n",
            "204/204 [==============================] - 4s 17ms/step - loss: 0.3732 - accuracy: 0.7606 - val_loss: 0.3366 - val_accuracy: 0.7721\n",
            "Epoch 25/70\n",
            "204/204 [==============================] - 4s 17ms/step - loss: 0.3705 - accuracy: 0.7641 - val_loss: 0.3301 - val_accuracy: 0.8713\n",
            "Epoch 26/70\n",
            "204/204 [==============================] - 4s 17ms/step - loss: 0.3838 - accuracy: 0.7812 - val_loss: 0.3228 - val_accuracy: 0.8775\n",
            "Epoch 27/70\n",
            "204/204 [==============================] - 4s 17ms/step - loss: 0.3772 - accuracy: 0.7797 - val_loss: 0.3213 - val_accuracy: 0.8805\n",
            "Epoch 28/70\n",
            "204/204 [==============================] - 4s 17ms/step - loss: 0.3676 - accuracy: 0.7830 - val_loss: 0.4527 - val_accuracy: 0.8695\n",
            "Epoch 29/70\n",
            "204/204 [==============================] - 4s 17ms/step - loss: 0.4033 - accuracy: 0.7666 - val_loss: 0.3357 - val_accuracy: 0.8683\n",
            "Epoch 30/70\n",
            "204/204 [==============================] - 4s 17ms/step - loss: 0.3665 - accuracy: 0.7857 - val_loss: 0.3370 - val_accuracy: 0.8732\n",
            "Epoch 31/70\n",
            "204/204 [==============================] - 4s 17ms/step - loss: 0.3675 - accuracy: 0.7774 - val_loss: 0.3329 - val_accuracy: 0.8732\n",
            "Epoch 32/70\n",
            "204/204 [==============================] - 4s 17ms/step - loss: 0.3648 - accuracy: 0.7648 - val_loss: 0.3197 - val_accuracy: 0.8695\n",
            "Epoch 33/70\n",
            "204/204 [==============================] - 4s 17ms/step - loss: 0.3663 - accuracy: 0.7788 - val_loss: 0.3226 - val_accuracy: 0.8725\n",
            "Epoch 34/70\n",
            "204/204 [==============================] - 4s 17ms/step - loss: 0.3639 - accuracy: 0.7752 - val_loss: 0.3151 - val_accuracy: 0.8713\n",
            "Epoch 35/70\n",
            "204/204 [==============================] - 4s 17ms/step - loss: 0.3596 - accuracy: 0.7745 - val_loss: 0.3398 - val_accuracy: 0.8824\n",
            "Epoch 36/70\n",
            "204/204 [==============================] - 4s 17ms/step - loss: 0.3656 - accuracy: 0.7849 - val_loss: 0.3121 - val_accuracy: 0.8836\n",
            "Epoch 37/70\n",
            "204/204 [==============================] - 4s 17ms/step - loss: 0.3695 - accuracy: 0.7912 - val_loss: 0.3171 - val_accuracy: 0.8621\n",
            "Epoch 38/70\n",
            "204/204 [==============================] - 4s 17ms/step - loss: 0.3597 - accuracy: 0.7788 - val_loss: 0.3358 - val_accuracy: 0.8793\n",
            "Epoch 39/70\n",
            "204/204 [==============================] - 4s 17ms/step - loss: 0.3538 - accuracy: 0.7866 - val_loss: 0.3189 - val_accuracy: 0.8713\n",
            "Epoch 40/70\n",
            "204/204 [==============================] - 4s 17ms/step - loss: 0.3549 - accuracy: 0.7819 - val_loss: 0.3067 - val_accuracy: 0.8805\n",
            "Epoch 41/70\n",
            "204/204 [==============================] - 3s 17ms/step - loss: 0.3422 - accuracy: 0.7962 - val_loss: 0.3123 - val_accuracy: 0.8817\n",
            "Epoch 42/70\n",
            "204/204 [==============================] - 4s 17ms/step - loss: 0.3630 - accuracy: 0.7826 - val_loss: 0.3179 - val_accuracy: 0.8854\n",
            "Epoch 43/70\n",
            "204/204 [==============================] - 4s 17ms/step - loss: 0.3433 - accuracy: 0.8029 - val_loss: 0.3042 - val_accuracy: 0.8860\n",
            "Epoch 44/70\n",
            "204/204 [==============================] - 4s 17ms/step - loss: 0.3376 - accuracy: 0.7996 - val_loss: 0.3217 - val_accuracy: 0.8866\n",
            "Epoch 45/70\n",
            "204/204 [==============================] - 4s 17ms/step - loss: 0.3624 - accuracy: 0.7809 - val_loss: 0.3173 - val_accuracy: 0.8824\n",
            "Epoch 46/70\n",
            "204/204 [==============================] - 4s 17ms/step - loss: 0.3335 - accuracy: 0.7986 - val_loss: 0.3170 - val_accuracy: 0.8793\n",
            "Epoch 47/70\n",
            "204/204 [==============================] - 4s 17ms/step - loss: 0.3408 - accuracy: 0.7939 - val_loss: 0.3057 - val_accuracy: 0.8848\n",
            "Epoch 48/70\n",
            "204/204 [==============================] - 4s 17ms/step - loss: 0.3289 - accuracy: 0.8049 - val_loss: 0.3078 - val_accuracy: 0.8811\n",
            "Epoch 49/70\n",
            "204/204 [==============================] - 4s 17ms/step - loss: 0.3255 - accuracy: 0.8108 - val_loss: 0.3002 - val_accuracy: 0.8897\n",
            "Epoch 50/70\n",
            "204/204 [==============================] - 4s 18ms/step - loss: 0.3431 - accuracy: 0.7939 - val_loss: 0.3037 - val_accuracy: 0.8885\n",
            "Epoch 51/70\n",
            "204/204 [==============================] - 3s 17ms/step - loss: 0.3369 - accuracy: 0.8013 - val_loss: 0.3099 - val_accuracy: 0.8879\n",
            "Epoch 52/70\n",
            "204/204 [==============================] - 4s 17ms/step - loss: 0.3290 - accuracy: 0.8051 - val_loss: 0.3200 - val_accuracy: 0.8781\n",
            "Epoch 53/70\n",
            "204/204 [==============================] - 4s 17ms/step - loss: 0.3427 - accuracy: 0.8117 - val_loss: 0.3043 - val_accuracy: 0.8934\n",
            "Epoch 54/70\n",
            "204/204 [==============================] - 4s 17ms/step - loss: 0.3402 - accuracy: 0.8061 - val_loss: 0.3079 - val_accuracy: 0.8848\n",
            "Epoch 55/70\n",
            "204/204 [==============================] - 4s 17ms/step - loss: 0.3207 - accuracy: 0.8144 - val_loss: 0.3033 - val_accuracy: 0.8958\n",
            "Epoch 56/70\n",
            "204/204 [==============================] - 4s 17ms/step - loss: 0.3232 - accuracy: 0.8153 - val_loss: 0.2962 - val_accuracy: 0.9013\n",
            "Epoch 57/70\n",
            "204/204 [==============================] - 4s 17ms/step - loss: 0.3384 - accuracy: 0.8014 - val_loss: 0.3135 - val_accuracy: 0.8897\n",
            "Epoch 58/70\n",
            "204/204 [==============================] - 4s 17ms/step - loss: 0.3275 - accuracy: 0.8255 - val_loss: 0.3038 - val_accuracy: 0.9001\n",
            "Epoch 59/70\n",
            "204/204 [==============================] - 4s 17ms/step - loss: 0.3277 - accuracy: 0.8207 - val_loss: 0.3072 - val_accuracy: 0.8952\n",
            "Epoch 60/70\n",
            "204/204 [==============================] - 4s 17ms/step - loss: 0.3265 - accuracy: 0.8097 - val_loss: 0.3209 - val_accuracy: 0.8670\n",
            "Epoch 61/70\n",
            "204/204 [==============================] - 3s 17ms/step - loss: 0.3204 - accuracy: 0.8144 - val_loss: 0.3005 - val_accuracy: 0.8903\n",
            "Epoch 62/70\n",
            "204/204 [==============================] - 3s 17ms/step - loss: 0.3103 - accuracy: 0.8238 - val_loss: 0.3001 - val_accuracy: 0.8983\n",
            "Epoch 63/70\n",
            "204/204 [==============================] - 4s 17ms/step - loss: 0.3070 - accuracy: 0.8343 - val_loss: 0.2963 - val_accuracy: 0.8989\n",
            "Epoch 64/70\n",
            "204/204 [==============================] - 4s 17ms/step - loss: 0.3120 - accuracy: 0.8310 - val_loss: 0.2945 - val_accuracy: 0.8946\n",
            "Epoch 65/70\n",
            "204/204 [==============================] - 3s 17ms/step - loss: 0.3118 - accuracy: 0.8203 - val_loss: 0.2972 - val_accuracy: 0.8989\n",
            "Epoch 66/70\n",
            "204/204 [==============================] - 4s 17ms/step - loss: 0.3094 - accuracy: 0.8264 - val_loss: 0.2956 - val_accuracy: 0.8805\n",
            "Epoch 67/70\n",
            "204/204 [==============================] - 4s 17ms/step - loss: 0.3152 - accuracy: 0.8384 - val_loss: 0.2876 - val_accuracy: 0.9032\n",
            "Epoch 68/70\n",
            "204/204 [==============================] - 4s 17ms/step - loss: 0.2994 - accuracy: 0.8392 - val_loss: 0.3093 - val_accuracy: 0.8873\n",
            "Epoch 69/70\n",
            "204/204 [==============================] - 4s 17ms/step - loss: 0.2957 - accuracy: 0.8386 - val_loss: 0.2845 - val_accuracy: 0.9026\n",
            "Epoch 70/70\n",
            "204/204 [==============================] - 3s 17ms/step - loss: 0.2842 - accuracy: 0.8454 - val_loss: 0.2839 - val_accuracy: 0.9032\n"
          ],
          "name": "stdout"
        }
      ]
    },
    {
      "cell_type": "code",
      "metadata": {
        "colab": {
          "background_save": true
        },
        "id": "PL4k_H6xh5PF",
        "outputId": "a90d9d67-c257-43c7-88e4-0ea169627cbc"
      },
      "source": [
        "#y_pred = model.predict(X_train).ravel()\n",
        "from sklearn.metrics import roc_curve\n",
        "y_pred_cnn = model.predict(X_test).ravel()\n",
        "fpr_4, tpr_4, thresholds = roc_curve(y_test, y_pred_cnn)\n",
        "from sklearn.metrics import auc\n",
        "auc_score4 = auc(fpr_4, tpr_4)\n",
        "auc_score4"
      ],
      "execution_count": null,
      "outputs": [
        {
          "output_type": "execute_result",
          "data": {
            "text/plain": [
              "0.9509135695979962"
            ]
          },
          "metadata": {
            "tags": []
          },
          "execution_count": 0
        }
      ]
    },
    {
      "cell_type": "code",
      "metadata": {
        "colab": {
          "background_save": true
        },
        "id": "hfPZ7_nijUja"
      },
      "source": [
        "\n",
        "#Split data into independent (X) and dependent(Y) columns\n",
        "\n",
        "Y = df['Target'].values\n",
        "X = df.drop('Target', axis=1).values"
      ],
      "execution_count": null,
      "outputs": []
    },
    {
      "cell_type": "code",
      "metadata": {
        "colab": {
          "background_save": true
        },
        "id": "LEYO6B8tjlt0"
      },
      "source": [
        "from sklearn.model_selection import train_test_split\n",
        "X_train, X_test, y_train, y_test = train_test_split(X, Y, test_size = 0.20, random_state = 0)"
      ],
      "execution_count": null,
      "outputs": []
    },
    {
      "cell_type": "code",
      "metadata": {
        "colab": {
          "background_save": true
        },
        "id": "Q4mKBRaMjoGY"
      },
      "source": [
        "### Feature scaling\n",
        "from sklearn.preprocessing import StandardScaler\n",
        "sc = StandardScaler()\n",
        "X_train = sc.fit_transform(X_train)\n",
        "X_test = sc.transform(X_test)"
      ],
      "execution_count": null,
      "outputs": []
    },
    {
      "cell_type": "code",
      "metadata": {
        "id": "cyV-xWDkjq-4"
      },
      "source": [
        "from sklearn.neighbors import KNeighborsClassifier\n",
        "from xgboost import XGBClassifier\n",
        "from sklearn.metrics import roc_auc_score\n",
        "from sklearn.svm import SVC\n",
        "\n",
        "model1 = KNeighborsClassifier(n_neighbors = 5, metric = 'minkowski', p = 2)\n",
        "model1.fit(X_train, y_train)\n",
        "\n",
        "\n",
        "model2 = SVC(kernel = 'linear',probability=True, random_state = 0)\n",
        "model2.fit(X_train, y_train)\n",
        "\n",
        "model3 = XGBClassifier(random_state=0)\n",
        "model3.fit(X_train, y_train)\n",
        "\n",
        "# predict probabilities\n",
        "pred_prob1 = model1.predict_proba(X_test)\n",
        "pred_prob2 = model2.predict_proba(X_test)\n",
        "pred_prob3 = model3.predict_proba(X_test)\n",
        "\n",
        "from sklearn.metrics import roc_curve\n",
        "\n",
        "# roc curve for models\n",
        "fpr_1, tpr_1, thresh1 = roc_curve(y_test, pred_prob1[:,1], pos_label=1)\n",
        "fpr_2, tpr_2, thresh2 = roc_curve(y_test, pred_prob2[:,1], pos_label=1)\n",
        "fpr_3, tpr_3, thresh3 = roc_curve(y_test, pred_prob3[:,1], pos_label=1)\n",
        "\n",
        "# auc scores\n",
        "auc_score1 = roc_auc_score(y_test, pred_prob1[:,1])\n",
        "auc_score2 = roc_auc_score(y_test, pred_prob2[:,1])\n",
        "auc_score3 = roc_auc_score(y_test, pred_prob3[:,1])"
      ],
      "execution_count": null,
      "outputs": []
    },
    {
      "cell_type": "code",
      "metadata": {
        "id": "yzaTGuxvmvPz"
      },
      "source": [
        "print(auc_score1)\n",
        "print(auc_score2)\n",
        "print(auc_score3)"
      ],
      "execution_count": null,
      "outputs": []
    },
    {
      "cell_type": "code",
      "metadata": {
        "id": "P-AOyQ24j4lF"
      },
      "source": [
        "auc_score1 = 89.20\n",
        "auc_score2 = 85.64\n",
        "auc_score3 = 90.55\n",
        "auc_score4=91.34"
      ],
      "execution_count": null,
      "outputs": []
    },
    {
      "cell_type": "code",
      "metadata": {
        "id": "rv0ERO4GlEyY"
      },
      "source": [
        "sns.set_style(\"white\")\n",
        "plt.figure(figsize=(8,6))\n",
        "\n",
        "plt.plot(fpr_1,tpr_1, color = \"green\", label = \"KNN - %0.2f \" %auc_score1, lw = 5)\n",
        "plt.plot(fpr_2,tpr_2, color = \"orange\", label = \"SVM - %0.2f \" %auc_score2, lw = 5)\n",
        "plt.plot(fpr_3,tpr_3, color = \"red\", label = \"XGBoost - %0.2f \" %auc_score3, lw = 5)\n",
        "plt.plot(fpr_4,tpr_4, color = \"blue\", label = \"CNN - %0.2f \" %auc_score4, lw = 5)\n",
        "\n",
        "plt.plot([0,1], [0,1], color = 'purple', lw=2, linestyle='--')\n",
        "plt.xlabel('False Positive Rate', fontsize = 19)\n",
        "plt.ylabel('True Positive Rate', fontsize=19)\n",
        "plt.title('ENZYME - A+X', fontsize=22)\n",
        "plt.legend(loc = \"lower right\", fontsize=14)\n",
        "\n",
        "plt.xticks(fontsize=13)\n",
        "plt.yticks(fontsize=13)\n",
        "plt.savefig('ROC_all',dpi=300)\n",
        "plt.show()"
      ],
      "execution_count": null,
      "outputs": []
    },
    {
      "cell_type": "code",
      "metadata": {
        "id": "oOyddBeelIim"
      },
      "source": [
        ""
      ],
      "execution_count": null,
      "outputs": []
    }
  ]
}